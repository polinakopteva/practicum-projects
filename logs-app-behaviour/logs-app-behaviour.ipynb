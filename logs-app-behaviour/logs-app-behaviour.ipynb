{
 "cells": [
  {
   "cell_type": "markdown",
   "id": "a5072fab",
   "metadata": {},
   "source": [
    "# Behavior of users of the mobile app based on selling groceries"
   ]
  },
  {
   "cell_type": "markdown",
   "id": "5baa857e",
   "metadata": {},
   "source": [
    "1. [Importing libraries and dataset](#start)   \n",
    "2. [Data preprocessing](#prep)\n",
    "    * [Summary](#sum_prep)\n",
    "3. [Exploratory data analysis](#eda)\n",
    "    * [How many events in logs](#events_in_log)\n",
    "    * [How many users in log?](#users_in_log)\n",
    "    * [How many on average events is visited by one unique user?](#mean_events_per_user_in_log)\n",
    "    * [Time period in logs](#time_period_in_log)\n",
    "    * [The number of events and users in the updated data](#events_and_users_in_update_log)\n",
    "    * [Distribution of users by experiment groups in the updated data](#test_groups_in_update_log)\n",
    "    * [Summary](#sum_analysis)\n",
    "4. [Purchase (customer) funnel](#customer_funnel)\n",
    "    * [Events in log](#events_in_log)\n",
    "    * [The percentage of users who committed each event](#events_per_user)\n",
    "    * [Funnel of events](#funnel)\n",
    "    * [Summary](#sum_customer_funnel)\n",
    "5. [Results of the A/A/B-test experiment](#aab_test)\n",
    "    * [Distribution by experimental groups](#groups_in_aab_test)\n",
    "    * [A/A-test](#aa_test)\n",
    "    * [Distribution of users groups by events](#comparison_aa_test)\n",
    "    * [A/A/B-test: results](#results_aab_test)\n",
    "    * [A/A/B-test: with different alpha level](#p_values_aab_test)\n",
    "    * [Summary](#sum_aab_test)\n",
    "6. [Conclusion](#conclusion)"
   ]
  },
  {
   "cell_type": "markdown",
   "id": "2ce53834",
   "metadata": {},
   "source": [
    "<a id=\"start\"></a>\n",
    "## Importing libraries and dataset"
   ]
  },
  {
   "cell_type": "markdown",
   "id": "a01095bc",
   "metadata": {},
   "source": [
    "Importing the necessary libraries for further work"
   ]
  },
  {
   "cell_type": "code",
   "execution_count": 1,
   "id": "d93786fe",
   "metadata": {},
   "outputs": [],
   "source": [
    "import pandas as pd\n",
    "import numpy as np\n",
    "import seaborn as sns\n",
    "import datetime as dt\n",
    "import scipy.stats as stats\n",
    "from matplotlib import pyplot as plt\n",
    "import plotly.express as px \n",
    "import plotly.graph_objects as go\n",
    "import matplotlib\n",
    "import math"
   ]
  },
  {
   "cell_type": "code",
   "execution_count": 2,
   "id": "1779157f",
   "metadata": {},
   "outputs": [],
   "source": [
    "%config InlineBackend.figure_format = 'retina'\n",
    "matplotlib.style.use('ggplot')"
   ]
  },
  {
   "cell_type": "markdown",
   "id": "08ea460f",
   "metadata": {},
   "source": [
    "Let's read the existing `csv` and create a data frame - `df` \n",
    "\n",
    "Let's output the first five rows"
   ]
  },
  {
   "cell_type": "code",
   "execution_count": 3,
   "id": "5969082d",
   "metadata": {},
   "outputs": [
    {
     "ename": "FileNotFoundError",
     "evalue": "[Errno 2] No such file or directory: 'logs_exp.csv'",
     "output_type": "error",
     "traceback": [
      "\u001b[1;31m---------------------------------------------------------------------------\u001b[0m",
      "\u001b[1;31mFileNotFoundError\u001b[0m                         Traceback (most recent call last)",
      "\u001b[1;32m~\\AppData\\Local\\Temp/ipykernel_40964/3804744809.py\u001b[0m in \u001b[0;36m<module>\u001b[1;34m\u001b[0m\n\u001b[1;32m----> 1\u001b[1;33m \u001b[0mdf\u001b[0m \u001b[1;33m=\u001b[0m \u001b[0mpd\u001b[0m\u001b[1;33m.\u001b[0m\u001b[0mread_csv\u001b[0m\u001b[1;33m(\u001b[0m\u001b[1;34m'logs_exp.csv'\u001b[0m\u001b[1;33m,\u001b[0m \u001b[0mdelimiter\u001b[0m \u001b[1;33m=\u001b[0m\u001b[1;34m'\\t'\u001b[0m\u001b[1;33m)\u001b[0m\u001b[1;33m\u001b[0m\u001b[1;33m\u001b[0m\u001b[0m\n\u001b[0m\u001b[0;32m      2\u001b[0m \u001b[0mdf\u001b[0m\u001b[1;33m.\u001b[0m\u001b[0mhead\u001b[0m\u001b[1;33m(\u001b[0m\u001b[1;33m)\u001b[0m\u001b[1;33m\u001b[0m\u001b[1;33m\u001b[0m\u001b[0m\n",
      "\u001b[1;32m~\\anaconda3\\lib\\site-packages\\pandas\\util\\_decorators.py\u001b[0m in \u001b[0;36mwrapper\u001b[1;34m(*args, **kwargs)\u001b[0m\n\u001b[0;32m    309\u001b[0m                     \u001b[0mstacklevel\u001b[0m\u001b[1;33m=\u001b[0m\u001b[0mstacklevel\u001b[0m\u001b[1;33m,\u001b[0m\u001b[1;33m\u001b[0m\u001b[1;33m\u001b[0m\u001b[0m\n\u001b[0;32m    310\u001b[0m                 )\n\u001b[1;32m--> 311\u001b[1;33m             \u001b[1;32mreturn\u001b[0m \u001b[0mfunc\u001b[0m\u001b[1;33m(\u001b[0m\u001b[1;33m*\u001b[0m\u001b[0margs\u001b[0m\u001b[1;33m,\u001b[0m \u001b[1;33m**\u001b[0m\u001b[0mkwargs\u001b[0m\u001b[1;33m)\u001b[0m\u001b[1;33m\u001b[0m\u001b[1;33m\u001b[0m\u001b[0m\n\u001b[0m\u001b[0;32m    312\u001b[0m \u001b[1;33m\u001b[0m\u001b[0m\n\u001b[0;32m    313\u001b[0m         \u001b[1;32mreturn\u001b[0m \u001b[0mwrapper\u001b[0m\u001b[1;33m\u001b[0m\u001b[1;33m\u001b[0m\u001b[0m\n",
      "\u001b[1;32m~\\anaconda3\\lib\\site-packages\\pandas\\io\\parsers\\readers.py\u001b[0m in \u001b[0;36mread_csv\u001b[1;34m(filepath_or_buffer, sep, delimiter, header, names, index_col, usecols, squeeze, prefix, mangle_dupe_cols, dtype, engine, converters, true_values, false_values, skipinitialspace, skiprows, skipfooter, nrows, na_values, keep_default_na, na_filter, verbose, skip_blank_lines, parse_dates, infer_datetime_format, keep_date_col, date_parser, dayfirst, cache_dates, iterator, chunksize, compression, thousands, decimal, lineterminator, quotechar, quoting, doublequote, escapechar, comment, encoding, encoding_errors, dialect, error_bad_lines, warn_bad_lines, on_bad_lines, delim_whitespace, low_memory, memory_map, float_precision, storage_options)\u001b[0m\n\u001b[0;32m    584\u001b[0m     \u001b[0mkwds\u001b[0m\u001b[1;33m.\u001b[0m\u001b[0mupdate\u001b[0m\u001b[1;33m(\u001b[0m\u001b[0mkwds_defaults\u001b[0m\u001b[1;33m)\u001b[0m\u001b[1;33m\u001b[0m\u001b[1;33m\u001b[0m\u001b[0m\n\u001b[0;32m    585\u001b[0m \u001b[1;33m\u001b[0m\u001b[0m\n\u001b[1;32m--> 586\u001b[1;33m     \u001b[1;32mreturn\u001b[0m \u001b[0m_read\u001b[0m\u001b[1;33m(\u001b[0m\u001b[0mfilepath_or_buffer\u001b[0m\u001b[1;33m,\u001b[0m \u001b[0mkwds\u001b[0m\u001b[1;33m)\u001b[0m\u001b[1;33m\u001b[0m\u001b[1;33m\u001b[0m\u001b[0m\n\u001b[0m\u001b[0;32m    587\u001b[0m \u001b[1;33m\u001b[0m\u001b[0m\n\u001b[0;32m    588\u001b[0m \u001b[1;33m\u001b[0m\u001b[0m\n",
      "\u001b[1;32m~\\anaconda3\\lib\\site-packages\\pandas\\io\\parsers\\readers.py\u001b[0m in \u001b[0;36m_read\u001b[1;34m(filepath_or_buffer, kwds)\u001b[0m\n\u001b[0;32m    480\u001b[0m \u001b[1;33m\u001b[0m\u001b[0m\n\u001b[0;32m    481\u001b[0m     \u001b[1;31m# Create the parser.\u001b[0m\u001b[1;33m\u001b[0m\u001b[1;33m\u001b[0m\u001b[0m\n\u001b[1;32m--> 482\u001b[1;33m     \u001b[0mparser\u001b[0m \u001b[1;33m=\u001b[0m \u001b[0mTextFileReader\u001b[0m\u001b[1;33m(\u001b[0m\u001b[0mfilepath_or_buffer\u001b[0m\u001b[1;33m,\u001b[0m \u001b[1;33m**\u001b[0m\u001b[0mkwds\u001b[0m\u001b[1;33m)\u001b[0m\u001b[1;33m\u001b[0m\u001b[1;33m\u001b[0m\u001b[0m\n\u001b[0m\u001b[0;32m    483\u001b[0m \u001b[1;33m\u001b[0m\u001b[0m\n\u001b[0;32m    484\u001b[0m     \u001b[1;32mif\u001b[0m \u001b[0mchunksize\u001b[0m \u001b[1;32mor\u001b[0m \u001b[0miterator\u001b[0m\u001b[1;33m:\u001b[0m\u001b[1;33m\u001b[0m\u001b[1;33m\u001b[0m\u001b[0m\n",
      "\u001b[1;32m~\\anaconda3\\lib\\site-packages\\pandas\\io\\parsers\\readers.py\u001b[0m in \u001b[0;36m__init__\u001b[1;34m(self, f, engine, **kwds)\u001b[0m\n\u001b[0;32m    809\u001b[0m             \u001b[0mself\u001b[0m\u001b[1;33m.\u001b[0m\u001b[0moptions\u001b[0m\u001b[1;33m[\u001b[0m\u001b[1;34m\"has_index_names\"\u001b[0m\u001b[1;33m]\u001b[0m \u001b[1;33m=\u001b[0m \u001b[0mkwds\u001b[0m\u001b[1;33m[\u001b[0m\u001b[1;34m\"has_index_names\"\u001b[0m\u001b[1;33m]\u001b[0m\u001b[1;33m\u001b[0m\u001b[1;33m\u001b[0m\u001b[0m\n\u001b[0;32m    810\u001b[0m \u001b[1;33m\u001b[0m\u001b[0m\n\u001b[1;32m--> 811\u001b[1;33m         \u001b[0mself\u001b[0m\u001b[1;33m.\u001b[0m\u001b[0m_engine\u001b[0m \u001b[1;33m=\u001b[0m \u001b[0mself\u001b[0m\u001b[1;33m.\u001b[0m\u001b[0m_make_engine\u001b[0m\u001b[1;33m(\u001b[0m\u001b[0mself\u001b[0m\u001b[1;33m.\u001b[0m\u001b[0mengine\u001b[0m\u001b[1;33m)\u001b[0m\u001b[1;33m\u001b[0m\u001b[1;33m\u001b[0m\u001b[0m\n\u001b[0m\u001b[0;32m    812\u001b[0m \u001b[1;33m\u001b[0m\u001b[0m\n\u001b[0;32m    813\u001b[0m     \u001b[1;32mdef\u001b[0m \u001b[0mclose\u001b[0m\u001b[1;33m(\u001b[0m\u001b[0mself\u001b[0m\u001b[1;33m)\u001b[0m\u001b[1;33m:\u001b[0m\u001b[1;33m\u001b[0m\u001b[1;33m\u001b[0m\u001b[0m\n",
      "\u001b[1;32m~\\anaconda3\\lib\\site-packages\\pandas\\io\\parsers\\readers.py\u001b[0m in \u001b[0;36m_make_engine\u001b[1;34m(self, engine)\u001b[0m\n\u001b[0;32m   1038\u001b[0m             )\n\u001b[0;32m   1039\u001b[0m         \u001b[1;31m# error: Too many arguments for \"ParserBase\"\u001b[0m\u001b[1;33m\u001b[0m\u001b[1;33m\u001b[0m\u001b[0m\n\u001b[1;32m-> 1040\u001b[1;33m         \u001b[1;32mreturn\u001b[0m \u001b[0mmapping\u001b[0m\u001b[1;33m[\u001b[0m\u001b[0mengine\u001b[0m\u001b[1;33m]\u001b[0m\u001b[1;33m(\u001b[0m\u001b[0mself\u001b[0m\u001b[1;33m.\u001b[0m\u001b[0mf\u001b[0m\u001b[1;33m,\u001b[0m \u001b[1;33m**\u001b[0m\u001b[0mself\u001b[0m\u001b[1;33m.\u001b[0m\u001b[0moptions\u001b[0m\u001b[1;33m)\u001b[0m  \u001b[1;31m# type: ignore[call-arg]\u001b[0m\u001b[1;33m\u001b[0m\u001b[1;33m\u001b[0m\u001b[0m\n\u001b[0m\u001b[0;32m   1041\u001b[0m \u001b[1;33m\u001b[0m\u001b[0m\n\u001b[0;32m   1042\u001b[0m     \u001b[1;32mdef\u001b[0m \u001b[0m_failover_to_python\u001b[0m\u001b[1;33m(\u001b[0m\u001b[0mself\u001b[0m\u001b[1;33m)\u001b[0m\u001b[1;33m:\u001b[0m\u001b[1;33m\u001b[0m\u001b[1;33m\u001b[0m\u001b[0m\n",
      "\u001b[1;32m~\\anaconda3\\lib\\site-packages\\pandas\\io\\parsers\\c_parser_wrapper.py\u001b[0m in \u001b[0;36m__init__\u001b[1;34m(self, src, **kwds)\u001b[0m\n\u001b[0;32m     49\u001b[0m \u001b[1;33m\u001b[0m\u001b[0m\n\u001b[0;32m     50\u001b[0m         \u001b[1;31m# open handles\u001b[0m\u001b[1;33m\u001b[0m\u001b[1;33m\u001b[0m\u001b[0m\n\u001b[1;32m---> 51\u001b[1;33m         \u001b[0mself\u001b[0m\u001b[1;33m.\u001b[0m\u001b[0m_open_handles\u001b[0m\u001b[1;33m(\u001b[0m\u001b[0msrc\u001b[0m\u001b[1;33m,\u001b[0m \u001b[0mkwds\u001b[0m\u001b[1;33m)\u001b[0m\u001b[1;33m\u001b[0m\u001b[1;33m\u001b[0m\u001b[0m\n\u001b[0m\u001b[0;32m     52\u001b[0m         \u001b[1;32massert\u001b[0m \u001b[0mself\u001b[0m\u001b[1;33m.\u001b[0m\u001b[0mhandles\u001b[0m \u001b[1;32mis\u001b[0m \u001b[1;32mnot\u001b[0m \u001b[1;32mNone\u001b[0m\u001b[1;33m\u001b[0m\u001b[1;33m\u001b[0m\u001b[0m\n\u001b[0;32m     53\u001b[0m \u001b[1;33m\u001b[0m\u001b[0m\n",
      "\u001b[1;32m~\\anaconda3\\lib\\site-packages\\pandas\\io\\parsers\\base_parser.py\u001b[0m in \u001b[0;36m_open_handles\u001b[1;34m(self, src, kwds)\u001b[0m\n\u001b[0;32m    220\u001b[0m         \u001b[0mLet\u001b[0m \u001b[0mthe\u001b[0m \u001b[0mreaders\u001b[0m \u001b[0mopen\u001b[0m \u001b[0mIOHandles\u001b[0m \u001b[0mafter\u001b[0m \u001b[0mthey\u001b[0m \u001b[0mare\u001b[0m \u001b[0mdone\u001b[0m \u001b[1;32mwith\u001b[0m \u001b[0mtheir\u001b[0m \u001b[0mpotential\u001b[0m \u001b[0mraises\u001b[0m\u001b[1;33m.\u001b[0m\u001b[1;33m\u001b[0m\u001b[1;33m\u001b[0m\u001b[0m\n\u001b[0;32m    221\u001b[0m         \"\"\"\n\u001b[1;32m--> 222\u001b[1;33m         self.handles = get_handle(\n\u001b[0m\u001b[0;32m    223\u001b[0m             \u001b[0msrc\u001b[0m\u001b[1;33m,\u001b[0m\u001b[1;33m\u001b[0m\u001b[1;33m\u001b[0m\u001b[0m\n\u001b[0;32m    224\u001b[0m             \u001b[1;34m\"r\"\u001b[0m\u001b[1;33m,\u001b[0m\u001b[1;33m\u001b[0m\u001b[1;33m\u001b[0m\u001b[0m\n",
      "\u001b[1;32m~\\anaconda3\\lib\\site-packages\\pandas\\io\\common.py\u001b[0m in \u001b[0;36mget_handle\u001b[1;34m(path_or_buf, mode, encoding, compression, memory_map, is_text, errors, storage_options)\u001b[0m\n\u001b[0;32m    700\u001b[0m         \u001b[1;32mif\u001b[0m \u001b[0mioargs\u001b[0m\u001b[1;33m.\u001b[0m\u001b[0mencoding\u001b[0m \u001b[1;32mand\u001b[0m \u001b[1;34m\"b\"\u001b[0m \u001b[1;32mnot\u001b[0m \u001b[1;32min\u001b[0m \u001b[0mioargs\u001b[0m\u001b[1;33m.\u001b[0m\u001b[0mmode\u001b[0m\u001b[1;33m:\u001b[0m\u001b[1;33m\u001b[0m\u001b[1;33m\u001b[0m\u001b[0m\n\u001b[0;32m    701\u001b[0m             \u001b[1;31m# Encoding\u001b[0m\u001b[1;33m\u001b[0m\u001b[1;33m\u001b[0m\u001b[0m\n\u001b[1;32m--> 702\u001b[1;33m             handle = open(\n\u001b[0m\u001b[0;32m    703\u001b[0m                 \u001b[0mhandle\u001b[0m\u001b[1;33m,\u001b[0m\u001b[1;33m\u001b[0m\u001b[1;33m\u001b[0m\u001b[0m\n\u001b[0;32m    704\u001b[0m                 \u001b[0mioargs\u001b[0m\u001b[1;33m.\u001b[0m\u001b[0mmode\u001b[0m\u001b[1;33m,\u001b[0m\u001b[1;33m\u001b[0m\u001b[1;33m\u001b[0m\u001b[0m\n",
      "\u001b[1;31mFileNotFoundError\u001b[0m: [Errno 2] No such file or directory: 'logs_exp.csv'"
     ]
    }
   ],
   "source": [
    "df = pd.read_csv('logs_exp.csv', delimiter ='\\t')\n",
    "df.head()"
   ]
  },
  {
   "cell_type": "markdown",
   "id": "4af3c301",
   "metadata": {},
   "source": [
    "Now we're ready to start preprocessing our data"
   ]
  },
  {
   "cell_type": "markdown",
   "id": "fbde82b2",
   "metadata": {},
   "source": [
    "<a id=\"prep\"></a>\n",
    "## Data preprocessing"
   ]
  },
  {
   "cell_type": "markdown",
   "id": "a4032c8f",
   "metadata": {},
   "source": [
    "Rename columns for future"
   ]
  },
  {
   "cell_type": "code",
   "execution_count": null,
   "id": "12107391",
   "metadata": {},
   "outputs": [],
   "source": [
    "df.columns = ['event_name', 'device_id_hash', 'event_timestamp', 'experiment_id']"
   ]
  },
  {
   "cell_type": "markdown",
   "id": "888afa09",
   "metadata": {},
   "source": [
    "### Description of data\n",
    "Each log entry is a user action or event.\n",
    "* `event_name` — event name;\n",
    "* `device_id_hash` — unique user ID;\n",
    "* `event_timestamp` — time of the event;\n",
    "* `experinet_id` — experiment number: **246** and **247** — control groups, and **248** — experimental"
   ]
  },
  {
   "cell_type": "markdown",
   "id": "3cb072dc",
   "metadata": {},
   "source": [
    "Let's add new columns: change type to datetime - `date_time`, and second with only data - `date`"
   ]
  },
  {
   "cell_type": "code",
   "execution_count": null,
   "id": "58994ead",
   "metadata": {},
   "outputs": [],
   "source": [
    "df['date_time'] = pd.to_datetime(df['event_timestamp'], unit='s')\n",
    "df['date'] = df['date_time'].dt.date\n",
    "df.head()"
   ]
  },
  {
   "cell_type": "markdown",
   "id": "761419e5",
   "metadata": {},
   "source": [
    "Let's check the nans and right data types of columns and output information about the dataframe."
   ]
  },
  {
   "cell_type": "code",
   "execution_count": null,
   "id": "9320de4b",
   "metadata": {},
   "outputs": [],
   "source": [
    "df.info()"
   ]
  },
  {
   "cell_type": "markdown",
   "id": "33e91c7e",
   "metadata": {},
   "source": [
    "Remove duplicates"
   ]
  },
  {
   "cell_type": "code",
   "execution_count": null,
   "id": "626b9bf3",
   "metadata": {},
   "outputs": [],
   "source": [
    "df.duplicated().sum()"
   ]
  },
  {
   "cell_type": "code",
   "execution_count": null,
   "id": "46fee3ed",
   "metadata": {},
   "outputs": [],
   "source": [
    "df.drop_duplicates()\n",
    "df.head()"
   ]
  },
  {
   "cell_type": "markdown",
   "id": "0d57d6fe",
   "metadata": {},
   "source": [
    "<a id=\"sum_prep\"></a>\n",
    "### Summary"
   ]
  },
  {
   "cell_type": "markdown",
   "id": "a13b1868",
   "metadata": {},
   "source": [
    "In this section we:\n",
    "* renamed columns for more convenient operation\n",
    "* remove rows with obvious duplicates\n",
    "* created two columns with datetime type of values and with date\n",
    "\n",
    "In general, we processed the data for further work."
   ]
  },
  {
   "cell_type": "markdown",
   "id": "23cefb8a",
   "metadata": {},
   "source": [
    "<a id=\"eda\"></a>\n",
    "## Exploratory data analysis"
   ]
  },
  {
   "cell_type": "markdown",
   "id": "387b9e4b",
   "metadata": {},
   "source": [
    "<a id=\"events_in_log\"></a>\n",
    "### How many events in logs?"
   ]
  },
  {
   "cell_type": "code",
   "execution_count": null,
   "id": "56f0ae66",
   "metadata": {},
   "outputs": [],
   "source": [
    "len(df['event_name'])"
   ]
  },
  {
   "cell_type": "markdown",
   "id": "aa55ed8f",
   "metadata": {},
   "source": [
    "Unique events in log 5 - `MainScreenAppear`, `OffersScreenAppear`, `CartScreenAppear`, `PaymentScreenSuccessful`, `Tutorial`"
   ]
  },
  {
   "cell_type": "code",
   "execution_count": null,
   "id": "5021cff3",
   "metadata": {},
   "outputs": [],
   "source": [
    "df['event_name'].nunique()"
   ]
  },
  {
   "cell_type": "markdown",
   "id": "8b2f937a",
   "metadata": {},
   "source": [
    "<a id=\"users_in_log\"></a>\n",
    "### How many users in log?"
   ]
  },
  {
   "cell_type": "markdown",
   "id": "b2fb896b",
   "metadata": {},
   "source": [
    "It's 7551 unique users in dataset"
   ]
  },
  {
   "cell_type": "code",
   "execution_count": null,
   "id": "b64d36d8",
   "metadata": {},
   "outputs": [],
   "source": [
    "df['device_id_hash'].nunique()"
   ]
  },
  {
   "cell_type": "markdown",
   "id": "b3b3e114",
   "metadata": {},
   "source": [
    "<a id=\"mean_events_per_user_in_log\"></a>\n",
    "### How many on average events is visited by one unique user?"
   ]
  },
  {
   "cell_type": "code",
   "execution_count": null,
   "id": "44ad1ade",
   "metadata": {},
   "outputs": [],
   "source": [
    "table = pd.pivot_table(df, values='device_id_hash', index=['event_name'], aggfunc=['nunique', 'count'])\n",
    "table.columns=['unique_users', 'number_of_events']\n",
    "table['mean_events_per_user'] = round(table['number_of_events']/table['unique_users'], 2)\n",
    "table.sort_values(by='number_of_events', ascending=False)"
   ]
  },
  {
   "cell_type": "code",
   "execution_count": null,
   "id": "981e6d14",
   "metadata": {},
   "outputs": [],
   "source": [
    "table = table.reset_index().sort_values(by='number_of_events', ascending=False)\n",
    "\n",
    "fig = go.Figure()\n",
    "fig.add_trace(go.Bar(\n",
    "    x=table['event_name'],\n",
    "    y=table['mean_events_per_user'],\n",
    "    marker_color='#F2B680', \n",
    "    text=table['mean_events_per_user']\n",
    "))\n",
    "fig.update_layout({\n",
    "'plot_bgcolor': 'rgba(0, 0, 0, 0)',\n",
    "'paper_bgcolor': 'rgba(0, 0, 0, 0)',\n",
    "})\n",
    "fig.update_layout(barmode='group', xaxis_tickangle=-45)\n",
    "fig.update_layout(title_text='Average number of events per user',title_y=0.9, title_x=0.5)\n",
    "fig.show()"
   ]
  },
  {
   "cell_type": "markdown",
   "id": "a8e09fef",
   "metadata": {},
   "source": [
    "<a id=\"time_period_in_log\"></a>\n",
    "### Time period in logs"
   ]
  },
  {
   "cell_type": "markdown",
   "id": "f37e36b3",
   "metadata": {},
   "source": [
    "Let's find tha max and the min in time period of logs"
   ]
  },
  {
   "cell_type": "code",
   "execution_count": null,
   "id": "24704305",
   "metadata": {},
   "outputs": [],
   "source": [
    "print('Min date:', df['date'].min())\n",
    "print('Max date:', df['date'].max())"
   ]
  },
  {
   "cell_type": "markdown",
   "id": "24fcfdb6",
   "metadata": {},
   "source": [
    "Plot histogram"
   ]
  },
  {
   "cell_type": "code",
   "execution_count": null,
   "id": "2c7a2294",
   "metadata": {},
   "outputs": [],
   "source": [
    "from scipy import stats\n",
    "def freedman_diaconis(data, returnas=\"width\"):\n",
    "    '''Count right number of bins'''\n",
    "    data = np.asarray(data, dtype=np.float_)\n",
    "    IQR = stats.iqr(data, rng=(25, 75), scale=1.0, nan_policy=\"omit\")\n",
    "    N = data.size\n",
    "    bw = (2 * IQR) / np.power(N, 1/3)\n",
    "\n",
    "    if returnas==\"width\":\n",
    "        result = bw\n",
    "    else:\n",
    "        datmin, datmax = data.min(), data.max()\n",
    "        datrng = datmax - datmin\n",
    "        result = int((datrng / bw) + 1)\n",
    "    return(result)"
   ]
  },
  {
   "cell_type": "code",
   "execution_count": null,
   "id": "93175c1d",
   "metadata": {},
   "outputs": [],
   "source": [
    "NBR_BINS = freedman_diaconis(df['date_time'], returnas=\"bins\")\n",
    "\n",
    "fig, ax = plt.subplots(nrows=1, ncols=1)\n",
    "fig.set_size_inches(13, 8)\n",
    "ax.hist(df['date_time'], NBR_BINS, color= '#F2B680', edgecolor=\"black\", linewidth=1.1)\n",
    "ax.grid(False)\n",
    "ax.set_xlabel('Date', fontsize = 15)\n",
    "ax.set_ylabel('Number of events', fontsize = 15)\n",
    "ax.set_title('Distribution of the number of events by time', fontsize = 17)\n",
    "plt.tight_layout()\n",
    "plt.show()"
   ]
  },
  {
   "cell_type": "markdown",
   "id": "bc77d9df",
   "metadata": {},
   "source": [
    "We can see that we do not have the same complete data for the entire period, since technically, in login days, events from the past \"arrive\" for some users - this shifted the data. \n",
    "\n",
    "On August 1, 2019, the data became complete, and we can discard the data before that date."
   ]
  },
  {
   "cell_type": "code",
   "execution_count": null,
   "id": "163e2c18",
   "metadata": {},
   "outputs": [],
   "source": [
    "df_update = df.query(\"date_time >= '2019-08-01'\")"
   ]
  },
  {
   "cell_type": "markdown",
   "id": "ff00c9af",
   "metadata": {},
   "source": [
    "It turns out that in reality we have data for the period - from 2019-08-01 to 2019-08-07"
   ]
  },
  {
   "cell_type": "code",
   "execution_count": null,
   "id": "641dcf31",
   "metadata": {},
   "outputs": [],
   "source": [
    "print('Min date:', df_update['date'].min())\n",
    "print('Max date:', df_update['date'].max())"
   ]
  },
  {
   "cell_type": "markdown",
   "id": "37d1478e",
   "metadata": {},
   "source": [
    "<a id=\"events_and_users_in_update_log\"></a>\n",
    "### The number of events and users in the updated data"
   ]
  },
  {
   "cell_type": "markdown",
   "id": "aaf22c90",
   "metadata": {},
   "source": [
    "We lost less than 1% of users and less than 2% of events."
   ]
  },
  {
   "cell_type": "code",
   "execution_count": null,
   "id": "447e58bc",
   "metadata": {},
   "outputs": [],
   "source": [
    "x = df['device_id_hash'].nunique() - df_update['device_id_hash'].nunique()\n",
    "print(f'We removed {x} users')\n",
    "print(\"It's\", round(x/df['device_id_hash'].nunique()*100.0, 2), '%')\n",
    "\n",
    "print('')\n",
    "\n",
    "x = len(df['event_name']) - len(df_update['event_name'])\n",
    "print(f'We removed {x} logs')\n",
    "print(\"It's\", round(x/len(df['event_name'])*100.0, 2), '%')"
   ]
  },
  {
   "cell_type": "markdown",
   "id": "e8da735d",
   "metadata": {},
   "source": [
    "<a id=\"test_groups_in_update_log\"></a>\n",
    "### Distribution of users by experiment groups in the updated data"
   ]
  },
  {
   "cell_type": "markdown",
   "id": "d28fc760",
   "metadata": {},
   "source": [
    "Let's check that we have users from all three experimental groups\n",
    "\n",
    "According to our updated data, all groups are represented, while each group accounts for approximately 33% of all users in the log"
   ]
  },
  {
   "cell_type": "code",
   "execution_count": null,
   "id": "74056524",
   "metadata": {},
   "outputs": [],
   "source": [
    "table = pd.pivot_table(df_update, values='device_id_hash', index=['experiment_id'], aggfunc='nunique')\n",
    "\n",
    "table"
   ]
  },
  {
   "cell_type": "code",
   "execution_count": null,
   "id": "d9dd0913",
   "metadata": {},
   "outputs": [],
   "source": [
    "table = table.reset_index()\n",
    "colors = ['#F3E79B', '#FAC484', '#F8A07E']\n",
    "fig = px.pie(table, values='device_id_hash', names='experiment_id', color_discrete_sequence=px.colors.sequential.Sunset)\n",
    "fig.update_layout(\n",
    "    legend=dict(\n",
    "        x=1,\n",
    "        y=1,\n",
    "        traceorder=\"reversed\",\n",
    "        font=dict(\n",
    "            family=\"Arial\",\n",
    "            size=17,\n",
    "            color=\"#361812\"\n",
    "        ),\n",
    "        bgcolor=\"LightGrey\",\n",
    "        bordercolor=\"Black\",\n",
    "        borderwidth=0.5))\n",
    "fig.update_layout({\n",
    "'plot_bgcolor': 'rgba(0, 0, 0, 0)',\n",
    "'paper_bgcolor': 'rgba(0, 0, 0, 0)',\n",
    "})\n",
    "fig.update_traces(hoverinfo='label+value+percent', textinfo='percent', textfont_size=20,\n",
    "                  marker=dict(colors=colors, line=dict(color='#361812', width=2)))\n",
    "fig.update_layout(title_text='Distribution of users by experiment groups in the updated data',title_y=0.95, title_x=0.5)\n",
    "fig.show()"
   ]
  },
  {
   "cell_type": "markdown",
   "id": "1e0f9f3b",
   "metadata": {},
   "source": [
    "<a id=\"sum_analysis\"></a>\n",
    "### Summary"
   ]
  },
  {
   "cell_type": "markdown",
   "id": "c932ddf8",
   "metadata": {},
   "source": [
    "In this section we:\n",
    "* Studied the distribution of data by date and time\n",
    "* Created a dataframe with updated data, cleaned the data from irrelevant (with an \"outdated date\")\n",
    "\n",
    "We will continue the analysis with data for the period from 2019-08-01 to 2019-08-07. In the updated data, each group of the experiment is 33%"
   ]
  },
  {
   "cell_type": "markdown",
   "id": "e733214e",
   "metadata": {},
   "source": [
    "<a id=\"customer_funnel\"></a>\n",
    "## Purchase (customer) funnel"
   ]
  },
  {
   "cell_type": "markdown",
   "id": "80c3598d",
   "metadata": {},
   "source": [
    "<a id=\"events_in_log\"></a>\n",
    "### Events in log"
   ]
  },
  {
   "cell_type": "markdown",
   "id": "3932fb7c",
   "metadata": {},
   "source": [
    "Let's see what events are in the logs, how often they occur and sort them by frequency.\n",
    "\n",
    "The most common event is `MainScreenAppear`, that is, the opening of the main screen"
   ]
  },
  {
   "cell_type": "code",
   "execution_count": null,
   "id": "e98172f3",
   "metadata": {},
   "outputs": [],
   "source": [
    "table = df_update['event_name'].value_counts().to_frame().reset_index()\n",
    "table.columns = ['event_name', 'number_of_events']\n",
    "table"
   ]
  },
  {
   "cell_type": "markdown",
   "id": "c5faedce",
   "metadata": {},
   "source": [
    "<a id=\"events_per_user\"></a>\n",
    "### The percentage of users who committed each event"
   ]
  },
  {
   "cell_type": "markdown",
   "id": "0160ad7f",
   "metadata": {},
   "source": [
    "Let's count how many users committed each of these events and sort them by the number of users. \n",
    "\n",
    "We will also calculate the proportion of users who have ever committed an event."
   ]
  },
  {
   "cell_type": "code",
   "execution_count": null,
   "id": "10897fc7",
   "metadata": {},
   "outputs": [],
   "source": [
    "table = pd.pivot_table(df_update, values='device_id_hash', index=['event_name'], aggfunc=['nunique', 'count'])\n",
    "table.columns=['unique_users', 'number_of_events']\n",
    "table['part_of_all_users'] = round(table['unique_users']/df_update['device_id_hash'].nunique()*100, 2)\n",
    "table.sort_values(by='number_of_events', ascending=False)"
   ]
  },
  {
   "cell_type": "markdown",
   "id": "7c08c9f2",
   "metadata": {},
   "source": [
    "<a id=\"funnel\"></a>\n",
    "### Funnel of events"
   ]
  },
  {
   "cell_type": "markdown",
   "id": "9d7bee88",
   "metadata": {},
   "source": [
    "According to the table, the funnel can be represented as:\n",
    "1. `MainScreenAppear` (main screen) ->\n",
    "2. `OffersScreenAppear` (offers screen) ->\n",
    "3. `CartScreenAppear` (shopping cart screen) ->\n",
    "4. `PaymentScreenSuccessful` (successful payment screen)\n",
    "\n",
    "Much fewer users visited the `Tutorial` stage than at other stages (11% of users visited). We will not take this stage into account when calculating the funnel.\n",
    "\n",
    "Not absolutely all users get to the `MainScreenAppear` event (only 98.5%), which may, for example, indicate that there are other ways to \"walk through the funnel`"
   ]
  },
  {
   "cell_type": "code",
   "execution_count": null,
   "id": "a0887e3a",
   "metadata": {},
   "outputs": [],
   "source": [
    "df_update = df_update.query('event_name != \"Tutorial\"')"
   ]
  },
  {
   "cell_type": "code",
   "execution_count": null,
   "id": "e639304e",
   "metadata": {},
   "outputs": [],
   "source": [
    "table = table.reset_index().sort_values(by='number_of_events', ascending=False)\n",
    "table = table[:4]"
   ]
  },
  {
   "cell_type": "markdown",
   "id": "45fe756b",
   "metadata": {},
   "source": [
    "Let's build a funnel graph"
   ]
  },
  {
   "cell_type": "code",
   "execution_count": null,
   "id": "3130eade",
   "metadata": {},
   "outputs": [],
   "source": [
    "fig = go.Figure(\n",
    "    go.Funnel(\n",
    "    y=table['event_name'],\n",
    "    x=table['unique_users'],\n",
    "    textposition = \"inside\",\n",
    "    textinfo = \"value+percent initial+percent previous\",\n",
    "    opacity = 0.75, marker = {\"color\": [\"#F3E79B\", \"#FAC484\", \"#F8A07E\", \"#F56D53\"],\n",
    "    \"line\": {\"width\": [4, 2, 2, 3, 1, 1], \"color\": [\"#361812\", \"#3792A6\", \"#361812\", \"#361812\"]}},\n",
    "    textfont = {'family': \"sans-serif\", 'size': [16, 16, 16, 16], 'color': [\"#361812\", \"#361812\", \"#361812\", \"#361812\"]},\n",
    "    connector = {\"line\": {\"color\": \"#3792A6\", \"dash\": \"dot\", \"width\": 4}})\n",
    "    )\n",
    "fig.update_layout({\n",
    "'plot_bgcolor': 'rgba(0, 0, 0, 0)',\n",
    "'paper_bgcolor': 'rgba(0, 0, 0, 0)',\n",
    "})\n",
    "fig.update_layout(title_text='Воронка продаж, процент от числа пользователей на первом этапе', title_x=0.5)\n",
    "fig.show() "
   ]
  },
  {
   "cell_type": "markdown",
   "id": "d1b559ce",
   "metadata": {},
   "source": [
    "**What percentage of users goes to the next step of the funnel (from the number of users on the previous one)?**"
   ]
  },
  {
   "cell_type": "code",
   "execution_count": null,
   "id": "42c8b847",
   "metadata": {},
   "outputs": [],
   "source": [
    "funnel = table[['event_name', 'unique_users']].set_index('event_name')\n",
    "funnel = funnel.pct_change()\n",
    "funnel['unique_users'] = round(funnel['unique_users'], 2)\n",
    "funnel.columns = ['share_users_next_step']\n",
    "funnel.fillna(1)"
   ]
  },
  {
   "cell_type": "markdown",
   "id": "5ebf9d34",
   "metadata": {},
   "source": [
    "**At which step do we lose the most users?**\n",
    "* It can be seen that when switching from the main screen (`Main Screen Appears`) to the offers screen (`OffersScreenAppear`), almost **40%** of users \"leave\""
   ]
  },
  {
   "cell_type": "markdown",
   "id": "850e124b",
   "metadata": {},
   "source": [
    "**What percentage of users reaches from the first event to the payment?**\n",
    "\n",
    "* According to the funnel graph, we see that almost half of the users \"reach\" the payment (`PaymentScreenSuccessful`) from the first step - **48%** of the number of users who were on the main screen (`MainScreenAppear`)"
   ]
  },
  {
   "cell_type": "markdown",
   "id": "fb73315c",
   "metadata": {},
   "source": [
    "<a id=\"sum_customer_funnel\"></a>\n",
    "### Summary"
   ]
  },
  {
   "cell_type": "markdown",
   "id": "c3ce87ff",
   "metadata": {},
   "source": [
    "We found out:\n",
    "* **48%** of users from the number of those who were on the home screen reach the purchase\n",
    "* When switching from the main screen (`Main Screen Appears`) to the offers screen (`OffersScreenAppear`), \"leaves\" **38%** of users\n",
    "* Almost **20% does not go from the offer screen (`OffersScreenAppear`) to the cart (`CartScreenAppear`)**\n",
    "* From the shopping cart screen (`CartScreenAppear`) successfully pay (`PaymentScreenSuccessful`) **95%** of users"
   ]
  },
  {
   "cell_type": "markdown",
   "id": "ad156347",
   "metadata": {},
   "source": [
    "<a id=\"aab_test\"></a>\n",
    "## Results of the A/A/B-test experiment"
   ]
  },
  {
   "cell_type": "markdown",
   "id": "bb72d872",
   "metadata": {},
   "source": [
    "<a id=\"groups_in_aab_test\"></a>\n",
    "### Distribution by experimental groups\n",
    "How many users are in each experimental group?"
   ]
  },
  {
   "cell_type": "markdown",
   "id": "386a73bc",
   "metadata": {},
   "source": [
    "The table shows the distribution of unique users by groups"
   ]
  },
  {
   "cell_type": "code",
   "execution_count": null,
   "id": "7965b017",
   "metadata": {},
   "outputs": [],
   "source": [
    "table = pd.pivot_table(df_update, values='device_id_hash', index=['experiment_id'], aggfunc=['nunique'])\n",
    "table.columns = ['number_unique_users']\n",
    "table = table.reset_index()\n",
    "table"
   ]
  },
  {
   "cell_type": "markdown",
   "id": "909ced60",
   "metadata": {},
   "source": [
    "<a id=\"aa_test\"></a>\n",
    "### A/A-test\n",
    "We have 2 control groups for an A/A experiment to check the correctness of all mechanisms and calculations. \n",
    "\n",
    "Let's check whether statistical criteria find the difference between samples `246` and `247'."
   ]
  },
  {
   "cell_type": "code",
   "execution_count": null,
   "id": "3aec6c2a",
   "metadata": {},
   "outputs": [],
   "source": [
    "# form dataframes with data on events and the number of users for each group\n",
    "group_246 = (\n",
    "    df_update[df_update['experiment_id'] == 246]\n",
    "    .groupby('device_id_hash', as_index=False)\n",
    "    .agg({'event_name': pd.Series.nunique})\n",
    ")\n",
    "group_246.columns = ['user', 'number_of_events']\n",
    "\n",
    "group_247 = (\n",
    "    df_update[df_update['experiment_id'] == 247]\n",
    "    .groupby('device_id_hash', as_index=False)\n",
    "    .agg({'event_name': pd.Series.nunique})\n",
    ")\n",
    "group_247.columns = ['user', 'number_of_events'] "
   ]
  },
  {
   "cell_type": "markdown",
   "id": "cc0fbe6e",
   "metadata": {},
   "source": [
    "Let's check the sample means, they should be normally distributed\n",
    "\n",
    "According to the graph, we see that the distribution in both groups is close to normal, this is also shown by the Shapiro-Wilk test. Let's continue the analysis."
   ]
  },
  {
   "cell_type": "code",
   "execution_count": null,
   "id": "f36779f5",
   "metadata": {},
   "outputs": [],
   "source": [
    "# dividing our data into groups so that each value falls into some kind of sample\n",
    "group_246['bucket'] = group_246['user'].apply(lambda x: hash(x) % 100)\n",
    "group_247['bucket'] = group_247['user'].apply(lambda x: hash(x) % 100)\n",
    "# group by the new values and calculate the mean\n",
    "bucket_on = group_246.groupby('bucket')[['number_of_events']].mean()\n",
    "bucket_off = group_247.groupby('bucket')[['number_of_events']].mean()\n",
    "# probability plot\n",
    "plt.figure(figsize=(14, 6))\n",
    "plt.subplot(2,2,1)\n",
    "stats.probplot(bucket_on['number_of_events'], dist='norm', plot=plt)\n",
    "plt.subplot(2,2,2)\n",
    "stats.probplot(bucket_off['number_of_events'], dist='norm', plot=plt)\n",
    "plt.show()"
   ]
  },
  {
   "cell_type": "code",
   "execution_count": null,
   "id": "68c0b1a8",
   "metadata": {},
   "outputs": [],
   "source": [
    "# Shapiro-Wilk test\n",
    "sp = stats.shapiro(bucket_on['number_of_events'])\n",
    "concl = '=> not statistically significant, normal distribution' if sp[1]>0.05 else '=> statistically significant, not a normal distribution' \n",
    "print('Test for normal distibution for 246 group: W = %.3f' % sp[0], ', p-value = %.3f' % sp[1], concl)\n",
    "\n",
    "sp = stats.shapiro(bucket_off['number_of_events'])\n",
    "concl = '=> not statistically significant, normal distribution' if sp[1]>0.05 else '=> statistically significant, not a normal distribution' \n",
    "print('Test for normal distibution for 247 group: W = %.3f' % sp[0], ', p-value = %.3f' % sp[1], concl)"
   ]
  },
  {
   "cell_type": "markdown",
   "id": "f05c342e",
   "metadata": {},
   "source": [
    "Let's check the static significance of hypotheses\n",
    "* H0 - the mean number of events for visitors from groups 246 and 247 is equal to\n",
    "* H1 - the mean number of events for visitors from groups 246 and 247 is not equal\n",
    "\n",
    "Based on the data obtained, we accept the null hypothesis"
   ]
  },
  {
   "cell_type": "code",
   "execution_count": null,
   "id": "27cc15a6",
   "metadata": {},
   "outputs": [],
   "source": [
    "alpha = 0.05\n",
    "\n",
    "for column in ['number_of_events']:\n",
    "    print('For column -', column)\n",
    "    print('Means:', round(group_246[column].mean(),3), 'vs', round(group_247[column].mean(), 3))\n",
    "    print('t-test')\n",
    "    stat, pvalue = stats.ttest_ind(group_246[column], group_247[column])\n",
    "    print('p-value =', round(pvalue,3))\n",
    "    print('Rejecting H0' if alpha > pvalue / 2 else 'Accepting H0')\n",
    "    print()\n",
    "    \n",
    "    print('Mann Witneyu-test')\n",
    "    stat, pvalue = stats.mannwhitneyu(group_246[column], group_247[column], alternative='greater')\n",
    "    print('p-value =', round(pvalue,3))\n",
    "    print('Rejecting H0' if alpha > pvalue else 'Accepting H0')\n",
    "    print()"
   ]
  },
  {
   "cell_type": "markdown",
   "id": "c32c489c",
   "metadata": {},
   "source": [
    "According to the obtained data of the A/A test, the groups do not differ, that is, we made sure that in both groups the target metrics do not have a statistically significant difference. Let's continue the analysis."
   ]
  },
  {
   "cell_type": "markdown",
   "id": "e6d393bc",
   "metadata": {},
   "source": [
    "<a id=\"comparison_aa_test\"></a>\n",
    "### Distribution of users groups by events\n",
    "Let's calculate the number of users who committed each event in each of the control groups, and the proportion of users who committed this event\n",
    "\n",
    "Let's create a function for this"
   ]
  },
  {
   "cell_type": "code",
   "execution_count": null,
   "id": "b23110c8",
   "metadata": {},
   "outputs": [],
   "source": [
    "def groups_by_event(groups, events):\n",
    "    user_all = []\n",
    "    user_event = []\n",
    "    events_tab = []\n",
    "    groups_tab = []\n",
    "    for event in events:\n",
    "        for group in groups:\n",
    "            t_1 = df_update[(df_update['event_name'] == event) & (df_update['experiment_id'] == group)]\n",
    "            b = df_update[df_update['experiment_id'] == group].agg({'device_id_hash':'nunique'})\n",
    "            a = t_1.agg({'device_id_hash':'nunique'})\n",
    "            user_event.append(a[0])\n",
    "            events_tab.append(event)\n",
    "            groups_tab.append(group)\n",
    "            if len(user_all) == 0:\n",
    "                user_all.append(b[0])\n",
    "            else:\n",
    "                user_all.append(user_event[-2])\n",
    "    d = {'group': groups_tab,\n",
    "         'event_name':events_tab, \n",
    "         'users_in_all_group':user_all, \n",
    "         'users_on_event':user_event}\n",
    "    data = pd.DataFrame(data=d)\n",
    "    data = data.sort_values(by='group').reset_index().drop(columns=['index'])\n",
    "    data['share'] = round(data['users_on_event']/data['users_in_all_group']*100,1)\n",
    "    return data"
   ]
  },
  {
   "cell_type": "code",
   "execution_count": null,
   "id": "9a679f4a",
   "metadata": {},
   "outputs": [],
   "source": [
    "list_of_events = ['MainScreenAppear', 'OffersScreenAppear', 'CartScreenAppear', 'PaymentScreenSuccessful']\n",
    "group_246 = groups_by_event([246], list_of_events)\n",
    "group_247 = groups_by_event([247], list_of_events)\n",
    "group_247"
   ]
  },
  {
   "cell_type": "markdown",
   "id": "4dc716be",
   "metadata": {},
   "source": [
    "Let's create a function to check whether the difference between groups is statistically significant using z-score"
   ]
  },
  {
   "cell_type": "markdown",
   "id": "1e3ca3ff",
   "metadata": {},
   "source": [
    "Let's check the static significance of hypotheses\n",
    "* H0 - the number of visitors from groups 246 and 247 at certain events is equal to\n",
    "\n",
    "* H1 - the number of visitors from groups 246 and 247 at certain events is not equal\n",
    "\n",
    "Based on the data obtained, we accept the null hypothesis"
   ]
  },
  {
   "cell_type": "code",
   "execution_count": null,
   "id": "a870dd5d",
   "metadata": {},
   "outputs": [],
   "source": [
    "def testing_z_score(group_1, group_2, alpha):\n",
    "    print('Comparing groups:',group_1.loc[0][0],'&', group_2.loc[0][0])\n",
    "    print('------------------')\n",
    "    for i in range(len(group_1)):\n",
    "        print(group_1.loc[i][3])\n",
    "        print(group_1.loc[i][2])\n",
    "        p1 = group_1.loc[i][3]/group_1.loc[i][2]\n",
    "        print(group_2.loc[i][3])\n",
    "        print(group_2.loc[i][2])\n",
    "        p2 = group_2.loc[i][3]/group_2.loc[i][2]\n",
    "        p1_2 = (group_1.loc[i][3] + group_2.loc[i][3]) / (group_1.loc[i][2] + group_2.loc[i][2])\n",
    "        difference = p2 - p1\n",
    "        z_score = (difference / math.sqrt(p1_2*(1 - p1_2)\n",
    "                                    * (1/group_1.loc[i][2] + 1/group_2.loc[i][2])))\n",
    "        p_value = round(stats.norm.sf(abs(z_score))*2,5)\n",
    "        print('Event:', group_1.loc[i][1])\n",
    "        print('р-value:', p_value)\n",
    "        if (p_value < alpha):\n",
    "            print(\"Significant difference\")\n",
    "        else: \n",
    "            print(\"No difference\")\n",
    "        print('------------------')\n",
    "            \n",
    "testing_z_score(group_246, group_247, alpha)            "
   ]
  },
  {
   "cell_type": "markdown",
   "id": "d3732cbc",
   "metadata": {},
   "source": [
    "**Is it possible to say that the splitting into groups works correctly?**\n",
    "\n",
    "Yes, there is no statistically significant difference in all events in the control groups"
   ]
  },
  {
   "cell_type": "markdown",
   "id": "0a5f4ea7",
   "metadata": {},
   "source": [
    "<a id=\"results_aab_test\"></a>\n",
    "### A/A/B-test: results\n",
    "We will do the same with the group with the changed font (`248`). Let's compare the results with each of the control groups separately for each event."
   ]
  },
  {
   "cell_type": "markdown",
   "id": "2a521244",
   "metadata": {},
   "source": [
    "**H0** - there is no difference between the number of users in the control and experimental group at a certain event\n",
    "\n",
    "**H1** - there is a difference between the number of users in the control and experimental group at a certain event"
   ]
  },
  {
   "cell_type": "code",
   "execution_count": null,
   "id": "e64e113e",
   "metadata": {},
   "outputs": [],
   "source": [
    "group_248 = groups_by_event([248], list_of_events)\n",
    "group_248"
   ]
  },
  {
   "cell_type": "code",
   "execution_count": null,
   "id": "e787d002",
   "metadata": {},
   "outputs": [],
   "source": [
    "testing_z_score(group_246, group_248, alpha)"
   ]
  },
  {
   "cell_type": "code",
   "execution_count": null,
   "id": "002d21ac",
   "metadata": {},
   "outputs": [],
   "source": [
    "testing_z_score(group_247, group_248, alpha)"
   ]
  },
  {
   "cell_type": "code",
   "execution_count": null,
   "id": "1239719b",
   "metadata": {},
   "outputs": [],
   "source": [
    "print('Number of control group users on PaymentScreenSuccessful event -', int(group_247[group_247['event_name'] == 'PaymentScreenSuccessful']['users_on_event']))\n",
    "print('Number of experimental group users on PaymentScreenSuccessful event -', int(group_248[group_248['event_name'] == 'PaymentScreenSuccessful']['users_on_event']))\n",
    "print('Difference:', int(group_248[group_248['event_name'] == 'PaymentScreenSuccessful']['users_on_event']) - int(group_247[group_247['event_name'] == 'PaymentScreenSuccessful']['users_on_event']), 'users')"
   ]
  },
  {
   "cell_type": "markdown",
   "id": "3819f9ff",
   "metadata": {},
   "source": [
    "As we can see from the test results, a significant difference is observed only between the groups `247` and `248` at the event `PaymentScreenSuccessful`, that is, we can say that the font change led to a statistically significant increase in the number of users who switched from the shopping cart stage to payment."
   ]
  },
  {
   "cell_type": "markdown",
   "id": "fd93ee79",
   "metadata": {},
   "source": [
    " **Let's compare the results with the combined control group**"
   ]
  },
  {
   "cell_type": "markdown",
   "id": "aa004555",
   "metadata": {},
   "source": [
    "**H0** - there is no difference between the number of users in the combined control and experimental group at a certain event\n",
    "\n",
    "**H1** - there is a difference between the number of users in the combined control and experimental group at a certain event"
   ]
  },
  {
   "cell_type": "markdown",
   "id": "1a7cef6d",
   "metadata": {},
   "source": [
    "Let's create a dataframe with data for both control groups"
   ]
  },
  {
   "cell_type": "code",
   "execution_count": null,
   "id": "69c7fcaf",
   "metadata": {},
   "outputs": [],
   "source": [
    "group_493 = group_246+group_247\n",
    "group_493['event_name'] = group_246['event_name']\n",
    "group_493['share'] = round(group_493['users_on_event']/group_493['users_in_all_group']*100, 1)\n",
    "group_493"
   ]
  },
  {
   "cell_type": "code",
   "execution_count": null,
   "id": "a7a7d4d7",
   "metadata": {},
   "outputs": [],
   "source": [
    "testing_z_score(group_493, group_248, alpha)"
   ]
  },
  {
   "cell_type": "code",
   "execution_count": null,
   "id": "83c53d22",
   "metadata": {},
   "outputs": [],
   "source": [
    "print('The percentage of those who transferred from the basket to the payment in the control group -', int(group_493[group_493['event_name'] == 'PaymentScreenSuccessful']['share']),'%')\n",
    "print('The percentage of those who transferred from the basket to the payment in the experimental group -', int(group_248[group_248['event_name'] == 'PaymentScreenSuccessful']['share']),'%')\n",
    "print('Difference:', int(group_248[group_248['event_name'] == 'PaymentScreenSuccessful']['share']) - int(group_493[group_493['event_name'] == 'PaymentScreenSuccessful']['share']), '%')"
   ]
  },
  {
   "cell_type": "markdown",
   "id": "da146124",
   "metadata": {},
   "source": [
    "Here we also see a statistically significant difference in the increase in the number of people who switched from `CartScreenAppear` to `PaymentScreenSuccessful`"
   ]
  },
  {
   "cell_type": "markdown",
   "id": "a2e8481f",
   "metadata": {},
   "source": [
    "**What conclusions can be drawn from the experiment?**"
   ]
  },
  {
   "cell_type": "markdown",
   "id": "2713f14a",
   "metadata": {},
   "source": [
    "* With the significance stat level equal to 0.05, we observe a significant difference between groups 247 (control) and 248 (experimental) for the transition from the `CartScreenAppear` event to `PaymentScreenSuccessful` (93.5% in the control group, 96% in the experimental group)\n",
    "* A significant difference also between the combined control groups 246 and 247 and the experimental group 248 on the same transition from shopping cart to payment (94% of the percentage in the control group passed, 96% in the experimental group)"
   ]
  },
  {
   "cell_type": "markdown",
   "id": "2e26f073",
   "metadata": {},
   "source": [
    "<a id=\"p_values_aab_test\"></a>\n",
    "### A/A/B-test: with different alpha level\n",
    "When testing the statistical hypotheses above, we used the frequently occurring significance stat level of 0.05."
   ]
  },
  {
   "cell_type": "markdown",
   "id": "a9f64231",
   "metadata": {},
   "source": [
    "Let's look at the test results at other levels of stat significance: at 0.01 and at 0.1.\n",
    "\n",
    "We will conduct a test with statistical significance **`alpha`=0.01**"
   ]
  },
  {
   "cell_type": "markdown",
   "id": "f00c9c3d",
   "metadata": {},
   "source": [
    "**H0** - there is no difference between the number of users in the control and experimental group at a certain event\n",
    "\n",
    "**H1** - there is a difference between the number of users in the control and experimental group at a certain event"
   ]
  },
  {
   "cell_type": "code",
   "execution_count": null,
   "id": "7693873d",
   "metadata": {},
   "outputs": [],
   "source": [
    "alpha = .01"
   ]
  },
  {
   "cell_type": "code",
   "execution_count": null,
   "id": "cb29a14f",
   "metadata": {},
   "outputs": [],
   "source": [
    "testing_z_score(group_246, group_248, alpha)"
   ]
  },
  {
   "cell_type": "code",
   "execution_count": null,
   "id": "471a9d30",
   "metadata": {},
   "outputs": [],
   "source": [
    "testing_z_score(group_247, group_248, alpha)"
   ]
  },
  {
   "cell_type": "markdown",
   "id": "cc025764",
   "metadata": {},
   "source": [
    "**H0** - there is no difference between the number of users in the combined control and experimental group at a certain event\n",
    "\n",
    "**H1** - there is a difference between the number of users in the combined control and experimental group at a certain event"
   ]
  },
  {
   "cell_type": "code",
   "execution_count": null,
   "id": "5f19efa3",
   "metadata": {},
   "outputs": [],
   "source": [
    "testing_z_score(group_493, group_248, alpha)"
   ]
  },
  {
   "cell_type": "markdown",
   "id": "3d2c4b7e",
   "metadata": {},
   "source": [
    "At the level of significance in **0.01** that is, with a decrease in the probability of a first-kind error, only the difference remains statistically significant when comparing the transitions **from the  to the payment** between the control group `247` and the experimental `248`."
   ]
  },
  {
   "cell_type": "markdown",
   "id": "bd25e345",
   "metadata": {},
   "source": [
    "Let's look at the results with statistical significance **`alpha`=0.10**"
   ]
  },
  {
   "cell_type": "markdown",
   "id": "a7bdb0d2",
   "metadata": {},
   "source": [
    "**H0** - there is no difference between the number of users in the control and experimental group at a certain event\n",
    "\n",
    "**H1** - there is a difference between the number of users in the control and experimental group at a certain event"
   ]
  },
  {
   "cell_type": "code",
   "execution_count": null,
   "id": "3ab47d20",
   "metadata": {},
   "outputs": [],
   "source": [
    "alpha = .1"
   ]
  },
  {
   "cell_type": "code",
   "execution_count": null,
   "id": "3e30bedd",
   "metadata": {},
   "outputs": [],
   "source": [
    "testing_z_score(group_246, group_248, alpha)"
   ]
  },
  {
   "cell_type": "code",
   "execution_count": null,
   "id": "2c408047",
   "metadata": {},
   "outputs": [],
   "source": [
    "testing_z_score(group_247, group_248, alpha)"
   ]
  },
  {
   "cell_type": "markdown",
   "id": "2694e3aa",
   "metadata": {},
   "source": [
    "**H0** - there is no difference between the number of users in the combined control and experimental group at a certain event\n",
    "\n",
    "**H1** - there is a difference between the number of users in the combined control and experimental group at a certain event"
   ]
  },
  {
   "cell_type": "code",
   "execution_count": null,
   "id": "348b84b2",
   "metadata": {
    "scrolled": true
   },
   "outputs": [],
   "source": [
    "testing_z_score(group_493, group_248, alpha)"
   ]
  },
  {
   "cell_type": "markdown",
   "id": "4a58847f",
   "metadata": {},
   "source": [
    "With an increase in the probability of an error of the first kind, the same differences remain statistically significant as with *alpha=0.05*"
   ]
  },
  {
   "cell_type": "markdown",
   "id": "cafb8ae0",
   "metadata": {},
   "source": [
    "To avoid the problem of multiple comparisons, we apply the Bonferroni correction"
   ]
  },
  {
   "cell_type": "code",
   "execution_count": null,
   "id": "53702b57",
   "metadata": {},
   "outputs": [],
   "source": [
    "def testing_z_score_pvalue(group_1, group_2):\n",
    "    pvalue = []\n",
    "    for i in range(len(group_1)):\n",
    "        p1 = group_1.loc[i][3]/group_1.loc[i][2]\n",
    "        p2 = group_2.loc[i][3]/group_2.loc[i][2]\n",
    "        p1_2 = (group_1.loc[i][3] + group_2.loc[i][3]) / (group_1.loc[i][2] + group_2.loc[i][2])\n",
    "        difference = p2 - p1\n",
    "        z_score = (difference / math.sqrt(p1_2*(1 - p1_2)\n",
    "                                    * (1/group_1.loc[i][2] + 1/group_2.loc[i][2])))\n",
    "        p_value = round(stats.norm.sf(abs(z_score))*2,5)\n",
    "        if p_value > .05:\n",
    "            pvalue.append(p_value)\n",
    "    return pvalue\n",
    "\n",
    "gr246_248 = testing_z_score_pvalue(group_246, group_248)\n",
    "gr247_248 = testing_z_score_pvalue(group_247, group_248)\n",
    "gr439_248 = testing_z_score_pvalue(group_493, group_248)\n",
    "\n",
    "raw_pvalue = gr246_248 + gr247_248 + gr439_248"
   ]
  },
  {
   "cell_type": "code",
   "execution_count": null,
   "id": "cab383c4",
   "metadata": {},
   "outputs": [],
   "source": [
    "from statsmodels.stats.multitest import multipletests\n",
    "\n",
    "alpha = .05\n",
    "\n",
    "rejected, p_adjusted, _, alpha_corrected = multipletests(raw_pvalue, alpha=alpha, \n",
    "                               method='bonferroni', is_sorted=False, returnsorted=False)\n",
    "print(np.sum(rejected))\n",
    "print(alpha_corrected)"
   ]
  },
  {
   "cell_type": "markdown",
   "id": "78bfe74d",
   "metadata": {},
   "source": [
    "Based on the results of the Bonferroni correction, we leave all confirmed alternative hypotheses."
   ]
  },
  {
   "cell_type": "markdown",
   "id": "40b1f24e",
   "metadata": {},
   "source": [
    "<a id=\"sum_aab_test\"></a>\n",
    "### Summary"
   ]
  },
  {
   "cell_type": "markdown",
   "id": "940c6d80",
   "metadata": {},
   "source": [
    "Using the results of the **A/A/B test**, we wanted to find out **will be new font better for the app**. \n",
    "\n",
    "The designers wanted to change the fonts throughout the application, but we came to the conclusion that there is no statistically significant difference in all transitions through the sales funnel. \n",
    "\n",
    "As we can see from the tests:\n",
    "* with a statistical significance of 0.01 (99% probability of error of the first kind) - a significant difference between the control (247) and experimental (248) groups for the transition from the event `CartScreenAppear` to `PaymentScreenSuccessful`\n",
    "\n",
    "    **in the control group, 93.5% switched from the shopping basket to payment, in the experimental group - 96%**\n",
    "    \n",
    "    \n",
    "* with alpha=0.05 - a significant difference remains the significance of the difference of those who moved from the basket to payment, and also the difference between the combined two control group and the experimental group is significant with the same transition from `CartScreenAppear` to `PaymentScreenSuccessful`\n",
    "    \n",
    "    **in the control group, 94% percent passed, in the experimental group - 96%**\n",
    "    \n",
    "    \n",
    "* if the probability of a first-kind error is 90% (stat significance level 0.1) - stat, the difference between groups 247 (control) and 248 (experimental) and the combined control group and 248 is significant when switching from the shopping cart to the successful payment screen"
   ]
  },
  {
   "cell_type": "markdown",
   "id": "7af9de03",
   "metadata": {},
   "source": [
    "<a id=\"conclusion\"></a>\n",
    "## Conclusion"
   ]
  },
  {
   "cell_type": "markdown",
   "id": "c9f5f1fd",
   "metadata": {},
   "source": [
    "Startup sells food. We wanted to find out how the users of our mobile application behave.\n",
    "\n",
    "We studied the sales (customer) funnel and came to the following conclusions:\n",
    "1. The sales funnel is a chain of events: 1) `MainScreenAppear` (main screen) -> \n",
    "2) `OffersScreenAppear` (offers screen) -> 3) `CartScreenAppear` (shopping cart) -> 4) `PaymentScreenSuccessful` (successful payment screen)\n",
    "2. The purchase reaches **48%** of users from the number of those who were on the home screen\n",
    "3. When switching from the main screen (`MainScreenAppear`) to the offers screen (`OffersScreenAppear`), **38%** of users \"leave\"\n",
    "4. Almost **20% does not go from the offer screen (`OffersScreenAppear`) to the shopping cart (`CartScreenAppear`)**\n",
    "5. From the cart(`CartScreenAppear`) successfully pay (`PaymentScreenSuccessful`) **95%** of users\n",
    "\n",
    "According to the results of the A/A/B experiment, this conclusion was obtained:\n",
    "1. There is no need to change the fonr in the entire app, a significant difference in results was observed only between the control (247) and experimental (248) groups for the transition from the CartScreenAppear event to the PaymentScreenSuccessful event (successful payment) and between the combined of the two control groups and the experimental group with the same transition from `CartScreenAppear` to `PaymentScreenSuccessful`\n",
    "\n",
    "**in the control group, 94% switched from the shopping basket to payment, in the experimental group - 96%**\n",
    "\n",
    "It is worth paying attention to the transition from `MainScreenAppear` (main screen) to `OffersScreenAppear` (offers screen)."
   ]
  },
  {
   "cell_type": "markdown",
   "id": "1a65c4a5",
   "metadata": {},
   "source": [
    "## "
   ]
  }
 ],
 "metadata": {
  "ExecuteTimeLog": [
   {
    "duration": 1183,
    "start_time": "2022-05-24T08:33:08.361Z"
   },
   {
    "duration": 10,
    "start_time": "2022-05-24T08:33:09.546Z"
   },
   {
    "duration": 199,
    "start_time": "2022-05-24T08:33:09.557Z"
   },
   {
    "duration": 3,
    "start_time": "2022-05-24T08:33:09.757Z"
   },
   {
    "duration": 94,
    "start_time": "2022-05-24T08:33:09.762Z"
   },
   {
    "duration": 27,
    "start_time": "2022-05-24T08:33:09.857Z"
   },
   {
    "duration": 113,
    "start_time": "2022-05-24T08:33:09.885Z"
   },
   {
    "duration": 143,
    "start_time": "2022-05-24T08:33:09.999Z"
   },
   {
    "duration": 4,
    "start_time": "2022-05-24T08:33:10.143Z"
   },
   {
    "duration": 31,
    "start_time": "2022-05-24T08:33:10.148Z"
   },
   {
    "duration": 7,
    "start_time": "2022-05-24T08:33:10.181Z"
   },
   {
    "duration": 129,
    "start_time": "2022-05-24T08:33:10.189Z"
   },
   {
    "duration": 213,
    "start_time": "2022-05-24T08:33:10.328Z"
   },
   {
    "duration": 30,
    "start_time": "2022-05-24T08:33:10.544Z"
   },
   {
    "duration": 5,
    "start_time": "2022-05-24T08:33:10.615Z"
   },
   {
    "duration": 945,
    "start_time": "2022-05-24T08:33:10.622Z"
   },
   {
    "duration": 15,
    "start_time": "2022-05-24T08:33:11.570Z"
   },
   {
    "duration": 62,
    "start_time": "2022-05-24T08:33:11.587Z"
   },
   {
    "duration": 24,
    "start_time": "2022-05-24T08:33:11.651Z"
   },
   {
    "duration": 65,
    "start_time": "2022-05-24T08:33:11.677Z"
   },
   {
    "duration": 301,
    "start_time": "2022-05-24T08:33:11.747Z"
   },
   {
    "duration": 26,
    "start_time": "2022-05-24T08:33:12.050Z"
   },
   {
    "duration": 110,
    "start_time": "2022-05-24T08:33:12.078Z"
   },
   {
    "duration": 34,
    "start_time": "2022-05-24T08:33:12.190Z"
   },
   {
    "duration": 6,
    "start_time": "2022-05-24T08:33:12.233Z"
   },
   {
    "duration": 43,
    "start_time": "2022-05-24T08:33:12.241Z"
   },
   {
    "duration": 9,
    "start_time": "2022-05-24T08:33:12.286Z"
   },
   {
    "duration": 34,
    "start_time": "2022-05-24T08:33:12.297Z"
   },
   {
    "duration": 46,
    "start_time": "2022-05-24T08:33:12.332Z"
   },
   {
    "duration": 668,
    "start_time": "2022-05-24T08:33:12.380Z"
   },
   {
    "duration": 2,
    "start_time": "2022-05-24T08:33:13.049Z"
   },
   {
    "duration": 318,
    "start_time": "2022-05-24T08:33:13.053Z"
   },
   {
    "duration": 6,
    "start_time": "2022-05-24T08:33:13.372Z"
   },
   {
    "duration": 14,
    "start_time": "2022-05-24T08:33:13.380Z"
   },
   {
    "duration": 120,
    "start_time": "2022-05-24T08:33:13.395Z"
   },
   {
    "duration": 267,
    "start_time": "2022-05-24T08:33:13.517Z"
   },
   {
    "duration": 27,
    "start_time": "2022-05-24T08:33:13.786Z"
   },
   {
    "duration": 136,
    "start_time": "2022-05-24T08:33:13.815Z"
   },
   {
    "duration": 14,
    "start_time": "2022-05-24T08:33:13.953Z"
   },
   {
    "duration": 24,
    "start_time": "2022-05-24T08:33:13.968Z"
   },
   {
    "duration": 20,
    "start_time": "2022-05-24T08:33:13.995Z"
   },
   {
    "duration": 41,
    "start_time": "2022-05-24T08:33:14.017Z"
   },
   {
    "duration": 33,
    "start_time": "2022-05-24T08:33:14.059Z"
   },
   {
    "duration": 18,
    "start_time": "2022-05-24T08:33:14.093Z"
   },
   {
    "duration": 35,
    "start_time": "2022-05-24T08:33:14.116Z"
   },
   {
    "duration": 31,
    "start_time": "2022-05-24T08:33:14.153Z"
   },
   {
    "duration": 29,
    "start_time": "2022-05-24T08:33:14.185Z"
   },
   {
    "duration": 50,
    "start_time": "2022-05-24T08:33:14.218Z"
   },
   {
    "duration": 20,
    "start_time": "2022-05-24T08:33:14.269Z"
   },
   {
    "duration": 27,
    "start_time": "2022-05-24T08:33:14.290Z"
   },
   {
    "duration": 44,
    "start_time": "2022-05-24T08:33:14.319Z"
   },
   {
    "duration": 18,
    "start_time": "2022-05-24T08:33:14.365Z"
   },
   {
    "duration": 1413,
    "start_time": "2022-05-24T08:45:38.418Z"
   },
   {
    "duration": 15,
    "start_time": "2022-05-24T08:45:39.836Z"
   },
   {
    "duration": 196,
    "start_time": "2022-05-24T08:45:39.854Z"
   },
   {
    "duration": 5,
    "start_time": "2022-05-24T08:45:40.054Z"
   },
   {
    "duration": 114,
    "start_time": "2022-05-24T08:45:40.061Z"
   },
   {
    "duration": 39,
    "start_time": "2022-05-24T08:45:40.176Z"
   },
   {
    "duration": 125,
    "start_time": "2022-05-24T08:45:40.223Z"
   },
   {
    "duration": 145,
    "start_time": "2022-05-24T08:45:40.350Z"
   },
   {
    "duration": 4,
    "start_time": "2022-05-24T08:45:40.497Z"
   },
   {
    "duration": 54,
    "start_time": "2022-05-24T08:45:40.514Z"
   },
   {
    "duration": 12,
    "start_time": "2022-05-24T08:45:40.569Z"
   },
   {
    "duration": 121,
    "start_time": "2022-05-24T08:45:40.583Z"
   },
   {
    "duration": 232,
    "start_time": "2022-05-24T08:45:40.713Z"
   },
   {
    "duration": 29,
    "start_time": "2022-05-24T08:45:40.948Z"
   },
   {
    "duration": 11,
    "start_time": "2022-05-24T08:45:41.020Z"
   },
   {
    "duration": 1007,
    "start_time": "2022-05-24T08:45:41.033Z"
   },
   {
    "duration": 19,
    "start_time": "2022-05-24T08:45:42.042Z"
   },
   {
    "duration": 30,
    "start_time": "2022-05-24T08:45:42.063Z"
   },
   {
    "duration": 46,
    "start_time": "2022-05-24T08:45:42.095Z"
   },
   {
    "duration": 50,
    "start_time": "2022-05-24T08:45:42.146Z"
   },
   {
    "duration": 236,
    "start_time": "2022-05-24T08:45:42.198Z"
   },
   {
    "duration": 30,
    "start_time": "2022-05-24T08:45:42.437Z"
   },
   {
    "duration": 109,
    "start_time": "2022-05-24T08:45:42.469Z"
   },
   {
    "duration": 18,
    "start_time": "2022-05-24T08:45:42.579Z"
   },
   {
    "duration": 25,
    "start_time": "2022-05-24T08:45:42.599Z"
   },
   {
    "duration": 38,
    "start_time": "2022-05-24T08:45:42.625Z"
   },
   {
    "duration": 12,
    "start_time": "2022-05-24T08:45:42.665Z"
   },
   {
    "duration": 13,
    "start_time": "2022-05-24T08:45:42.682Z"
   },
   {
    "duration": 57,
    "start_time": "2022-05-24T08:45:42.724Z"
   },
   {
    "duration": 792,
    "start_time": "2022-05-24T08:45:42.782Z"
   },
   {
    "duration": 3,
    "start_time": "2022-05-24T08:45:43.575Z"
   },
   {
    "duration": 329,
    "start_time": "2022-05-24T08:45:43.579Z"
   },
   {
    "duration": 22,
    "start_time": "2022-05-24T08:45:43.912Z"
   },
   {
    "duration": 24,
    "start_time": "2022-05-24T08:45:43.941Z"
   },
   {
    "duration": 116,
    "start_time": "2022-05-24T08:45:43.967Z"
   },
   {
    "duration": 264,
    "start_time": "2022-05-24T08:45:44.085Z"
   },
   {
    "duration": 16,
    "start_time": "2022-05-24T08:45:44.351Z"
   },
   {
    "duration": 170,
    "start_time": "2022-05-24T08:45:44.369Z"
   },
   {
    "duration": 16,
    "start_time": "2022-05-24T08:45:44.540Z"
   },
   {
    "duration": 15,
    "start_time": "2022-05-24T08:45:44.558Z"
   },
   {
    "duration": 8,
    "start_time": "2022-05-24T08:45:44.575Z"
   },
   {
    "duration": 37,
    "start_time": "2022-05-24T08:45:44.585Z"
   },
   {
    "duration": 28,
    "start_time": "2022-05-24T08:45:44.634Z"
   },
   {
    "duration": 20,
    "start_time": "2022-05-24T08:45:44.665Z"
   },
   {
    "duration": 7,
    "start_time": "2022-05-24T08:45:44.688Z"
   },
   {
    "duration": 33,
    "start_time": "2022-05-24T08:45:44.697Z"
   },
   {
    "duration": 28,
    "start_time": "2022-05-24T08:45:44.732Z"
   },
   {
    "duration": 16,
    "start_time": "2022-05-24T08:45:44.761Z"
   },
   {
    "duration": 4,
    "start_time": "2022-05-24T08:45:44.779Z"
   },
   {
    "duration": 56,
    "start_time": "2022-05-24T08:45:44.785Z"
   },
   {
    "duration": 22,
    "start_time": "2022-05-24T08:45:44.844Z"
   },
   {
    "duration": 18,
    "start_time": "2022-05-24T08:45:44.868Z"
   },
   {
    "duration": 1361,
    "start_time": "2022-05-24T09:01:20.044Z"
   },
   {
    "duration": 10,
    "start_time": "2022-05-24T09:01:21.407Z"
   },
   {
    "duration": 717,
    "start_time": "2022-05-24T09:01:21.419Z"
   },
   {
    "duration": 3,
    "start_time": "2022-05-24T09:01:22.138Z"
   },
   {
    "duration": 87,
    "start_time": "2022-05-24T09:01:22.143Z"
   },
   {
    "duration": 34,
    "start_time": "2022-05-24T09:01:22.232Z"
   },
   {
    "duration": 104,
    "start_time": "2022-05-24T09:01:22.268Z"
   },
   {
    "duration": 116,
    "start_time": "2022-05-24T09:01:22.373Z"
   },
   {
    "duration": 4,
    "start_time": "2022-05-24T09:01:22.490Z"
   },
   {
    "duration": 38,
    "start_time": "2022-05-24T09:01:22.496Z"
   },
   {
    "duration": 7,
    "start_time": "2022-05-24T09:01:22.536Z"
   },
   {
    "duration": 103,
    "start_time": "2022-05-24T09:01:22.544Z"
   },
   {
    "duration": 212,
    "start_time": "2022-05-24T09:01:22.648Z"
   },
   {
    "duration": 29,
    "start_time": "2022-05-24T09:01:22.862Z"
   },
   {
    "duration": 66,
    "start_time": "2022-05-24T09:01:22.893Z"
   },
   {
    "duration": 877,
    "start_time": "2022-05-24T09:01:22.961Z"
   },
   {
    "duration": 24,
    "start_time": "2022-05-24T09:01:23.840Z"
   },
   {
    "duration": 28,
    "start_time": "2022-05-24T09:01:23.866Z"
   },
   {
    "duration": 16,
    "start_time": "2022-05-24T09:01:23.896Z"
   },
   {
    "duration": 61,
    "start_time": "2022-05-24T09:01:23.913Z"
   },
   {
    "duration": 249,
    "start_time": "2022-05-24T09:01:23.976Z"
   },
   {
    "duration": 24,
    "start_time": "2022-05-24T09:01:24.226Z"
   },
   {
    "duration": 89,
    "start_time": "2022-05-24T09:01:24.252Z"
   },
   {
    "duration": 28,
    "start_time": "2022-05-24T09:01:24.342Z"
   },
   {
    "duration": 6,
    "start_time": "2022-05-24T09:01:24.371Z"
   },
   {
    "duration": 28,
    "start_time": "2022-05-24T09:01:24.378Z"
   },
   {
    "duration": 12,
    "start_time": "2022-05-24T09:01:24.408Z"
   },
   {
    "duration": 41,
    "start_time": "2022-05-24T09:01:24.424Z"
   },
   {
    "duration": 47,
    "start_time": "2022-05-24T09:01:24.467Z"
   },
   {
    "duration": 654,
    "start_time": "2022-05-24T09:01:24.515Z"
   },
   {
    "duration": 2,
    "start_time": "2022-05-24T09:01:25.171Z"
   },
   {
    "duration": 286,
    "start_time": "2022-05-24T09:01:25.175Z"
   },
   {
    "duration": 6,
    "start_time": "2022-05-24T09:01:25.462Z"
   },
   {
    "duration": 18,
    "start_time": "2022-05-24T09:01:25.469Z"
   },
   {
    "duration": 109,
    "start_time": "2022-05-24T09:01:25.489Z"
   },
   {
    "duration": 213,
    "start_time": "2022-05-24T09:01:25.599Z"
   },
   {
    "duration": 16,
    "start_time": "2022-05-24T09:01:25.813Z"
   },
   {
    "duration": 134,
    "start_time": "2022-05-24T09:01:25.830Z"
   },
   {
    "duration": 14,
    "start_time": "2022-05-24T09:01:25.966Z"
   },
   {
    "duration": 18,
    "start_time": "2022-05-24T09:01:25.982Z"
   },
   {
    "duration": 9,
    "start_time": "2022-05-24T09:01:26.001Z"
   },
   {
    "duration": 18,
    "start_time": "2022-05-24T09:01:26.011Z"
   },
   {
    "duration": 37,
    "start_time": "2022-05-24T09:01:26.030Z"
   },
   {
    "duration": 15,
    "start_time": "2022-05-24T09:01:26.069Z"
   },
   {
    "duration": 13,
    "start_time": "2022-05-24T09:01:26.085Z"
   },
   {
    "duration": 22,
    "start_time": "2022-05-24T09:01:26.100Z"
   },
   {
    "duration": 13,
    "start_time": "2022-05-24T09:01:26.124Z"
   },
   {
    "duration": 27,
    "start_time": "2022-05-24T09:01:26.139Z"
   },
   {
    "duration": 3,
    "start_time": "2022-05-24T09:01:26.167Z"
   },
   {
    "duration": 18,
    "start_time": "2022-05-24T09:01:26.171Z"
   },
   {
    "duration": 12,
    "start_time": "2022-05-24T09:01:26.191Z"
   },
   {
    "duration": 12,
    "start_time": "2022-05-24T09:01:26.205Z"
   },
   {
    "duration": 4,
    "start_time": "2022-05-24T09:02:07.697Z"
   },
   {
    "duration": 12,
    "start_time": "2022-05-24T09:02:07.703Z"
   },
   {
    "duration": 170,
    "start_time": "2022-05-24T09:02:07.716Z"
   },
   {
    "duration": 2,
    "start_time": "2022-05-24T09:02:07.888Z"
   },
   {
    "duration": 93,
    "start_time": "2022-05-24T09:02:07.892Z"
   },
   {
    "duration": 26,
    "start_time": "2022-05-24T09:02:07.988Z"
   },
   {
    "duration": 101,
    "start_time": "2022-05-24T09:02:08.015Z"
   },
   {
    "duration": 106,
    "start_time": "2022-05-24T09:02:08.118Z"
   },
   {
    "duration": 5,
    "start_time": "2022-05-24T09:02:08.225Z"
   },
   {
    "duration": 34,
    "start_time": "2022-05-24T09:02:08.231Z"
   },
   {
    "duration": 8,
    "start_time": "2022-05-24T09:02:08.267Z"
   },
   {
    "duration": 103,
    "start_time": "2022-05-24T09:02:08.278Z"
   },
   {
    "duration": 19,
    "start_time": "2022-05-24T09:02:08.383Z"
   },
   {
    "duration": 33,
    "start_time": "2022-05-24T09:02:08.403Z"
   },
   {
    "duration": 5,
    "start_time": "2022-05-24T09:02:08.458Z"
   },
   {
    "duration": 657,
    "start_time": "2022-05-24T09:02:08.465Z"
   },
   {
    "duration": 14,
    "start_time": "2022-05-24T09:02:09.124Z"
   },
   {
    "duration": 45,
    "start_time": "2022-05-24T09:02:09.139Z"
   },
   {
    "duration": 16,
    "start_time": "2022-05-24T09:02:09.186Z"
   },
   {
    "duration": 57,
    "start_time": "2022-05-24T09:02:09.203Z"
   },
   {
    "duration": 47,
    "start_time": "2022-05-24T09:02:09.261Z"
   },
   {
    "duration": 27,
    "start_time": "2022-05-24T09:02:09.310Z"
   },
   {
    "duration": 85,
    "start_time": "2022-05-24T09:02:09.358Z"
   },
   {
    "duration": 31,
    "start_time": "2022-05-24T09:02:09.445Z"
   },
   {
    "duration": 6,
    "start_time": "2022-05-24T09:02:09.477Z"
   },
   {
    "duration": 16,
    "start_time": "2022-05-24T09:02:10.391Z"
   },
   {
    "duration": 191,
    "start_time": "2022-05-24T09:21:57.532Z"
   },
   {
    "duration": 5,
    "start_time": "2022-05-24T09:28:38.202Z"
   },
   {
    "duration": 26,
    "start_time": "2022-05-24T09:52:32.658Z"
   },
   {
    "duration": 4,
    "start_time": "2022-05-24T09:52:58.838Z"
   },
   {
    "duration": 23,
    "start_time": "2022-05-24T09:55:40.415Z"
   },
   {
    "duration": 4,
    "start_time": "2022-05-24T09:55:41.153Z"
   },
   {
    "duration": 1159,
    "start_time": "2022-05-24T10:01:07.993Z"
   },
   {
    "duration": 9,
    "start_time": "2022-05-24T10:01:09.158Z"
   },
   {
    "duration": 166,
    "start_time": "2022-05-24T10:01:09.169Z"
   },
   {
    "duration": 2,
    "start_time": "2022-05-24T10:01:09.337Z"
   },
   {
    "duration": 87,
    "start_time": "2022-05-24T10:01:09.340Z"
   },
   {
    "duration": 31,
    "start_time": "2022-05-24T10:01:09.428Z"
   },
   {
    "duration": 86,
    "start_time": "2022-05-24T10:01:09.461Z"
   },
   {
    "duration": 115,
    "start_time": "2022-05-24T10:01:09.559Z"
   },
   {
    "duration": 4,
    "start_time": "2022-05-24T10:01:09.675Z"
   },
   {
    "duration": 30,
    "start_time": "2022-05-24T10:01:09.681Z"
   },
   {
    "duration": 6,
    "start_time": "2022-05-24T10:01:09.713Z"
   },
   {
    "duration": 107,
    "start_time": "2022-05-24T10:01:09.720Z"
   },
   {
    "duration": 204,
    "start_time": "2022-05-24T10:01:09.829Z"
   },
   {
    "duration": 31,
    "start_time": "2022-05-24T10:01:10.035Z"
   },
   {
    "duration": 9,
    "start_time": "2022-05-24T10:01:10.067Z"
   },
   {
    "duration": 836,
    "start_time": "2022-05-24T10:01:10.077Z"
   },
   {
    "duration": 15,
    "start_time": "2022-05-24T10:01:10.914Z"
   },
   {
    "duration": 40,
    "start_time": "2022-05-24T10:01:10.931Z"
   },
   {
    "duration": 15,
    "start_time": "2022-05-24T10:01:10.973Z"
   },
   {
    "duration": 49,
    "start_time": "2022-05-24T10:01:10.990Z"
   },
   {
    "duration": 217,
    "start_time": "2022-05-24T10:01:11.041Z"
   },
   {
    "duration": 25,
    "start_time": "2022-05-24T10:01:11.260Z"
   },
   {
    "duration": 99,
    "start_time": "2022-05-24T10:01:11.287Z"
   },
   {
    "duration": 17,
    "start_time": "2022-05-24T10:01:11.387Z"
   },
   {
    "duration": 4,
    "start_time": "2022-05-24T10:01:11.406Z"
   },
   {
    "duration": 23,
    "start_time": "2022-05-24T10:01:11.412Z"
   },
   {
    "duration": 31,
    "start_time": "2022-05-24T10:01:11.436Z"
   },
   {
    "duration": 38,
    "start_time": "2022-05-24T10:01:11.471Z"
   },
   {
    "duration": 645,
    "start_time": "2022-05-24T10:01:11.510Z"
   },
   {
    "duration": 2,
    "start_time": "2022-05-24T10:01:12.158Z"
   },
   {
    "duration": 292,
    "start_time": "2022-05-24T10:01:12.162Z"
   },
   {
    "duration": 5,
    "start_time": "2022-05-24T10:01:12.456Z"
   },
   {
    "duration": 12,
    "start_time": "2022-05-24T10:01:12.462Z"
   },
   {
    "duration": 112,
    "start_time": "2022-05-24T10:01:12.476Z"
   },
   {
    "duration": 231,
    "start_time": "2022-05-24T10:01:12.590Z"
   },
   {
    "duration": 18,
    "start_time": "2022-05-24T10:01:12.823Z"
   },
   {
    "duration": 135,
    "start_time": "2022-05-24T10:01:12.859Z"
   },
   {
    "duration": 15,
    "start_time": "2022-05-24T10:01:12.996Z"
   },
   {
    "duration": 20,
    "start_time": "2022-05-24T10:01:13.013Z"
   },
   {
    "duration": 30,
    "start_time": "2022-05-24T10:01:13.035Z"
   },
   {
    "duration": 22,
    "start_time": "2022-05-24T10:01:13.067Z"
   },
   {
    "duration": 16,
    "start_time": "2022-05-24T10:01:13.091Z"
   },
   {
    "duration": 8,
    "start_time": "2022-05-24T10:01:13.108Z"
   },
   {
    "duration": 6,
    "start_time": "2022-05-24T10:01:13.117Z"
   },
   {
    "duration": 15,
    "start_time": "2022-05-24T10:01:13.124Z"
   },
   {
    "duration": 32,
    "start_time": "2022-05-24T10:01:13.140Z"
   },
   {
    "duration": 19,
    "start_time": "2022-05-24T10:01:13.174Z"
   },
   {
    "duration": 2,
    "start_time": "2022-05-24T10:01:13.195Z"
   },
   {
    "duration": 20,
    "start_time": "2022-05-24T10:01:13.199Z"
   },
   {
    "duration": 13,
    "start_time": "2022-05-24T10:01:13.221Z"
   },
   {
    "duration": 13,
    "start_time": "2022-05-24T10:01:13.260Z"
   },
   {
    "duration": 29,
    "start_time": "2022-05-24T10:01:13.274Z"
   },
   {
    "duration": 17,
    "start_time": "2022-05-24T10:01:13.304Z"
   },
   {
    "duration": 1429,
    "start_time": "2022-05-25T06:46:33.633Z"
   },
   {
    "duration": 10,
    "start_time": "2022-05-25T06:46:35.064Z"
   },
   {
    "duration": 685,
    "start_time": "2022-05-25T06:46:35.075Z"
   },
   {
    "duration": 3,
    "start_time": "2022-05-25T06:46:35.762Z"
   },
   {
    "duration": 100,
    "start_time": "2022-05-25T06:46:35.767Z"
   },
   {
    "duration": 32,
    "start_time": "2022-05-25T06:46:35.869Z"
   },
   {
    "duration": 136,
    "start_time": "2022-05-25T06:46:35.910Z"
   },
   {
    "duration": 141,
    "start_time": "2022-05-25T06:46:36.048Z"
   },
   {
    "duration": 4,
    "start_time": "2022-05-25T06:46:36.191Z"
   },
   {
    "duration": 34,
    "start_time": "2022-05-25T06:46:36.196Z"
   },
   {
    "duration": 28,
    "start_time": "2022-05-25T06:46:36.232Z"
   },
   {
    "duration": 123,
    "start_time": "2022-05-25T06:46:36.261Z"
   },
   {
    "duration": 256,
    "start_time": "2022-05-25T06:46:36.386Z"
   },
   {
    "duration": 31,
    "start_time": "2022-05-25T06:46:36.646Z"
   },
   {
    "duration": 4,
    "start_time": "2022-05-25T06:46:36.679Z"
   },
   {
    "duration": 1077,
    "start_time": "2022-05-25T06:46:36.685Z"
   },
   {
    "duration": 16,
    "start_time": "2022-05-25T06:46:37.774Z"
   },
   {
    "duration": 27,
    "start_time": "2022-05-25T06:46:37.791Z"
   },
   {
    "duration": 17,
    "start_time": "2022-05-25T06:46:37.819Z"
   },
   {
    "duration": 70,
    "start_time": "2022-05-25T06:46:37.838Z"
   },
   {
    "duration": 261,
    "start_time": "2022-05-25T06:46:37.909Z"
   },
   {
    "duration": 28,
    "start_time": "2022-05-25T06:46:38.172Z"
   },
   {
    "duration": 121,
    "start_time": "2022-05-25T06:46:38.202Z"
   },
   {
    "duration": 19,
    "start_time": "2022-05-25T06:46:38.325Z"
   },
   {
    "duration": 14,
    "start_time": "2022-05-25T06:46:38.345Z"
   },
   {
    "duration": 70,
    "start_time": "2022-05-25T06:46:38.361Z"
   },
   {
    "duration": 11,
    "start_time": "2022-05-25T06:46:38.433Z"
   },
   {
    "duration": 61,
    "start_time": "2022-05-25T06:46:38.446Z"
   },
   {
    "duration": 688,
    "start_time": "2022-05-25T06:46:38.509Z"
   },
   {
    "duration": 2,
    "start_time": "2022-05-25T06:46:39.199Z"
   },
   {
    "duration": 289,
    "start_time": "2022-05-25T06:46:39.203Z"
   },
   {
    "duration": 6,
    "start_time": "2022-05-25T06:46:39.494Z"
   },
   {
    "duration": 18,
    "start_time": "2022-05-25T06:46:39.501Z"
   },
   {
    "duration": 112,
    "start_time": "2022-05-25T06:46:39.520Z"
   },
   {
    "duration": 215,
    "start_time": "2022-05-25T06:46:39.634Z"
   },
   {
    "duration": 20,
    "start_time": "2022-05-25T06:46:39.851Z"
   },
   {
    "duration": 120,
    "start_time": "2022-05-25T06:46:39.872Z"
   },
   {
    "duration": 12,
    "start_time": "2022-05-25T06:46:39.994Z"
   },
   {
    "duration": 21,
    "start_time": "2022-05-25T06:46:40.008Z"
   },
   {
    "duration": 30,
    "start_time": "2022-05-25T06:46:40.030Z"
   },
   {
    "duration": 18,
    "start_time": "2022-05-25T06:46:40.066Z"
   },
   {
    "duration": 25,
    "start_time": "2022-05-25T06:46:40.086Z"
   },
   {
    "duration": 11,
    "start_time": "2022-05-25T06:46:40.113Z"
   },
   {
    "duration": 13,
    "start_time": "2022-05-25T06:46:40.126Z"
   },
   {
    "duration": 34,
    "start_time": "2022-05-25T06:46:40.141Z"
   },
   {
    "duration": 15,
    "start_time": "2022-05-25T06:46:40.177Z"
   },
   {
    "duration": 21,
    "start_time": "2022-05-25T06:46:40.194Z"
   },
   {
    "duration": 3,
    "start_time": "2022-05-25T06:46:40.216Z"
   },
   {
    "duration": 44,
    "start_time": "2022-05-25T06:46:40.220Z"
   },
   {
    "duration": 13,
    "start_time": "2022-05-25T06:46:40.266Z"
   },
   {
    "duration": 16,
    "start_time": "2022-05-25T06:46:40.280Z"
   },
   {
    "duration": 25,
    "start_time": "2022-05-25T06:46:40.297Z"
   },
   {
    "duration": 39,
    "start_time": "2022-05-25T06:46:40.324Z"
   },
   {
    "duration": 1246,
    "start_time": "2022-05-25T06:51:44.947Z"
   },
   {
    "duration": 11,
    "start_time": "2022-05-25T06:51:46.195Z"
   },
   {
    "duration": 173,
    "start_time": "2022-05-25T06:51:46.207Z"
   },
   {
    "duration": 3,
    "start_time": "2022-05-25T06:51:46.382Z"
   },
   {
    "duration": 96,
    "start_time": "2022-05-25T06:51:46.388Z"
   },
   {
    "duration": 29,
    "start_time": "2022-05-25T06:51:46.486Z"
   },
   {
    "duration": 111,
    "start_time": "2022-05-25T06:51:46.516Z"
   },
   {
    "duration": 129,
    "start_time": "2022-05-25T06:51:46.628Z"
   },
   {
    "duration": 4,
    "start_time": "2022-05-25T06:51:46.759Z"
   },
   {
    "duration": 62,
    "start_time": "2022-05-25T06:51:46.764Z"
   },
   {
    "duration": 7,
    "start_time": "2022-05-25T06:51:46.828Z"
   },
   {
    "duration": 104,
    "start_time": "2022-05-25T06:51:46.837Z"
   },
   {
    "duration": 222,
    "start_time": "2022-05-25T06:51:46.943Z"
   },
   {
    "duration": 33,
    "start_time": "2022-05-25T06:51:47.167Z"
   },
   {
    "duration": 64,
    "start_time": "2022-05-25T06:51:47.202Z"
   },
   {
    "duration": 871,
    "start_time": "2022-05-25T06:51:47.269Z"
   },
   {
    "duration": 25,
    "start_time": "2022-05-25T06:51:48.142Z"
   },
   {
    "duration": 27,
    "start_time": "2022-05-25T06:51:48.169Z"
   },
   {
    "duration": 17,
    "start_time": "2022-05-25T06:51:48.198Z"
   },
   {
    "duration": 64,
    "start_time": "2022-05-25T06:51:48.217Z"
   },
   {
    "duration": 210,
    "start_time": "2022-05-25T06:51:48.283Z"
   },
   {
    "duration": 25,
    "start_time": "2022-05-25T06:51:48.495Z"
   },
   {
    "duration": 105,
    "start_time": "2022-05-25T06:51:48.521Z"
   },
   {
    "duration": 30,
    "start_time": "2022-05-25T06:51:48.628Z"
   },
   {
    "duration": 5,
    "start_time": "2022-05-25T06:51:48.660Z"
   },
   {
    "duration": 23,
    "start_time": "2022-05-25T06:51:48.667Z"
   },
   {
    "duration": 11,
    "start_time": "2022-05-25T06:51:48.692Z"
   },
   {
    "duration": 65,
    "start_time": "2022-05-25T06:51:48.705Z"
   },
   {
    "duration": 618,
    "start_time": "2022-05-25T06:51:48.772Z"
   },
   {
    "duration": 2,
    "start_time": "2022-05-25T06:51:49.392Z"
   },
   {
    "duration": 270,
    "start_time": "2022-05-25T06:51:49.395Z"
   },
   {
    "duration": 7,
    "start_time": "2022-05-25T06:51:49.667Z"
   },
   {
    "duration": 17,
    "start_time": "2022-05-25T06:51:49.676Z"
   },
   {
    "duration": 122,
    "start_time": "2022-05-25T06:51:49.695Z"
   },
   {
    "duration": 246,
    "start_time": "2022-05-25T06:51:49.818Z"
   },
   {
    "duration": 22,
    "start_time": "2022-05-25T06:51:50.067Z"
   },
   {
    "duration": 168,
    "start_time": "2022-05-25T06:51:50.091Z"
   },
   {
    "duration": 14,
    "start_time": "2022-05-25T06:51:50.261Z"
   },
   {
    "duration": 24,
    "start_time": "2022-05-25T06:51:50.276Z"
   },
   {
    "duration": 9,
    "start_time": "2022-05-25T06:51:50.302Z"
   },
   {
    "duration": 17,
    "start_time": "2022-05-25T06:51:50.314Z"
   },
   {
    "duration": 47,
    "start_time": "2022-05-25T06:51:50.333Z"
   },
   {
    "duration": 31,
    "start_time": "2022-05-25T06:51:50.381Z"
   },
   {
    "duration": 10,
    "start_time": "2022-05-25T06:51:50.417Z"
   },
   {
    "duration": 47,
    "start_time": "2022-05-25T06:51:50.430Z"
   },
   {
    "duration": 31,
    "start_time": "2022-05-25T06:51:50.479Z"
   },
   {
    "duration": 19,
    "start_time": "2022-05-25T06:51:50.511Z"
   },
   {
    "duration": 13,
    "start_time": "2022-05-25T06:51:50.532Z"
   },
   {
    "duration": 26,
    "start_time": "2022-05-25T06:51:50.547Z"
   },
   {
    "duration": 20,
    "start_time": "2022-05-25T06:51:50.575Z"
   },
   {
    "duration": 20,
    "start_time": "2022-05-25T06:51:50.597Z"
   },
   {
    "duration": 54,
    "start_time": "2022-05-25T06:51:50.620Z"
   },
   {
    "duration": 39,
    "start_time": "2022-05-25T06:51:50.676Z"
   }
  ],
  "kernelspec": {
   "display_name": "Python 3 (ipykernel)",
   "language": "python",
   "name": "python3"
  },
  "language_info": {
   "codemirror_mode": {
    "name": "ipython",
    "version": 3
   },
   "file_extension": ".py",
   "mimetype": "text/x-python",
   "name": "python",
   "nbconvert_exporter": "python",
   "pygments_lexer": "ipython3",
   "version": "3.9.7"
  },
  "toc": {
   "base_numbering": 1,
   "nav_menu": {},
   "number_sections": true,
   "sideBar": true,
   "skip_h1_title": true,
   "title_cell": "Table of Contents",
   "title_sidebar": "Contents",
   "toc_cell": false,
   "toc_position": {},
   "toc_section_display": true,
   "toc_window_display": false
  }
 },
 "nbformat": 4,
 "nbformat_minor": 5
}
