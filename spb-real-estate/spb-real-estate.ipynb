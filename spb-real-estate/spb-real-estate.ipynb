{
 "cells": [
  {
   "cell_type": "markdown",
   "metadata": {},
   "source": [
    "# Real-estate in Russia - analysis of real-estate ads"
   ]
  },
  {
   "cell_type": "markdown",
   "metadata": {
    "toc": true
   },
   "source": [
    "1. [Examining data](#start)\n",
    "    * [Summary](#summary_start)   \n",
    "2. [Data preprocessing](#prep)\n",
    "    * [Replace nan, typos and different spellings](#replacing)\n",
    "    * [Adding columns](#add_columns)\n",
    "    * [Remove outliners](#removing)\n",
    "    * [Summary](#summary_prep) \n",
    "3. [EDA](#eda)\n",
    "    * [Exploring area, price, number of rooms and height of ceiling](#explore_area_price_rooms_ceiling)\n",
    "    * [Exploring time of sale](#explore_time)\n",
    "    * [What factors most affect the cost of an apartment?](#explore_factors_price)\n",
    "    * [Summary](#summary_eda)\n",
    "4. [Top-10 localities with a largest number of ads](#top_10_ads)\n",
    "    * [Summary](#summary_top_10_ads)\n",
    "5. [Real estate market in Saint Petesburg](#real_estate_spb)\n",
    "    * [Summary](#summary_real_estate_spb)\n",
    "6. [Apartments in Saint Petersburg center](#spb_center)\n",
    "    * [Summary](#summary_spb_center)\n",
    "7. [Conclusion](#conclusion)\n"
   ]
  },
  {
   "cell_type": "markdown",
   "metadata": {},
   "source": [
    "<a id=\"start\"></a>\n",
    "## Examining data"
   ]
  },
  {
   "cell_type": "markdown",
   "metadata": {},
   "source": [
    "Let's read the data document in `.csv` format, display the first 5 rows, column names and information about the created dataframe"
   ]
  },
  {
   "cell_type": "code",
   "execution_count": 1,
   "metadata": {},
   "outputs": [
    {
     "data": {
      "text/html": [
       "<div>\n",
       "<style scoped>\n",
       "    .dataframe tbody tr th:only-of-type {\n",
       "        vertical-align: middle;\n",
       "    }\n",
       "\n",
       "    .dataframe tbody tr th {\n",
       "        vertical-align: top;\n",
       "    }\n",
       "\n",
       "    .dataframe thead th {\n",
       "        text-align: right;\n",
       "    }\n",
       "</style>\n",
       "<table border=\"1\" class=\"dataframe\">\n",
       "  <thead>\n",
       "    <tr style=\"text-align: right;\">\n",
       "      <th></th>\n",
       "      <th>total_images</th>\n",
       "      <th>last_price</th>\n",
       "      <th>total_area</th>\n",
       "      <th>first_day_exposition</th>\n",
       "      <th>rooms</th>\n",
       "      <th>ceiling_height</th>\n",
       "      <th>floors_total</th>\n",
       "      <th>living_area</th>\n",
       "      <th>floor</th>\n",
       "      <th>is_apartment</th>\n",
       "      <th>...</th>\n",
       "      <th>kitchen_area</th>\n",
       "      <th>balcony</th>\n",
       "      <th>locality_name</th>\n",
       "      <th>airports_nearest</th>\n",
       "      <th>cityCenters_nearest</th>\n",
       "      <th>parks_around3000</th>\n",
       "      <th>parks_nearest</th>\n",
       "      <th>ponds_around3000</th>\n",
       "      <th>ponds_nearest</th>\n",
       "      <th>days_exposition</th>\n",
       "    </tr>\n",
       "  </thead>\n",
       "  <tbody>\n",
       "    <tr>\n",
       "      <th>0</th>\n",
       "      <td>20</td>\n",
       "      <td>13,000,000.00</td>\n",
       "      <td>108.00</td>\n",
       "      <td>2019-03-07T00:00:00</td>\n",
       "      <td>3</td>\n",
       "      <td>2.70</td>\n",
       "      <td>16.00</td>\n",
       "      <td>51.00</td>\n",
       "      <td>8</td>\n",
       "      <td>NaN</td>\n",
       "      <td>...</td>\n",
       "      <td>25.00</td>\n",
       "      <td>NaN</td>\n",
       "      <td>Санкт-Петербург</td>\n",
       "      <td>18,863.00</td>\n",
       "      <td>16,028.00</td>\n",
       "      <td>1.00</td>\n",
       "      <td>482.00</td>\n",
       "      <td>2.00</td>\n",
       "      <td>755.00</td>\n",
       "      <td>NaN</td>\n",
       "    </tr>\n",
       "    <tr>\n",
       "      <th>1</th>\n",
       "      <td>7</td>\n",
       "      <td>3,350,000.00</td>\n",
       "      <td>40.40</td>\n",
       "      <td>2018-12-04T00:00:00</td>\n",
       "      <td>1</td>\n",
       "      <td>NaN</td>\n",
       "      <td>11.00</td>\n",
       "      <td>18.60</td>\n",
       "      <td>1</td>\n",
       "      <td>NaN</td>\n",
       "      <td>...</td>\n",
       "      <td>11.00</td>\n",
       "      <td>2.00</td>\n",
       "      <td>посёлок Шушары</td>\n",
       "      <td>12,817.00</td>\n",
       "      <td>18,603.00</td>\n",
       "      <td>0.00</td>\n",
       "      <td>NaN</td>\n",
       "      <td>0.00</td>\n",
       "      <td>NaN</td>\n",
       "      <td>81.00</td>\n",
       "    </tr>\n",
       "    <tr>\n",
       "      <th>2</th>\n",
       "      <td>10</td>\n",
       "      <td>5,196,000.00</td>\n",
       "      <td>56.00</td>\n",
       "      <td>2015-08-20T00:00:00</td>\n",
       "      <td>2</td>\n",
       "      <td>NaN</td>\n",
       "      <td>5.00</td>\n",
       "      <td>34.30</td>\n",
       "      <td>4</td>\n",
       "      <td>NaN</td>\n",
       "      <td>...</td>\n",
       "      <td>8.30</td>\n",
       "      <td>0.00</td>\n",
       "      <td>Санкт-Петербург</td>\n",
       "      <td>21,741.00</td>\n",
       "      <td>13,933.00</td>\n",
       "      <td>1.00</td>\n",
       "      <td>90.00</td>\n",
       "      <td>2.00</td>\n",
       "      <td>574.00</td>\n",
       "      <td>558.00</td>\n",
       "    </tr>\n",
       "    <tr>\n",
       "      <th>3</th>\n",
       "      <td>0</td>\n",
       "      <td>64,900,000.00</td>\n",
       "      <td>159.00</td>\n",
       "      <td>2015-07-24T00:00:00</td>\n",
       "      <td>3</td>\n",
       "      <td>NaN</td>\n",
       "      <td>14.00</td>\n",
       "      <td>NaN</td>\n",
       "      <td>9</td>\n",
       "      <td>NaN</td>\n",
       "      <td>...</td>\n",
       "      <td>NaN</td>\n",
       "      <td>0.00</td>\n",
       "      <td>Санкт-Петербург</td>\n",
       "      <td>28,098.00</td>\n",
       "      <td>6,800.00</td>\n",
       "      <td>2.00</td>\n",
       "      <td>84.00</td>\n",
       "      <td>3.00</td>\n",
       "      <td>234.00</td>\n",
       "      <td>424.00</td>\n",
       "    </tr>\n",
       "    <tr>\n",
       "      <th>4</th>\n",
       "      <td>2</td>\n",
       "      <td>10,000,000.00</td>\n",
       "      <td>100.00</td>\n",
       "      <td>2018-06-19T00:00:00</td>\n",
       "      <td>2</td>\n",
       "      <td>3.03</td>\n",
       "      <td>14.00</td>\n",
       "      <td>32.00</td>\n",
       "      <td>13</td>\n",
       "      <td>NaN</td>\n",
       "      <td>...</td>\n",
       "      <td>41.00</td>\n",
       "      <td>NaN</td>\n",
       "      <td>Санкт-Петербург</td>\n",
       "      <td>31,856.00</td>\n",
       "      <td>8,098.00</td>\n",
       "      <td>2.00</td>\n",
       "      <td>112.00</td>\n",
       "      <td>1.00</td>\n",
       "      <td>48.00</td>\n",
       "      <td>121.00</td>\n",
       "    </tr>\n",
       "  </tbody>\n",
       "</table>\n",
       "<p>5 rows × 22 columns</p>\n",
       "</div>"
      ],
      "text/plain": [
       "   total_images    last_price  total_area first_day_exposition  rooms  \\\n",
       "0            20 13,000,000.00      108.00  2019-03-07T00:00:00      3   \n",
       "1             7  3,350,000.00       40.40  2018-12-04T00:00:00      1   \n",
       "2            10  5,196,000.00       56.00  2015-08-20T00:00:00      2   \n",
       "3             0 64,900,000.00      159.00  2015-07-24T00:00:00      3   \n",
       "4             2 10,000,000.00      100.00  2018-06-19T00:00:00      2   \n",
       "\n",
       "   ceiling_height  floors_total  living_area  floor is_apartment  ...  \\\n",
       "0            2.70         16.00        51.00      8          NaN  ...   \n",
       "1             NaN         11.00        18.60      1          NaN  ...   \n",
       "2             NaN          5.00        34.30      4          NaN  ...   \n",
       "3             NaN         14.00          NaN      9          NaN  ...   \n",
       "4            3.03         14.00        32.00     13          NaN  ...   \n",
       "\n",
       "   kitchen_area  balcony    locality_name  airports_nearest  \\\n",
       "0         25.00      NaN  Санкт-Петербург         18,863.00   \n",
       "1         11.00     2.00   посёлок Шушары         12,817.00   \n",
       "2          8.30     0.00  Санкт-Петербург         21,741.00   \n",
       "3           NaN     0.00  Санкт-Петербург         28,098.00   \n",
       "4         41.00      NaN  Санкт-Петербург         31,856.00   \n",
       "\n",
       "  cityCenters_nearest  parks_around3000  parks_nearest  ponds_around3000  \\\n",
       "0           16,028.00              1.00         482.00              2.00   \n",
       "1           18,603.00              0.00            NaN              0.00   \n",
       "2           13,933.00              1.00          90.00              2.00   \n",
       "3            6,800.00              2.00          84.00              3.00   \n",
       "4            8,098.00              2.00         112.00              1.00   \n",
       "\n",
       "   ponds_nearest  days_exposition  \n",
       "0         755.00              NaN  \n",
       "1            NaN            81.00  \n",
       "2         574.00           558.00  \n",
       "3         234.00           424.00  \n",
       "4          48.00           121.00  \n",
       "\n",
       "[5 rows x 22 columns]"
      ]
     },
     "execution_count": 1,
     "metadata": {},
     "output_type": "execute_result"
    }
   ],
   "source": [
    "import pandas as pd\n",
    "import matplotlib.pyplot as plt\n",
    "pd.set_option('display.float_format', '{:,.2f}'.format)\n",
    "\n",
    "df = pd.read_csv('real_estate_data.csv', sep ='\\t')\n",
    "\n",
    "df.head()"
   ]
  },
  {
   "cell_type": "code",
   "execution_count": 2,
   "metadata": {},
   "outputs": [
    {
     "data": {
      "text/plain": [
       "Index(['total_images', 'last_price', 'total_area', 'first_day_exposition',\n",
       "       'rooms', 'ceiling_height', 'floors_total', 'living_area', 'floor',\n",
       "       'is_apartment', 'studio', 'open_plan', 'kitchen_area', 'balcony',\n",
       "       'locality_name', 'airports_nearest', 'cityCenters_nearest',\n",
       "       'parks_around3000', 'parks_nearest', 'ponds_around3000',\n",
       "       'ponds_nearest', 'days_exposition'],\n",
       "      dtype='object')"
      ]
     },
     "execution_count": 2,
     "metadata": {},
     "output_type": "execute_result"
    }
   ],
   "source": [
    "df.columns"
   ]
  },
  {
   "cell_type": "code",
   "execution_count": 3,
   "metadata": {},
   "outputs": [
    {
     "name": "stdout",
     "output_type": "stream",
     "text": [
      "<class 'pandas.core.frame.DataFrame'>\n",
      "RangeIndex: 23699 entries, 0 to 23698\n",
      "Data columns (total 22 columns):\n",
      " #   Column                Non-Null Count  Dtype  \n",
      "---  ------                --------------  -----  \n",
      " 0   total_images          23699 non-null  int64  \n",
      " 1   last_price            23699 non-null  float64\n",
      " 2   total_area            23699 non-null  float64\n",
      " 3   first_day_exposition  23699 non-null  object \n",
      " 4   rooms                 23699 non-null  int64  \n",
      " 5   ceiling_height        14504 non-null  float64\n",
      " 6   floors_total          23613 non-null  float64\n",
      " 7   living_area           21796 non-null  float64\n",
      " 8   floor                 23699 non-null  int64  \n",
      " 9   is_apartment          2775 non-null   object \n",
      " 10  studio                23699 non-null  bool   \n",
      " 11  open_plan             23699 non-null  bool   \n",
      " 12  kitchen_area          21421 non-null  float64\n",
      " 13  balcony               12180 non-null  float64\n",
      " 14  locality_name         23650 non-null  object \n",
      " 15  airports_nearest      18157 non-null  float64\n",
      " 16  cityCenters_nearest   18180 non-null  float64\n",
      " 17  parks_around3000      18181 non-null  float64\n",
      " 18  parks_nearest         8079 non-null   float64\n",
      " 19  ponds_around3000      18181 non-null  float64\n",
      " 20  ponds_nearest         9110 non-null   float64\n",
      " 21  days_exposition       20518 non-null  float64\n",
      "dtypes: bool(2), float64(14), int64(3), object(3)\n",
      "memory usage: 3.7+ MB\n"
     ]
    }
   ],
   "source": [
    "df.info()"
   ]
  },
  {
   "cell_type": "markdown",
   "metadata": {},
   "source": [
    "### Description of dataframe\n",
    "* `airports_nearest` — distance to the nearest airport in meters (m)\n",
    "* `balcony` — number of balconies\n",
    "* `ceiling_height` — ceiling height (m)\n",
    "* `cityCenters_nearest` — distance to the city center (m)\n",
    "* `days_exposition` — how many days the ad was placed (from publication to removal)\n",
    "* `first_day_exposition` — date of publication\n",
    "* `floor` — floor\n",
    "* `floors_total` — total floors in the house\n",
    "* `is_apartment` — apartments (boolean type)\n",
    "* `kitchen_area` — kitchen area in square meters (m2)\n",
    "* `last_price` — price at the time of withdrawal from publication\n",
    "* `living_area` — living area in square meters (m2)\n",
    "* `locality_name` — name of the locality\n",
    "* `open_plan` — free layout (boolean type)\n",
    "* `parks_around3000` — the number of parks within a 3 km radius\n",
    "* `parks_nearest` — distance to the nearest park (m)\n",
    "* `ponds_around3000` — number of reservoirs within a radius of 3 km\n",
    "* `ponds_nearest` — distance to the nearest reservoir (m)\n",
    "* `rooms` — number of rooms\n",
    "* `studio' — studio apartment (boolean type)\n",
    "* `total_area` — the area of the apartment in square meters (m2)\n",
    "* `total_images` — the number of photos of the apartment in the ad"
   ]
  },
  {
   "cell_type": "markdown",
   "metadata": {},
   "source": [
    "Now we calculate the proportion of missing values in the columns, and sort them in descending order"
   ]
  },
  {
   "cell_type": "code",
   "execution_count": 4,
   "metadata": {},
   "outputs": [
    {
     "data": {
      "text/plain": [
       "is_apartment           0.88\n",
       "parks_nearest          0.66\n",
       "ponds_nearest          0.62\n",
       "balcony                0.49\n",
       "ceiling_height         0.39\n",
       "airports_nearest       0.23\n",
       "cityCenters_nearest    0.23\n",
       "ponds_around3000       0.23\n",
       "parks_around3000       0.23\n",
       "days_exposition        0.13\n",
       "kitchen_area           0.10\n",
       "living_area            0.08\n",
       "floors_total           0.00\n",
       "locality_name          0.00\n",
       "total_images           0.00\n",
       "last_price             0.00\n",
       "studio                 0.00\n",
       "floor                  0.00\n",
       "rooms                  0.00\n",
       "first_day_exposition   0.00\n",
       "total_area             0.00\n",
       "open_plan              0.00\n",
       "dtype: float64"
      ]
     },
     "execution_count": 4,
     "metadata": {},
     "output_type": "execute_result"
    }
   ],
   "source": [
    "df.isna().mean().sort_values(ascending=False)"
   ]
  },
  {
   "cell_type": "code",
   "execution_count": 5,
   "metadata": {},
   "outputs": [
    {
     "data": {
      "text/html": [
       "<div>\n",
       "<style scoped>\n",
       "    .dataframe tbody tr th:only-of-type {\n",
       "        vertical-align: middle;\n",
       "    }\n",
       "\n",
       "    .dataframe tbody tr th {\n",
       "        vertical-align: top;\n",
       "    }\n",
       "\n",
       "    .dataframe thead th {\n",
       "        text-align: right;\n",
       "    }\n",
       "</style>\n",
       "<table border=\"1\" class=\"dataframe\">\n",
       "  <thead>\n",
       "    <tr style=\"text-align: right;\">\n",
       "      <th></th>\n",
       "      <th>count</th>\n",
       "      <th>mean</th>\n",
       "      <th>std</th>\n",
       "      <th>min</th>\n",
       "      <th>25%</th>\n",
       "      <th>50%</th>\n",
       "      <th>75%</th>\n",
       "      <th>max</th>\n",
       "    </tr>\n",
       "  </thead>\n",
       "  <tbody>\n",
       "    <tr>\n",
       "      <th>total_images</th>\n",
       "      <td>23,699.00</td>\n",
       "      <td>9.86</td>\n",
       "      <td>5.68</td>\n",
       "      <td>0.00</td>\n",
       "      <td>6.00</td>\n",
       "      <td>9.00</td>\n",
       "      <td>14.00</td>\n",
       "      <td>50.00</td>\n",
       "    </tr>\n",
       "    <tr>\n",
       "      <th>last_price</th>\n",
       "      <td>23,699.00</td>\n",
       "      <td>6,541,548.77</td>\n",
       "      <td>10,887,013.27</td>\n",
       "      <td>12,190.00</td>\n",
       "      <td>3,400,000.00</td>\n",
       "      <td>4,650,000.00</td>\n",
       "      <td>6,800,000.00</td>\n",
       "      <td>763,000,000.00</td>\n",
       "    </tr>\n",
       "    <tr>\n",
       "      <th>total_area</th>\n",
       "      <td>23,699.00</td>\n",
       "      <td>60.35</td>\n",
       "      <td>35.65</td>\n",
       "      <td>12.00</td>\n",
       "      <td>40.00</td>\n",
       "      <td>52.00</td>\n",
       "      <td>69.90</td>\n",
       "      <td>900.00</td>\n",
       "    </tr>\n",
       "    <tr>\n",
       "      <th>rooms</th>\n",
       "      <td>23,699.00</td>\n",
       "      <td>2.07</td>\n",
       "      <td>1.08</td>\n",
       "      <td>0.00</td>\n",
       "      <td>1.00</td>\n",
       "      <td>2.00</td>\n",
       "      <td>3.00</td>\n",
       "      <td>19.00</td>\n",
       "    </tr>\n",
       "    <tr>\n",
       "      <th>ceiling_height</th>\n",
       "      <td>14,504.00</td>\n",
       "      <td>2.77</td>\n",
       "      <td>1.26</td>\n",
       "      <td>1.00</td>\n",
       "      <td>2.52</td>\n",
       "      <td>2.65</td>\n",
       "      <td>2.80</td>\n",
       "      <td>100.00</td>\n",
       "    </tr>\n",
       "    <tr>\n",
       "      <th>floors_total</th>\n",
       "      <td>23,613.00</td>\n",
       "      <td>10.67</td>\n",
       "      <td>6.60</td>\n",
       "      <td>1.00</td>\n",
       "      <td>5.00</td>\n",
       "      <td>9.00</td>\n",
       "      <td>16.00</td>\n",
       "      <td>60.00</td>\n",
       "    </tr>\n",
       "    <tr>\n",
       "      <th>living_area</th>\n",
       "      <td>21,796.00</td>\n",
       "      <td>34.46</td>\n",
       "      <td>22.03</td>\n",
       "      <td>2.00</td>\n",
       "      <td>18.60</td>\n",
       "      <td>30.00</td>\n",
       "      <td>42.30</td>\n",
       "      <td>409.70</td>\n",
       "    </tr>\n",
       "    <tr>\n",
       "      <th>floor</th>\n",
       "      <td>23,699.00</td>\n",
       "      <td>5.89</td>\n",
       "      <td>4.89</td>\n",
       "      <td>1.00</td>\n",
       "      <td>2.00</td>\n",
       "      <td>4.00</td>\n",
       "      <td>8.00</td>\n",
       "      <td>33.00</td>\n",
       "    </tr>\n",
       "    <tr>\n",
       "      <th>kitchen_area</th>\n",
       "      <td>21,421.00</td>\n",
       "      <td>10.57</td>\n",
       "      <td>5.91</td>\n",
       "      <td>1.30</td>\n",
       "      <td>7.00</td>\n",
       "      <td>9.10</td>\n",
       "      <td>12.00</td>\n",
       "      <td>112.00</td>\n",
       "    </tr>\n",
       "    <tr>\n",
       "      <th>balcony</th>\n",
       "      <td>12,180.00</td>\n",
       "      <td>1.15</td>\n",
       "      <td>1.07</td>\n",
       "      <td>0.00</td>\n",
       "      <td>0.00</td>\n",
       "      <td>1.00</td>\n",
       "      <td>2.00</td>\n",
       "      <td>5.00</td>\n",
       "    </tr>\n",
       "    <tr>\n",
       "      <th>airports_nearest</th>\n",
       "      <td>18,157.00</td>\n",
       "      <td>28,793.67</td>\n",
       "      <td>12,630.88</td>\n",
       "      <td>0.00</td>\n",
       "      <td>18,585.00</td>\n",
       "      <td>26,726.00</td>\n",
       "      <td>37,273.00</td>\n",
       "      <td>84,869.00</td>\n",
       "    </tr>\n",
       "    <tr>\n",
       "      <th>cityCenters_nearest</th>\n",
       "      <td>18,180.00</td>\n",
       "      <td>14,191.28</td>\n",
       "      <td>8,608.39</td>\n",
       "      <td>181.00</td>\n",
       "      <td>9,238.00</td>\n",
       "      <td>13,098.50</td>\n",
       "      <td>16,293.00</td>\n",
       "      <td>65,968.00</td>\n",
       "    </tr>\n",
       "    <tr>\n",
       "      <th>parks_around3000</th>\n",
       "      <td>18,181.00</td>\n",
       "      <td>0.61</td>\n",
       "      <td>0.80</td>\n",
       "      <td>0.00</td>\n",
       "      <td>0.00</td>\n",
       "      <td>0.00</td>\n",
       "      <td>1.00</td>\n",
       "      <td>3.00</td>\n",
       "    </tr>\n",
       "    <tr>\n",
       "      <th>parks_nearest</th>\n",
       "      <td>8,079.00</td>\n",
       "      <td>490.80</td>\n",
       "      <td>342.32</td>\n",
       "      <td>1.00</td>\n",
       "      <td>288.00</td>\n",
       "      <td>455.00</td>\n",
       "      <td>612.00</td>\n",
       "      <td>3,190.00</td>\n",
       "    </tr>\n",
       "    <tr>\n",
       "      <th>ponds_around3000</th>\n",
       "      <td>18,181.00</td>\n",
       "      <td>0.77</td>\n",
       "      <td>0.94</td>\n",
       "      <td>0.00</td>\n",
       "      <td>0.00</td>\n",
       "      <td>1.00</td>\n",
       "      <td>1.00</td>\n",
       "      <td>3.00</td>\n",
       "    </tr>\n",
       "    <tr>\n",
       "      <th>ponds_nearest</th>\n",
       "      <td>9,110.00</td>\n",
       "      <td>517.98</td>\n",
       "      <td>277.72</td>\n",
       "      <td>13.00</td>\n",
       "      <td>294.00</td>\n",
       "      <td>502.00</td>\n",
       "      <td>729.00</td>\n",
       "      <td>1,344.00</td>\n",
       "    </tr>\n",
       "    <tr>\n",
       "      <th>days_exposition</th>\n",
       "      <td>20,518.00</td>\n",
       "      <td>180.89</td>\n",
       "      <td>219.73</td>\n",
       "      <td>1.00</td>\n",
       "      <td>45.00</td>\n",
       "      <td>95.00</td>\n",
       "      <td>232.00</td>\n",
       "      <td>1,580.00</td>\n",
       "    </tr>\n",
       "  </tbody>\n",
       "</table>\n",
       "</div>"
      ],
      "text/plain": [
       "                        count         mean           std       min  \\\n",
       "total_images        23,699.00         9.86          5.68      0.00   \n",
       "last_price          23,699.00 6,541,548.77 10,887,013.27 12,190.00   \n",
       "total_area          23,699.00        60.35         35.65     12.00   \n",
       "rooms               23,699.00         2.07          1.08      0.00   \n",
       "ceiling_height      14,504.00         2.77          1.26      1.00   \n",
       "floors_total        23,613.00        10.67          6.60      1.00   \n",
       "living_area         21,796.00        34.46         22.03      2.00   \n",
       "floor               23,699.00         5.89          4.89      1.00   \n",
       "kitchen_area        21,421.00        10.57          5.91      1.30   \n",
       "balcony             12,180.00         1.15          1.07      0.00   \n",
       "airports_nearest    18,157.00    28,793.67     12,630.88      0.00   \n",
       "cityCenters_nearest 18,180.00    14,191.28      8,608.39    181.00   \n",
       "parks_around3000    18,181.00         0.61          0.80      0.00   \n",
       "parks_nearest        8,079.00       490.80        342.32      1.00   \n",
       "ponds_around3000    18,181.00         0.77          0.94      0.00   \n",
       "ponds_nearest        9,110.00       517.98        277.72     13.00   \n",
       "days_exposition     20,518.00       180.89        219.73      1.00   \n",
       "\n",
       "                             25%          50%          75%            max  \n",
       "total_images                6.00         9.00        14.00          50.00  \n",
       "last_price          3,400,000.00 4,650,000.00 6,800,000.00 763,000,000.00  \n",
       "total_area                 40.00        52.00        69.90         900.00  \n",
       "rooms                       1.00         2.00         3.00          19.00  \n",
       "ceiling_height              2.52         2.65         2.80         100.00  \n",
       "floors_total                5.00         9.00        16.00          60.00  \n",
       "living_area                18.60        30.00        42.30         409.70  \n",
       "floor                       2.00         4.00         8.00          33.00  \n",
       "kitchen_area                7.00         9.10        12.00         112.00  \n",
       "balcony                     0.00         1.00         2.00           5.00  \n",
       "airports_nearest       18,585.00    26,726.00    37,273.00      84,869.00  \n",
       "cityCenters_nearest     9,238.00    13,098.50    16,293.00      65,968.00  \n",
       "parks_around3000            0.00         0.00         1.00           3.00  \n",
       "parks_nearest             288.00       455.00       612.00       3,190.00  \n",
       "ponds_around3000            0.00         1.00         1.00           3.00  \n",
       "ponds_nearest             294.00       502.00       729.00       1,344.00  \n",
       "days_exposition            45.00        95.00       232.00       1,580.00  "
      ]
     },
     "execution_count": 5,
     "metadata": {},
     "output_type": "execute_result"
    }
   ],
   "source": [
    "df.describe().T"
   ]
  },
  {
   "cell_type": "code",
   "execution_count": 6,
   "metadata": {},
   "outputs": [
    {
     "data": {
      "text/plain": [
       "0"
      ]
     },
     "execution_count": 6,
     "metadata": {},
     "output_type": "execute_result"
    }
   ],
   "source": [
    "# Check for duplicates\n",
    "df.duplicated().sum()"
   ]
  },
  {
   "cell_type": "markdown",
   "metadata": {},
   "source": [
    "Let's check column `locality_name` for typos"
   ]
  },
  {
   "cell_type": "code",
   "execution_count": 7,
   "metadata": {},
   "outputs": [
    {
     "data": {
      "text/plain": [
       "array(['Санкт-Петербург', 'посёлок Шушары', 'городской посёлок Янино-1',\n",
       "       'посёлок Парголово', 'посёлок Мурино', 'Ломоносов', 'Сертолово',\n",
       "       'Петергоф', 'Пушкин', 'деревня Кудрово', 'Коммунар', 'Колпино',\n",
       "       'поселок городского типа Красный Бор', 'Гатчина', 'поселок Мурино',\n",
       "       'деревня Фёдоровское', 'Выборг', 'Кронштадт', 'Кировск',\n",
       "       'деревня Новое Девяткино', 'посёлок Металлострой',\n",
       "       'посёлок городского типа Лебяжье',\n",
       "       'посёлок городского типа Сиверский', 'поселок Молодцово',\n",
       "       'поселок городского типа Кузьмоловский',\n",
       "       'садовое товарищество Новая Ропша', 'Павловск',\n",
       "       'деревня Пикколово', 'Всеволожск', 'Волхов', 'Кингисепп',\n",
       "       'Приозерск', 'Сестрорецк', 'деревня Куттузи', 'посёлок Аннино',\n",
       "       'поселок городского типа Ефимовский', 'посёлок Плодовое',\n",
       "       'деревня Заклинье', 'поселок Торковичи', 'поселок Первомайское',\n",
       "       'Красное Село', 'посёлок Понтонный', 'Сясьстрой', 'деревня Старая',\n",
       "       'деревня Лесколово', 'посёлок Новый Свет', 'Сланцы',\n",
       "       'село Путилово', 'Ивангород', 'Мурино', 'Шлиссельбург',\n",
       "       'Никольское', 'Зеленогорск', 'Сосновый Бор', 'поселок Новый Свет',\n",
       "       'деревня Оржицы', 'деревня Кальтино', 'Кудрово',\n",
       "       'поселок Романовка', 'посёлок Бугры', 'поселок Бугры',\n",
       "       'поселок городского типа Рощино', 'Кириши', 'Луга', 'Волосово',\n",
       "       'Отрадное', 'село Павлово', 'поселок Оредеж', 'село Копорье',\n",
       "       'посёлок городского типа Красный Бор', 'посёлок Молодёжное',\n",
       "       'Тихвин', 'посёлок Победа', 'деревня Нурма',\n",
       "       'поселок городского типа Синявино', 'Тосно',\n",
       "       'посёлок городского типа Кузьмоловский', 'посёлок Стрельна',\n",
       "       'Бокситогорск', 'посёлок Александровская', 'деревня Лопухинка',\n",
       "       'Пикалёво', 'поселок Терволово',\n",
       "       'поселок городского типа Советский', 'Подпорожье',\n",
       "       'посёлок Петровское', 'посёлок городского типа Токсово',\n",
       "       'поселок Сельцо', 'посёлок городского типа Вырица',\n",
       "       'деревня Кипень', 'деревня Келози', 'деревня Вартемяги',\n",
       "       'посёлок Тельмана', 'поселок Севастьяново',\n",
       "       'городской поселок Большая Ижора', nan,\n",
       "       'городской посёлок Павлово', 'деревня Агалатово',\n",
       "       'посёлок Новогорелово', 'городской посёлок Лесогорский',\n",
       "       'деревня Лаголово', 'поселок Цвелодубово',\n",
       "       'поселок городского типа Рахья', 'поселок городского типа Вырица',\n",
       "       'деревня Белогорка', 'поселок Заводской',\n",
       "       'городской посёлок Новоселье', 'деревня Большие Колпаны',\n",
       "       'деревня Горбунки', 'деревня Батово', 'деревня Заневка',\n",
       "       'деревня Иссад', 'Приморск', 'городской посёлок Фёдоровское',\n",
       "       'деревня Мистолово', 'Новая Ладога', 'поселок Зимитицы',\n",
       "       'поселок Барышево', 'деревня Разметелево',\n",
       "       'поселок городского типа имени Свердлова', 'деревня Пеники',\n",
       "       'поселок Рябово', 'деревня Пудомяги', 'поселок станции Корнево',\n",
       "       'деревня Низино', 'деревня Бегуницы', 'посёлок Поляны',\n",
       "       'городской посёлок Мга', 'поселок Елизаветино',\n",
       "       'посёлок городского типа Кузнечное', 'деревня Колтуши',\n",
       "       'поселок Запорожское', 'посёлок городского типа Рощино',\n",
       "       'деревня Гостилицы', 'деревня Малое Карлино',\n",
       "       'посёлок Мичуринское', 'посёлок городского типа имени Морозова',\n",
       "       'посёлок Песочный', 'посёлок Сосново', 'деревня Аро',\n",
       "       'поселок Ильичёво', 'посёлок городского типа Тайцы',\n",
       "       'деревня Малое Верево', 'деревня Извара', 'поселок станции Вещево',\n",
       "       'село Паша', 'деревня Калитино',\n",
       "       'посёлок городского типа Ульяновка', 'деревня Чудской Бор',\n",
       "       'поселок городского типа Дубровка', 'деревня Мины',\n",
       "       'поселок Войсковицы', 'посёлок городского типа имени Свердлова',\n",
       "       'деревня Коркино', 'посёлок Ропша',\n",
       "       'поселок городского типа Приладожский', 'посёлок Щеглово',\n",
       "       'посёлок Гаврилово', 'Лодейное Поле', 'деревня Рабитицы',\n",
       "       'поселок городского типа Никольский', 'деревня Кузьмолово',\n",
       "       'деревня Малые Колпаны', 'поселок Тельмана',\n",
       "       'посёлок Петро-Славянка', 'городской посёлок Назия',\n",
       "       'посёлок Репино', 'посёлок Ильичёво', 'поселок Углово',\n",
       "       'поселок Старая Малукса', 'садовое товарищество Рахья',\n",
       "       'поселок Аннино', 'поселок Победа', 'деревня Меньково',\n",
       "       'деревня Старые Бегуницы', 'посёлок Сапёрный', 'поселок Семрино',\n",
       "       'поселок Гаврилово', 'поселок Глажево', 'поселок Кобринское',\n",
       "       'деревня Гарболово', 'деревня Юкки',\n",
       "       'поселок станции Приветнинское', 'деревня Мануйлово',\n",
       "       'деревня Пчева', 'поселок Поляны', 'поселок Цвылёво',\n",
       "       'поселок Мельниково', 'посёлок Пудость', 'посёлок Усть-Луга',\n",
       "       'Светогорск', 'Любань', 'поселок Селезнёво',\n",
       "       'поселок городского типа Рябово', 'Каменногорск', 'деревня Кривко',\n",
       "       'поселок Глебычево', 'деревня Парицы', 'поселок Жилпосёлок',\n",
       "       'посёлок городского типа Мга', 'городской поселок Янино-1',\n",
       "       'посёлок Войскорово', 'село Никольское', 'посёлок Терволово',\n",
       "       'поселок Стеклянный', 'посёлок городского типа Важины',\n",
       "       'посёлок Мыза-Ивановка', 'село Русско-Высоцкое',\n",
       "       'поселок городского типа Лебяжье',\n",
       "       'поселок городского типа Форносово', 'село Старая Ладога',\n",
       "       'поселок Житково', 'городской посёлок Виллози', 'деревня Лампово',\n",
       "       'деревня Шпаньково', 'деревня Лаврики', 'посёлок Сумино',\n",
       "       'посёлок Возрождение', 'деревня Старосиверская',\n",
       "       'посёлок Кикерино', 'поселок Возрождение',\n",
       "       'деревня Старое Хинколово', 'посёлок Пригородный',\n",
       "       'посёлок Торфяное', 'городской посёлок Будогощь',\n",
       "       'поселок Суходолье', 'поселок Красная Долина', 'деревня Хапо-Ое',\n",
       "       'поселок городского типа Дружная Горка', 'поселок Лисий Нос',\n",
       "       'деревня Яльгелево', 'посёлок Стеклянный', 'село Рождествено',\n",
       "       'деревня Старополье', 'посёлок Левашово', 'деревня Сяськелево',\n",
       "       'деревня Камышовка',\n",
       "       'садоводческое некоммерческое товарищество Лесная Поляна',\n",
       "       'деревня Хязельки', 'поселок Жилгородок',\n",
       "       'посёлок городского типа Павлово', 'деревня Ялгино',\n",
       "       'поселок Новый Учхоз', 'городской посёлок Рощино',\n",
       "       'поселок Гончарово', 'поселок Почап', 'посёлок Сапёрное',\n",
       "       'посёлок Платформа 69-й километр', 'поселок Каложицы',\n",
       "       'деревня Фалилеево', 'деревня Пельгора',\n",
       "       'поселок городского типа Лесогорский', 'деревня Торошковичи',\n",
       "       'посёлок Белоостров', 'посёлок Алексеевка', 'поселок Серебрянский',\n",
       "       'поселок Лукаши', 'поселок Петровское', 'деревня Щеглово',\n",
       "       'поселок Мичуринское', 'деревня Тарасово', 'поселок Кингисеппский',\n",
       "       'посёлок при железнодорожной станции Вещево', 'поселок Ушаки',\n",
       "       'деревня Котлы', 'деревня Сижно', 'деревня Торосово',\n",
       "       'посёлок Форт Красная Горка', 'поселок городского типа Токсово',\n",
       "       'деревня Новолисино', 'посёлок станции Громово', 'деревня Глинка',\n",
       "       'посёлок Мельниково', 'поселок городского типа Назия',\n",
       "       'деревня Старая Пустошь', 'поселок Коммунары', 'поселок Починок',\n",
       "       'посёлок городского типа Вознесенье', 'деревня Разбегаево',\n",
       "       'посёлок городского типа Рябово', 'поселок Гладкое',\n",
       "       'посёлок при железнодорожной станции Приветнинское',\n",
       "       'поселок Тёсово-4', 'посёлок Жилгородок', 'деревня Бор',\n",
       "       'посёлок Коробицыно', 'деревня Большая Вруда', 'деревня Курковицы',\n",
       "       'посёлок Лисий Нос', 'городской посёлок Советский',\n",
       "       'посёлок Кобралово', 'деревня Суоранда', 'поселок Кобралово',\n",
       "       'поселок городского типа Кондратьево',\n",
       "       'коттеджный поселок Счастье', 'поселок Любань', 'деревня Реброво',\n",
       "       'деревня Зимитицы', 'деревня Тойворово', 'поселок Семиозерье',\n",
       "       'поселок Лесное', 'поселок Совхозный', 'поселок Усть-Луга',\n",
       "       'посёлок Ленинское', 'посёлок Суйда',\n",
       "       'посёлок городского типа Форносово', 'деревня Нижние Осельки',\n",
       "       'посёлок станции Свирь', 'поселок Перово', 'Высоцк',\n",
       "       'поселок Гарболово', 'село Шум', 'поселок Котельский',\n",
       "       'поселок станции Лужайка', 'деревня Большая Пустомержа',\n",
       "       'поселок Красносельское', 'деревня Вахнова Кара', 'деревня Пижма',\n",
       "       'коттеджный поселок Кивеннапа Север', 'поселок Коробицыно',\n",
       "       'поселок Ромашки', 'посёлок Перово', 'деревня Каськово',\n",
       "       'деревня Куровицы', 'посёлок Плоское', 'поселок Сумино',\n",
       "       'поселок городского типа Большая Ижора', 'поселок Кирпичное',\n",
       "       'деревня Ям-Тесово', 'деревня Раздолье', 'деревня Терпилицы',\n",
       "       'посёлок Шугозеро', 'деревня Ваганово', 'поселок Пушное',\n",
       "       'садовое товарищество Садко', 'посёлок Усть-Ижора',\n",
       "       'деревня Выскатка', 'городской посёлок Свирьстрой',\n",
       "       'поселок Громово', 'деревня Кисельня', 'посёлок Старая Малукса',\n",
       "       'деревня Трубников Бор', 'поселок Калитино',\n",
       "       'посёлок Высокоключевой', 'садовое товарищество Приладожский',\n",
       "       'посёлок Пансионат Зелёный Бор', 'деревня Ненимяки',\n",
       "       'поселок Пансионат Зелёный Бор', 'деревня Снегирёвка',\n",
       "       'деревня Рапполово', 'деревня Пустынка', 'поселок Рабитицы',\n",
       "       'деревня Большой Сабск', 'деревня Русско', 'деревня Лупполово',\n",
       "       'деревня Большое Рейзино', 'деревня Малая Романовка',\n",
       "       'поселок Дружноселье', 'поселок Пчевжа', 'поселок Володарское',\n",
       "       'деревня Нижняя', 'коттеджный посёлок Лесное', 'деревня Тихковицы',\n",
       "       'деревня Борисова Грива', 'посёлок Дзержинского'], dtype=object)"
      ]
     },
     "execution_count": 7,
     "metadata": {},
     "output_type": "execute_result"
    }
   ],
   "source": [
    "df['locality_name'].unique()"
   ]
  },
  {
   "cell_type": "code",
   "execution_count": 8,
   "metadata": {},
   "outputs": [
    {
     "data": {
      "text/plain": [
       "365"
      ]
     },
     "execution_count": 8,
     "metadata": {},
     "output_type": "execute_result"
    }
   ],
   "source": [
    "len(df['locality_name'].unique())"
   ]
  },
  {
   "cell_type": "markdown",
   "metadata": {},
   "source": [
    "<a id=\"summary_start\"></a>\n",
    "### Summary\n",
    "\n",
    "Using `.isna()` and `.mean()` we find out which columns are missing values and their proportion of all values.\n",
    "\n",
    "No duplicate rows were found.\n",
    "\n",
    "Through `.unique()` we got a list of values in the `'locality_name'` column, it was found that there are typos and different spellings in the dataset.\n",
    "\n",
    "**Possible causes of missing values and duplicates**:\n",
    "1. The human factor, since some of the data was entered by users. Perhaps the user who submitted the ad did not consider it necessary to indicate the number of balconies, the footage of the kitchen, etc.\n",
    "2. The difference in the spelling of names and typos of settlements arose due to the difference in the usage of some letters (in russian we have two different letter е и ё, they're different in pronounciation but very similar in writing. Е is more commonly used)\n",
    "3. Part of the missing data was obtained automatically based on cartographic data, so the cause may have been incorrect data upload"
   ]
  },
  {
   "cell_type": "markdown",
   "metadata": {},
   "source": [
    "<a id=\"prep\"></a>\n",
    "## Data preprocessing"
   ]
  },
  {
   "cell_type": "code",
   "execution_count": 9,
   "metadata": {},
   "outputs": [],
   "source": [
    "# rename column 'cityCenters_nearest'\n",
    "df = df.rename(columns={'cityCenters_nearest': 'city_centers_nearest'})"
   ]
  },
  {
   "cell_type": "markdown",
   "metadata": {},
   "source": [
    "<a id=\"replacing\"></a>\n",
    "### Replace nan, typos and different spellings"
   ]
  },
  {
   "cell_type": "code",
   "execution_count": 10,
   "metadata": {},
   "outputs": [],
   "source": [
    "# drop duplicates in locality_name and fill nan to 'unknown'\n",
    "df['locality_name'] = df['locality_name'].str.replace('ё', 'е')\n",
    "df['locality_name'] = df['locality_name'].fillna('unknown')"
   ]
  },
  {
   "cell_type": "markdown",
   "metadata": {},
   "source": [
    "Observe typos and different spellings in `locality_name` column"
   ]
  },
  {
   "cell_type": "code",
   "execution_count": 11,
   "metadata": {},
   "outputs": [
    {
     "name": "stdout",
     "output_type": "stream",
     "text": [
      "Number of localities is named \"Кудрово\" - 173\n",
      "Number of localities is named \"деревня Кудрово\" - 299\n"
     ]
    }
   ],
   "source": [
    "print(f'Number of localities is named \"Кудрово\" -', len(df.query('locality_name == \"Кудрово\"')))\n",
    "print(f'Number of localities is named \"деревня Кудрово\" -', len(df.query('locality_name == \"деревня Кудрово\"')))"
   ]
  },
  {
   "cell_type": "markdown",
   "metadata": {},
   "source": [
    "In 2018, the village of Kudrovo became the city of Kudrovo"
   ]
  },
  {
   "cell_type": "code",
   "execution_count": 12,
   "metadata": {},
   "outputs": [
    {
     "name": "stdout",
     "output_type": "stream",
     "text": [
      "Number of localities is named \"Кудрово\" - 472\n"
     ]
    }
   ],
   "source": [
    "df['locality_name'] = df['locality_name'].str.replace('деревня Кудрово', 'Кудрово')\n",
    "print('Number of localities is named \"Кудрово\" -', len(df.query('locality_name == \"Кудрово\"')))"
   ]
  },
  {
   "cell_type": "markdown",
   "metadata": {},
   "source": [
    "The following typos and spellings were also found and fixed"
   ]
  },
  {
   "cell_type": "code",
   "execution_count": 13,
   "metadata": {},
   "outputs": [
    {
     "data": {
      "text/plain": [
       "319"
      ]
     },
     "execution_count": 13,
     "metadata": {},
     "output_type": "execute_result"
    }
   ],
   "source": [
    "df['locality_name'] = df['locality_name'].str.replace('поселок Мурино', 'Мурино')\\\n",
    ".replace('поселок Коммунар', 'Коммунар')\\\n",
    ".replace('поселок Любань', 'Любань')\\\n",
    ".replace('деревня Федоровское', 'городской поселок Федоровское')\\\n",
    ".replace('деревня Щеглово', 'поселок Щеглово')\\\n",
    ".replace('деревня Калитино', 'поселок Калитино')\\\n",
    ".replace('деревня Зимитцы', 'поселок Зимитцы')\\\n",
    ".replace('поселок Рябово', 'поселок городского типа Рябово')\\\n",
    ".replace('деревня Рабитицы', 'поселок Рабитицы')\\\n",
    ".replace('село Павлово', 'поселок городского типа Павлово')\\\n",
    ".replace('село Никольское', 'Никольское')\\\n",
    ".replace('поселок Громово', 'поселок станции Громово')\\\n",
    ".replace('деревня Гарболово', 'поселок Гарболово')\\\n",
    ".replace('городской поселок', 'поселок городского типа')\\\n",
    ".replace('поселок станции', 'поселок при железнодорожной станции')\\\n",
    "\n",
    "len(df['locality_name'].unique())"
   ]
  },
  {
   "cell_type": "markdown",
   "metadata": {},
   "source": [
    "When prep the dataframe, three situations with columns `'living_area'` and `'kitchen_area'` were identified:\n",
    "1. Known `'total_area'`, `'living_area'` - nan, `'kitchen_area'` - known -> `'living_area'` ≈ `'total_area'` - `'kitchen_area'` \n",
    "2. Known `'total_area'`, `'living_area'` - known, `'kitchen_area'` - nan  -> `'kitchen_area'` ≈ `'total_area'` - `'living_area'`\n",
    "3. Known `'total_area'`, `'living_area'` - nan, `'kitchen_area'` - nan  -> replacing missing values with the median across groups `'total_area'` and `'rooms'`"
   ]
  },
  {
   "cell_type": "code",
   "execution_count": 14,
   "metadata": {},
   "outputs": [],
   "source": [
    "mask_living_area = (df['living_area'].isna()) & (df['kitchen_area'] > 0)\n",
    "mask_kitchen_area = (df['living_area'] > 0) & (df['kitchen_area'].isna())\n",
    "\n",
    "df.loc[mask_living_area, 'living_area'] = df.loc[mask_living_area].apply(lambda row: (row['total_area'] - row['kitchen_area']), axis=1)\n",
    "df.loc[mask_kitchen_area, 'kitchen_area'] = df.loc[mask_kitchen_area].apply(lambda row: (row['total_area'] - row['living_area']), axis=1)"
   ]
  },
  {
   "cell_type": "markdown",
   "metadata": {},
   "source": [
    "The same with `'parks_around3000'` and `'parks_nearest'`, `'ponds_around3000'` and `'ponds_nearest'`: \n",
    "1. if `'parks_around3000'` = 0 and `'parks_nearest'` - nan, then replace nan with average `'parks_nearest'` values, that more than 3000 meters\n",
    "2. if `'ponds_around3000'` = 0 and `'ponds_nearest'` - nan, then replace nan with 3001 (metres), because there is no `'ponds_nearest'` values, that more than 3000 metres.\n",
    "3. if `'parks_around3000'` or `'ponds_around3000'` > 0 and `'parks_nearest'` or `'ponds_nearest'`- nan, then replace nan with average value in the same column"
   ]
  },
  {
   "cell_type": "code",
   "execution_count": 15,
   "metadata": {},
   "outputs": [
    {
     "data": {
      "text/html": [
       "<div>\n",
       "<style scoped>\n",
       "    .dataframe tbody tr th:only-of-type {\n",
       "        vertical-align: middle;\n",
       "    }\n",
       "\n",
       "    .dataframe tbody tr th {\n",
       "        vertical-align: top;\n",
       "    }\n",
       "\n",
       "    .dataframe thead th {\n",
       "        text-align: right;\n",
       "    }\n",
       "</style>\n",
       "<table border=\"1\" class=\"dataframe\">\n",
       "  <thead>\n",
       "    <tr style=\"text-align: right;\">\n",
       "      <th></th>\n",
       "      <th>total_images</th>\n",
       "      <th>last_price</th>\n",
       "      <th>total_area</th>\n",
       "      <th>first_day_exposition</th>\n",
       "      <th>rooms</th>\n",
       "      <th>ceiling_height</th>\n",
       "      <th>floors_total</th>\n",
       "      <th>living_area</th>\n",
       "      <th>floor</th>\n",
       "      <th>is_apartment</th>\n",
       "      <th>...</th>\n",
       "      <th>kitchen_area</th>\n",
       "      <th>balcony</th>\n",
       "      <th>locality_name</th>\n",
       "      <th>airports_nearest</th>\n",
       "      <th>city_centers_nearest</th>\n",
       "      <th>parks_around3000</th>\n",
       "      <th>parks_nearest</th>\n",
       "      <th>ponds_around3000</th>\n",
       "      <th>ponds_nearest</th>\n",
       "      <th>days_exposition</th>\n",
       "    </tr>\n",
       "  </thead>\n",
       "  <tbody>\n",
       "    <tr>\n",
       "      <th>0</th>\n",
       "      <td>20</td>\n",
       "      <td>13,000,000.00</td>\n",
       "      <td>108.00</td>\n",
       "      <td>2019-03-07T00:00:00</td>\n",
       "      <td>3</td>\n",
       "      <td>2.70</td>\n",
       "      <td>16.00</td>\n",
       "      <td>51.00</td>\n",
       "      <td>8</td>\n",
       "      <td>NaN</td>\n",
       "      <td>...</td>\n",
       "      <td>25.00</td>\n",
       "      <td>NaN</td>\n",
       "      <td>Санкт-Петербург</td>\n",
       "      <td>18,863.00</td>\n",
       "      <td>16,028.00</td>\n",
       "      <td>1.00</td>\n",
       "      <td>482.00</td>\n",
       "      <td>2.00</td>\n",
       "      <td>755.00</td>\n",
       "      <td>NaN</td>\n",
       "    </tr>\n",
       "    <tr>\n",
       "      <th>1</th>\n",
       "      <td>7</td>\n",
       "      <td>3,350,000.00</td>\n",
       "      <td>40.40</td>\n",
       "      <td>2018-12-04T00:00:00</td>\n",
       "      <td>1</td>\n",
       "      <td>NaN</td>\n",
       "      <td>11.00</td>\n",
       "      <td>18.60</td>\n",
       "      <td>1</td>\n",
       "      <td>NaN</td>\n",
       "      <td>...</td>\n",
       "      <td>11.00</td>\n",
       "      <td>2.00</td>\n",
       "      <td>поселок Шушары</td>\n",
       "      <td>12,817.00</td>\n",
       "      <td>18,603.00</td>\n",
       "      <td>0.00</td>\n",
       "      <td>3,114.25</td>\n",
       "      <td>0.00</td>\n",
       "      <td>3,001.00</td>\n",
       "      <td>81.00</td>\n",
       "    </tr>\n",
       "    <tr>\n",
       "      <th>2</th>\n",
       "      <td>10</td>\n",
       "      <td>5,196,000.00</td>\n",
       "      <td>56.00</td>\n",
       "      <td>2015-08-20T00:00:00</td>\n",
       "      <td>2</td>\n",
       "      <td>NaN</td>\n",
       "      <td>5.00</td>\n",
       "      <td>34.30</td>\n",
       "      <td>4</td>\n",
       "      <td>NaN</td>\n",
       "      <td>...</td>\n",
       "      <td>8.30</td>\n",
       "      <td>0.00</td>\n",
       "      <td>Санкт-Петербург</td>\n",
       "      <td>21,741.00</td>\n",
       "      <td>13,933.00</td>\n",
       "      <td>1.00</td>\n",
       "      <td>90.00</td>\n",
       "      <td>2.00</td>\n",
       "      <td>574.00</td>\n",
       "      <td>558.00</td>\n",
       "    </tr>\n",
       "    <tr>\n",
       "      <th>3</th>\n",
       "      <td>0</td>\n",
       "      <td>64,900,000.00</td>\n",
       "      <td>159.00</td>\n",
       "      <td>2015-07-24T00:00:00</td>\n",
       "      <td>3</td>\n",
       "      <td>NaN</td>\n",
       "      <td>14.00</td>\n",
       "      <td>NaN</td>\n",
       "      <td>9</td>\n",
       "      <td>NaN</td>\n",
       "      <td>...</td>\n",
       "      <td>NaN</td>\n",
       "      <td>0.00</td>\n",
       "      <td>Санкт-Петербург</td>\n",
       "      <td>28,098.00</td>\n",
       "      <td>6,800.00</td>\n",
       "      <td>2.00</td>\n",
       "      <td>84.00</td>\n",
       "      <td>3.00</td>\n",
       "      <td>234.00</td>\n",
       "      <td>424.00</td>\n",
       "    </tr>\n",
       "    <tr>\n",
       "      <th>4</th>\n",
       "      <td>2</td>\n",
       "      <td>10,000,000.00</td>\n",
       "      <td>100.00</td>\n",
       "      <td>2018-06-19T00:00:00</td>\n",
       "      <td>2</td>\n",
       "      <td>3.03</td>\n",
       "      <td>14.00</td>\n",
       "      <td>32.00</td>\n",
       "      <td>13</td>\n",
       "      <td>NaN</td>\n",
       "      <td>...</td>\n",
       "      <td>41.00</td>\n",
       "      <td>NaN</td>\n",
       "      <td>Санкт-Петербург</td>\n",
       "      <td>31,856.00</td>\n",
       "      <td>8,098.00</td>\n",
       "      <td>2.00</td>\n",
       "      <td>112.00</td>\n",
       "      <td>1.00</td>\n",
       "      <td>48.00</td>\n",
       "      <td>121.00</td>\n",
       "    </tr>\n",
       "  </tbody>\n",
       "</table>\n",
       "<p>5 rows × 22 columns</p>\n",
       "</div>"
      ],
      "text/plain": [
       "   total_images    last_price  total_area first_day_exposition  rooms  \\\n",
       "0            20 13,000,000.00      108.00  2019-03-07T00:00:00      3   \n",
       "1             7  3,350,000.00       40.40  2018-12-04T00:00:00      1   \n",
       "2            10  5,196,000.00       56.00  2015-08-20T00:00:00      2   \n",
       "3             0 64,900,000.00      159.00  2015-07-24T00:00:00      3   \n",
       "4             2 10,000,000.00      100.00  2018-06-19T00:00:00      2   \n",
       "\n",
       "   ceiling_height  floors_total  living_area  floor is_apartment  ...  \\\n",
       "0            2.70         16.00        51.00      8          NaN  ...   \n",
       "1             NaN         11.00        18.60      1          NaN  ...   \n",
       "2             NaN          5.00        34.30      4          NaN  ...   \n",
       "3             NaN         14.00          NaN      9          NaN  ...   \n",
       "4            3.03         14.00        32.00     13          NaN  ...   \n",
       "\n",
       "   kitchen_area  balcony    locality_name  airports_nearest  \\\n",
       "0         25.00      NaN  Санкт-Петербург         18,863.00   \n",
       "1         11.00     2.00   поселок Шушары         12,817.00   \n",
       "2          8.30     0.00  Санкт-Петербург         21,741.00   \n",
       "3           NaN     0.00  Санкт-Петербург         28,098.00   \n",
       "4         41.00      NaN  Санкт-Петербург         31,856.00   \n",
       "\n",
       "  city_centers_nearest  parks_around3000  parks_nearest  ponds_around3000  \\\n",
       "0            16,028.00              1.00         482.00              2.00   \n",
       "1            18,603.00              0.00       3,114.25              0.00   \n",
       "2            13,933.00              1.00          90.00              2.00   \n",
       "3             6,800.00              2.00          84.00              3.00   \n",
       "4             8,098.00              2.00         112.00              1.00   \n",
       "\n",
       "   ponds_nearest  days_exposition  \n",
       "0         755.00              NaN  \n",
       "1       3,001.00            81.00  \n",
       "2         574.00           558.00  \n",
       "3         234.00           424.00  \n",
       "4          48.00           121.00  \n",
       "\n",
       "[5 rows x 22 columns]"
      ]
     },
     "execution_count": 15,
     "metadata": {},
     "output_type": "execute_result"
    }
   ],
   "source": [
    "mask_parks = (df['parks_around3000'] == 0) & (df['parks_nearest'].isna())\n",
    "value_to_fillna_parks = df[df['parks_nearest'] > 3000]['parks_nearest'].mean()\n",
    "\n",
    "mask_ponds = (df['ponds_around3000'] == 0) & (df['ponds_nearest'].isna())\n",
    "value_to_fillna_ponds = 3001\n",
    "\n",
    "df.loc[mask_parks, 'parks_nearest'] = df.loc[mask_parks, 'parks_nearest'].fillna(value_to_fillna_parks)\n",
    "df.loc[mask_ponds, 'ponds_nearest'] = df.loc[mask_ponds, 'ponds_nearest'].fillna(value_to_fillna_ponds)\n",
    "\n",
    "df.head()"
   ]
  },
  {
   "cell_type": "code",
   "execution_count": 16,
   "metadata": {},
   "outputs": [
    {
     "data": {
      "text/html": [
       "<div>\n",
       "<style scoped>\n",
       "    .dataframe tbody tr th:only-of-type {\n",
       "        vertical-align: middle;\n",
       "    }\n",
       "\n",
       "    .dataframe tbody tr th {\n",
       "        vertical-align: top;\n",
       "    }\n",
       "\n",
       "    .dataframe thead th {\n",
       "        text-align: right;\n",
       "    }\n",
       "</style>\n",
       "<table border=\"1\" class=\"dataframe\">\n",
       "  <thead>\n",
       "    <tr style=\"text-align: right;\">\n",
       "      <th></th>\n",
       "      <th>total_images</th>\n",
       "      <th>last_price</th>\n",
       "      <th>total_area</th>\n",
       "      <th>first_day_exposition</th>\n",
       "      <th>rooms</th>\n",
       "      <th>ceiling_height</th>\n",
       "      <th>floors_total</th>\n",
       "      <th>living_area</th>\n",
       "      <th>floor</th>\n",
       "      <th>is_apartment</th>\n",
       "      <th>...</th>\n",
       "      <th>kitchen_area</th>\n",
       "      <th>balcony</th>\n",
       "      <th>locality_name</th>\n",
       "      <th>airports_nearest</th>\n",
       "      <th>city_centers_nearest</th>\n",
       "      <th>parks_around3000</th>\n",
       "      <th>parks_nearest</th>\n",
       "      <th>ponds_around3000</th>\n",
       "      <th>ponds_nearest</th>\n",
       "      <th>days_exposition</th>\n",
       "    </tr>\n",
       "  </thead>\n",
       "  <tbody>\n",
       "    <tr>\n",
       "      <th>0</th>\n",
       "      <td>20</td>\n",
       "      <td>13,000,000.00</td>\n",
       "      <td>108.00</td>\n",
       "      <td>2019-03-07T00:00:00</td>\n",
       "      <td>3</td>\n",
       "      <td>2.70</td>\n",
       "      <td>16.00</td>\n",
       "      <td>51.00</td>\n",
       "      <td>8</td>\n",
       "      <td>NaN</td>\n",
       "      <td>...</td>\n",
       "      <td>25.00</td>\n",
       "      <td>NaN</td>\n",
       "      <td>Санкт-Петербург</td>\n",
       "      <td>18,863.00</td>\n",
       "      <td>16,028.00</td>\n",
       "      <td>1.00</td>\n",
       "      <td>482.00</td>\n",
       "      <td>2.00</td>\n",
       "      <td>755.00</td>\n",
       "      <td>NaN</td>\n",
       "    </tr>\n",
       "    <tr>\n",
       "      <th>1</th>\n",
       "      <td>7</td>\n",
       "      <td>3,350,000.00</td>\n",
       "      <td>40.40</td>\n",
       "      <td>2018-12-04T00:00:00</td>\n",
       "      <td>1</td>\n",
       "      <td>NaN</td>\n",
       "      <td>11.00</td>\n",
       "      <td>18.60</td>\n",
       "      <td>1</td>\n",
       "      <td>NaN</td>\n",
       "      <td>...</td>\n",
       "      <td>11.00</td>\n",
       "      <td>2.00</td>\n",
       "      <td>поселок Шушары</td>\n",
       "      <td>12,817.00</td>\n",
       "      <td>18,603.00</td>\n",
       "      <td>0.00</td>\n",
       "      <td>3,114.25</td>\n",
       "      <td>0.00</td>\n",
       "      <td>3,001.00</td>\n",
       "      <td>81.00</td>\n",
       "    </tr>\n",
       "    <tr>\n",
       "      <th>2</th>\n",
       "      <td>10</td>\n",
       "      <td>5,196,000.00</td>\n",
       "      <td>56.00</td>\n",
       "      <td>2015-08-20T00:00:00</td>\n",
       "      <td>2</td>\n",
       "      <td>NaN</td>\n",
       "      <td>5.00</td>\n",
       "      <td>34.30</td>\n",
       "      <td>4</td>\n",
       "      <td>NaN</td>\n",
       "      <td>...</td>\n",
       "      <td>8.30</td>\n",
       "      <td>0.00</td>\n",
       "      <td>Санкт-Петербург</td>\n",
       "      <td>21,741.00</td>\n",
       "      <td>13,933.00</td>\n",
       "      <td>1.00</td>\n",
       "      <td>90.00</td>\n",
       "      <td>2.00</td>\n",
       "      <td>574.00</td>\n",
       "      <td>558.00</td>\n",
       "    </tr>\n",
       "    <tr>\n",
       "      <th>3</th>\n",
       "      <td>0</td>\n",
       "      <td>64,900,000.00</td>\n",
       "      <td>159.00</td>\n",
       "      <td>2015-07-24T00:00:00</td>\n",
       "      <td>3</td>\n",
       "      <td>NaN</td>\n",
       "      <td>14.00</td>\n",
       "      <td>NaN</td>\n",
       "      <td>9</td>\n",
       "      <td>NaN</td>\n",
       "      <td>...</td>\n",
       "      <td>NaN</td>\n",
       "      <td>0.00</td>\n",
       "      <td>Санкт-Петербург</td>\n",
       "      <td>28,098.00</td>\n",
       "      <td>6,800.00</td>\n",
       "      <td>2.00</td>\n",
       "      <td>84.00</td>\n",
       "      <td>3.00</td>\n",
       "      <td>234.00</td>\n",
       "      <td>424.00</td>\n",
       "    </tr>\n",
       "    <tr>\n",
       "      <th>4</th>\n",
       "      <td>2</td>\n",
       "      <td>10,000,000.00</td>\n",
       "      <td>100.00</td>\n",
       "      <td>2018-06-19T00:00:00</td>\n",
       "      <td>2</td>\n",
       "      <td>3.03</td>\n",
       "      <td>14.00</td>\n",
       "      <td>32.00</td>\n",
       "      <td>13</td>\n",
       "      <td>NaN</td>\n",
       "      <td>...</td>\n",
       "      <td>41.00</td>\n",
       "      <td>NaN</td>\n",
       "      <td>Санкт-Петербург</td>\n",
       "      <td>31,856.00</td>\n",
       "      <td>8,098.00</td>\n",
       "      <td>2.00</td>\n",
       "      <td>112.00</td>\n",
       "      <td>1.00</td>\n",
       "      <td>48.00</td>\n",
       "      <td>121.00</td>\n",
       "    </tr>\n",
       "  </tbody>\n",
       "</table>\n",
       "<p>5 rows × 22 columns</p>\n",
       "</div>"
      ],
      "text/plain": [
       "   total_images    last_price  total_area first_day_exposition  rooms  \\\n",
       "0            20 13,000,000.00      108.00  2019-03-07T00:00:00      3   \n",
       "1             7  3,350,000.00       40.40  2018-12-04T00:00:00      1   \n",
       "2            10  5,196,000.00       56.00  2015-08-20T00:00:00      2   \n",
       "3             0 64,900,000.00      159.00  2015-07-24T00:00:00      3   \n",
       "4             2 10,000,000.00      100.00  2018-06-19T00:00:00      2   \n",
       "\n",
       "   ceiling_height  floors_total  living_area  floor is_apartment  ...  \\\n",
       "0            2.70         16.00        51.00      8          NaN  ...   \n",
       "1             NaN         11.00        18.60      1          NaN  ...   \n",
       "2             NaN          5.00        34.30      4          NaN  ...   \n",
       "3             NaN         14.00          NaN      9          NaN  ...   \n",
       "4            3.03         14.00        32.00     13          NaN  ...   \n",
       "\n",
       "   kitchen_area  balcony    locality_name  airports_nearest  \\\n",
       "0         25.00      NaN  Санкт-Петербург         18,863.00   \n",
       "1         11.00     2.00   поселок Шушары         12,817.00   \n",
       "2          8.30     0.00  Санкт-Петербург         21,741.00   \n",
       "3           NaN     0.00  Санкт-Петербург         28,098.00   \n",
       "4         41.00      NaN  Санкт-Петербург         31,856.00   \n",
       "\n",
       "  city_centers_nearest  parks_around3000  parks_nearest  ponds_around3000  \\\n",
       "0            16,028.00              1.00         482.00              2.00   \n",
       "1            18,603.00              0.00       3,114.25              0.00   \n",
       "2            13,933.00              1.00          90.00              2.00   \n",
       "3             6,800.00              2.00          84.00              3.00   \n",
       "4             8,098.00              2.00         112.00              1.00   \n",
       "\n",
       "   ponds_nearest  days_exposition  \n",
       "0         755.00              NaN  \n",
       "1       3,001.00            81.00  \n",
       "2         574.00           558.00  \n",
       "3         234.00           424.00  \n",
       "4          48.00           121.00  \n",
       "\n",
       "[5 rows x 22 columns]"
      ]
     },
     "execution_count": 16,
     "metadata": {},
     "output_type": "execute_result"
    }
   ],
   "source": [
    "mask_parks = (df['parks_around3000'] > 0) & (df['parks_nearest'].isna())\n",
    "value_to_fillna_parks = df[df['parks_nearest'] <= 3000]['parks_nearest'].mean()\n",
    "\n",
    "mask_ponds = (df['ponds_around3000'] > 0) & (df['ponds_nearest'].isna())\n",
    "value_to_fillna_ponds = df['ponds_nearest'].mean()\n",
    "\n",
    "df.loc[mask_parks, 'parks_nearest'] = df.loc[mask_parks, 'parks_nearest'].fillna(value_to_fillna_parks)\n",
    "df.loc[mask_ponds, 'ponds_nearest'] = df.loc[mask_ponds, 'ponds_nearest'].fillna(value_to_fillna_ponds)\n",
    "\n",
    "df.head()"
   ]
  },
  {
   "cell_type": "code",
   "execution_count": 17,
   "metadata": {},
   "outputs": [
    {
     "data": {
      "text/plain": [
       "balcony                 11480\n",
       "ponds_nearest            5508\n",
       "ponds_around3000         5508\n",
       "parks_nearest            5508\n",
       "parks_around3000         5508\n",
       "city_centers_nearest     5432\n",
       "airports_nearest         5432\n",
       "days_exposition          3172\n",
       "last_price                  0\n",
       "locality_name               0\n",
       "kitchen_area                0\n",
       "total_images                0\n",
       "studio                      0\n",
       "is_apartment                0\n",
       "floor                       0\n",
       "living_area                 0\n",
       "floors_total                0\n",
       "ceiling_height              0\n",
       "rooms                       0\n",
       "first_day_exposition        0\n",
       "total_area                  0\n",
       "open_plan                   0\n",
       "dtype: int64"
      ]
     },
     "execution_count": 17,
     "metadata": {},
     "output_type": "execute_result"
    }
   ],
   "source": [
    "def fillna_with_median(df, columns):\n",
    "    '''Replace nan-values with median'''\n",
    "    df = df.copy()\n",
    "    for col in columns:\n",
    "        df[col] = df[col].fillna(df[col].median()).astype(float)\n",
    "    return df\n",
    "\n",
    "def fillna_with_median_by_groups (df, columns_to_group, columns_to_fillna):\n",
    "    '''Replace nan-values with median by groups'''\n",
    "    df = df.copy()\n",
    "    for col in columns_to_fillna:\n",
    "        groups = df.groupby(columns_to_group)[col].transform('median')\n",
    "        df[col] = df[col].fillna(groups)\n",
    "    return df\n",
    "\n",
    "def fillna_and_convert_to_int(df, columns):\n",
    "    '''Replace nan-values with 0 and convert to int'''\n",
    "    df = df.copy()\n",
    "    for col in columns:\n",
    "        df[col] = df[col].fillna(0).astype(int)\n",
    "    return df\n",
    "\n",
    "columns_to_group_1 = ['total_area']\n",
    "columns_to_fillna_median_by_group_1 = ['living_area', 'kitchen_area', 'ceiling_height'] \n",
    "\n",
    "columns_to_group_2 = ['locality_name']\n",
    "columns_to_fillna_median_by_group_2 = ['city_centers_nearest', 'airports_nearest']\n",
    "columns_to_prep = ['is_apartment','open_plan','studio']\n",
    "\n",
    "df = (\n",
    "    df\n",
    "    .dropna(subset=['floors_total'])\n",
    "# replace nan-values in living_area, kitchen_area, ceiling_height with median by area groups\n",
    "    .pipe(fillna_with_median_by_groups, columns_to_group_1, columns_to_fillna_median_by_group_1)\n",
    "# replace nan-values in city_centers_nearest и airports_nearest with median by locality groups\n",
    "    .pipe(fillna_with_median_by_groups, columns_to_group_2, columns_to_fillna_median_by_group_2)\n",
    "# replace nan-values in  is_apartment, open_plan and studio with 0 and convert into int type\n",
    "    .pipe(fillna_and_convert_to_int, columns_to_prep)\n",
    "# remaining nan-values replace with median by whole column\n",
    "    .pipe(fillna_with_median, columns_to_fillna_median_by_group_1)\n",
    ")\n",
    "    \n",
    "df.isna().sum().sort_values(ascending=False)"
   ]
  },
  {
   "cell_type": "code",
   "execution_count": 18,
   "metadata": {},
   "outputs": [],
   "source": [
    "# floors_total int\n",
    "df['floors_total'] = df['floors_total'].astype('int')"
   ]
  },
  {
   "cell_type": "markdown",
   "metadata": {},
   "source": [
    "<a id=\"add_columns\"></a>\n",
    "### Adding columns"
   ]
  },
  {
   "cell_type": "code",
   "execution_count": 19,
   "metadata": {},
   "outputs": [
    {
     "data": {
      "text/plain": [
       "Index(['total_images', 'last_price', 'total_area', 'first_day_exposition',\n",
       "       'rooms', 'ceiling_height', 'floors_total', 'living_area', 'floor',\n",
       "       'is_apartment', 'studio', 'open_plan', 'kitchen_area', 'balcony',\n",
       "       'locality_name', 'airports_nearest', 'city_centers_nearest',\n",
       "       'parks_around3000', 'parks_nearest', 'ponds_around3000',\n",
       "       'ponds_nearest', 'days_exposition', 'price_per_area',\n",
       "       'first_exposition_month', 'first_exposition_day_of_week',\n",
       "       'first_exposition_year', 'floor_group', 'living_area_share',\n",
       "       'kitchen_area_share'],\n",
       "      dtype='object')"
      ]
     },
     "execution_count": 19,
     "metadata": {},
     "output_type": "execute_result"
    }
   ],
   "source": [
    "def create_floor_group(df):\n",
    "    '''Create new column with categories by number of floors: 1 - first, 3 - last, 2 - other'''\n",
    "    if df['floor'] == 1:\n",
    "        return 1\n",
    "    elif df['floor'] == df['floors_total']:\n",
    "        return 3\n",
    "    else:\n",
    "        return 2\n",
    "\n",
    "def prep_of_columns(df):\n",
    "    '''Converting columns with date and add new'''\n",
    "    return df.assign(\n",
    "#         price of square meter\n",
    "        price_per_area = lambda x: x['last_price'] / x['total_area'],\n",
    "#         number of week, month and year of ad publication\n",
    "        first_day_exposition = lambda x: pd.to_datetime(x['first_day_exposition'],format = '%Y%m%dT%H:%M:%S'),\n",
    "        first_exposition_month = lambda x: x['first_day_exposition'].dt.month,\n",
    "        first_exposition_day_of_week = lambda x: x['first_day_exposition'].dt.dayofweek,\n",
    "        first_exposition_year = lambda x: x['first_day_exposition'].dt.year,\n",
    "#         categorie of floor (first, last, other)\n",
    "        floor_group = lambda x: x.apply(create_floor_group, axis = 1),\n",
    "#         ratio of living and total area\n",
    "        living_area_share = lambda x: x['living_area'] / x['total_area'],\n",
    "#         ratio of kitchen and total area\n",
    "        kitchen_area_share = lambda x: x['kitchen_area'] / x['total_area'],\n",
    "    )\n",
    "\n",
    "df = (\n",
    "    df\n",
    "    .pipe(prep_of_columns)\n",
    ")\n",
    "df.columns"
   ]
  },
  {
   "cell_type": "code",
   "execution_count": 20,
   "metadata": {},
   "outputs": [
    {
     "data": {
      "text/html": [
       "<div>\n",
       "<style scoped>\n",
       "    .dataframe tbody tr th:only-of-type {\n",
       "        vertical-align: middle;\n",
       "    }\n",
       "\n",
       "    .dataframe tbody tr th {\n",
       "        vertical-align: top;\n",
       "    }\n",
       "\n",
       "    .dataframe thead th {\n",
       "        text-align: right;\n",
       "    }\n",
       "</style>\n",
       "<table border=\"1\" class=\"dataframe\">\n",
       "  <thead>\n",
       "    <tr style=\"text-align: right;\">\n",
       "      <th></th>\n",
       "      <th>total_images</th>\n",
       "      <th>last_price</th>\n",
       "      <th>total_area</th>\n",
       "      <th>first_day_exposition</th>\n",
       "      <th>rooms</th>\n",
       "      <th>ceiling_height</th>\n",
       "      <th>floors_total</th>\n",
       "      <th>living_area</th>\n",
       "      <th>floor</th>\n",
       "      <th>is_apartment</th>\n",
       "      <th>...</th>\n",
       "      <th>ponds_around3000</th>\n",
       "      <th>ponds_nearest</th>\n",
       "      <th>days_exposition</th>\n",
       "      <th>price_per_area</th>\n",
       "      <th>first_exposition_month</th>\n",
       "      <th>first_exposition_day_of_week</th>\n",
       "      <th>first_exposition_year</th>\n",
       "      <th>floor_group</th>\n",
       "      <th>living_area_share</th>\n",
       "      <th>kitchen_area_share</th>\n",
       "    </tr>\n",
       "  </thead>\n",
       "  <tbody>\n",
       "    <tr>\n",
       "      <th>0</th>\n",
       "      <td>20</td>\n",
       "      <td>13,000,000.00</td>\n",
       "      <td>108.00</td>\n",
       "      <td>2019-03-07</td>\n",
       "      <td>3</td>\n",
       "      <td>2.70</td>\n",
       "      <td>16</td>\n",
       "      <td>51.00</td>\n",
       "      <td>8</td>\n",
       "      <td>0</td>\n",
       "      <td>...</td>\n",
       "      <td>2.00</td>\n",
       "      <td>755.00</td>\n",
       "      <td>NaN</td>\n",
       "      <td>120,370.37</td>\n",
       "      <td>3</td>\n",
       "      <td>3</td>\n",
       "      <td>2019</td>\n",
       "      <td>2</td>\n",
       "      <td>0.47</td>\n",
       "      <td>0.23</td>\n",
       "    </tr>\n",
       "    <tr>\n",
       "      <th>1</th>\n",
       "      <td>7</td>\n",
       "      <td>3,350,000.00</td>\n",
       "      <td>40.40</td>\n",
       "      <td>2018-12-04</td>\n",
       "      <td>1</td>\n",
       "      <td>2.70</td>\n",
       "      <td>11</td>\n",
       "      <td>18.60</td>\n",
       "      <td>1</td>\n",
       "      <td>0</td>\n",
       "      <td>...</td>\n",
       "      <td>0.00</td>\n",
       "      <td>3,001.00</td>\n",
       "      <td>81.00</td>\n",
       "      <td>82,920.79</td>\n",
       "      <td>12</td>\n",
       "      <td>1</td>\n",
       "      <td>2018</td>\n",
       "      <td>1</td>\n",
       "      <td>0.46</td>\n",
       "      <td>0.27</td>\n",
       "    </tr>\n",
       "    <tr>\n",
       "      <th>2</th>\n",
       "      <td>10</td>\n",
       "      <td>5,196,000.00</td>\n",
       "      <td>56.00</td>\n",
       "      <td>2015-08-20</td>\n",
       "      <td>2</td>\n",
       "      <td>2.60</td>\n",
       "      <td>5</td>\n",
       "      <td>34.30</td>\n",
       "      <td>4</td>\n",
       "      <td>0</td>\n",
       "      <td>...</td>\n",
       "      <td>2.00</td>\n",
       "      <td>574.00</td>\n",
       "      <td>558.00</td>\n",
       "      <td>92,785.71</td>\n",
       "      <td>8</td>\n",
       "      <td>3</td>\n",
       "      <td>2015</td>\n",
       "      <td>2</td>\n",
       "      <td>0.61</td>\n",
       "      <td>0.15</td>\n",
       "    </tr>\n",
       "    <tr>\n",
       "      <th>3</th>\n",
       "      <td>0</td>\n",
       "      <td>64,900,000.00</td>\n",
       "      <td>159.00</td>\n",
       "      <td>2015-07-24</td>\n",
       "      <td>3</td>\n",
       "      <td>3.14</td>\n",
       "      <td>14</td>\n",
       "      <td>95.00</td>\n",
       "      <td>9</td>\n",
       "      <td>0</td>\n",
       "      <td>...</td>\n",
       "      <td>3.00</td>\n",
       "      <td>234.00</td>\n",
       "      <td>424.00</td>\n",
       "      <td>408,176.10</td>\n",
       "      <td>7</td>\n",
       "      <td>4</td>\n",
       "      <td>2015</td>\n",
       "      <td>2</td>\n",
       "      <td>0.60</td>\n",
       "      <td>0.09</td>\n",
       "    </tr>\n",
       "    <tr>\n",
       "      <th>4</th>\n",
       "      <td>2</td>\n",
       "      <td>10,000,000.00</td>\n",
       "      <td>100.00</td>\n",
       "      <td>2018-06-19</td>\n",
       "      <td>2</td>\n",
       "      <td>3.03</td>\n",
       "      <td>14</td>\n",
       "      <td>32.00</td>\n",
       "      <td>13</td>\n",
       "      <td>0</td>\n",
       "      <td>...</td>\n",
       "      <td>1.00</td>\n",
       "      <td>48.00</td>\n",
       "      <td>121.00</td>\n",
       "      <td>100,000.00</td>\n",
       "      <td>6</td>\n",
       "      <td>1</td>\n",
       "      <td>2018</td>\n",
       "      <td>2</td>\n",
       "      <td>0.32</td>\n",
       "      <td>0.41</td>\n",
       "    </tr>\n",
       "  </tbody>\n",
       "</table>\n",
       "<p>5 rows × 29 columns</p>\n",
       "</div>"
      ],
      "text/plain": [
       "   total_images    last_price  total_area first_day_exposition  rooms  \\\n",
       "0            20 13,000,000.00      108.00           2019-03-07      3   \n",
       "1             7  3,350,000.00       40.40           2018-12-04      1   \n",
       "2            10  5,196,000.00       56.00           2015-08-20      2   \n",
       "3             0 64,900,000.00      159.00           2015-07-24      3   \n",
       "4             2 10,000,000.00      100.00           2018-06-19      2   \n",
       "\n",
       "   ceiling_height  floors_total  living_area  floor  is_apartment  ...  \\\n",
       "0            2.70            16        51.00      8             0  ...   \n",
       "1            2.70            11        18.60      1             0  ...   \n",
       "2            2.60             5        34.30      4             0  ...   \n",
       "3            3.14            14        95.00      9             0  ...   \n",
       "4            3.03            14        32.00     13             0  ...   \n",
       "\n",
       "   ponds_around3000  ponds_nearest  days_exposition  price_per_area  \\\n",
       "0              2.00         755.00              NaN      120,370.37   \n",
       "1              0.00       3,001.00            81.00       82,920.79   \n",
       "2              2.00         574.00           558.00       92,785.71   \n",
       "3              3.00         234.00           424.00      408,176.10   \n",
       "4              1.00          48.00           121.00      100,000.00   \n",
       "\n",
       "  first_exposition_month  first_exposition_day_of_week  first_exposition_year  \\\n",
       "0                      3                             3                   2019   \n",
       "1                     12                             1                   2018   \n",
       "2                      8                             3                   2015   \n",
       "3                      7                             4                   2015   \n",
       "4                      6                             1                   2018   \n",
       "\n",
       "   floor_group  living_area_share  kitchen_area_share  \n",
       "0            2               0.47                0.23  \n",
       "1            1               0.46                0.27  \n",
       "2            2               0.61                0.15  \n",
       "3            2               0.60                0.09  \n",
       "4            2               0.32                0.41  \n",
       "\n",
       "[5 rows x 29 columns]"
      ]
     },
     "execution_count": 20,
     "metadata": {},
     "output_type": "execute_result"
    }
   ],
   "source": [
    "df.head()"
   ]
  },
  {
   "cell_type": "markdown",
   "metadata": {},
   "source": [
    "* `price_per_area` — price of square meter\n",
    "* `first_exposition_month` — number of month of ad publication\n",
    "* `first_exposition_day_of_week` — number of day in week of ad publication\n",
    "* `first_exposition_year` — year of ad publication\n",
    "* `floor_group` — categorie of number of floor (first, last, other)\n",
    "* `living_area_share` — ratio of living and total area\n",
    "* `kitchen_area_share` — ratio of kitchen and total area"
   ]
  },
  {
   "cell_type": "markdown",
   "metadata": {},
   "source": [
    "<a id=\"removing\"></a>\n",
    "### Remove outliners"
   ]
  },
  {
   "cell_type": "code",
   "execution_count": 21,
   "metadata": {
    "scrolled": true
   },
   "outputs": [
    {
     "data": {
      "image/png": "[encoded data removed]",
      "text/plain": [
       "<Figure size 432x288 with 1 Axes>"
      ]
     },
     "metadata": {
      "needs_background": "light"
     },
     "output_type": "display_data"
    }
   ],
   "source": [
    "df.boxplot('last_price')\n",
    "plt.show()"
   ]
  },
  {
   "cell_type": "markdown",
   "metadata": {},
   "source": [
    "Выбиваются отдельные значения со стоимостью свыше 200 млн. Удалим строки со значениями свыше 200 млн"
   ]
  },
  {
   "cell_type": "code",
   "execution_count": 22,
   "metadata": {},
   "outputs": [],
   "source": [
    "df = df[(df['last_price'] <= 2*10**8)]"
   ]
  },
  {
   "cell_type": "code",
   "execution_count": 23,
   "metadata": {},
   "outputs": [
    {
     "data": {
      "image/png": "[encoded data removed]",
      "text/plain": [
       "<Figure size 432x288 with 1 Axes>"
      ]
     },
     "metadata": {
      "needs_background": "light"
     },
     "output_type": "display_data"
    }
   ],
   "source": [
    "df.boxplot('last_price')\n",
    "plt.show()"
   ]
  },
  {
   "cell_type": "markdown",
   "metadata": {},
   "source": [
    "Виден разрыв значений. Было решено отбросить те значения, которые больше 35 млн"
   ]
  },
  {
   "cell_type": "code",
   "execution_count": 24,
   "metadata": {},
   "outputs": [
    {
     "data": {
      "image/png": "[encoded data removed]",
      "text/plain": [
       "<Figure size 432x288 with 1 Axes>"
      ]
     },
     "metadata": {
      "needs_background": "light"
     },
     "output_type": "display_data"
    }
   ],
   "source": [
    "df = df[(df['last_price'] <= 3.5*10**7)]\n",
    "df.boxplot('last_price')\n",
    "plt.show()"
   ]
  },
  {
   "cell_type": "code",
   "execution_count": 25,
   "metadata": {},
   "outputs": [
    {
     "data": {
      "image/png": "[encoded data removed]",
      "text/plain": [
       "<Figure size 432x288 with 1 Axes>"
      ]
     },
     "metadata": {
      "needs_background": "light"
     },
     "output_type": "display_data"
    }
   ],
   "source": [
    "# рассмотрим total_area\n",
    "df.boxplot('total_area')\n",
    "plt.show()"
   ]
  },
  {
   "cell_type": "markdown",
   "metadata": {},
   "source": [
    "По графику видно большое количество точек-выбросов, но видно два \"разрыва\" между ними. Было принято решение отбросить те выбросы, которые больше 270"
   ]
  },
  {
   "cell_type": "code",
   "execution_count": 26,
   "metadata": {},
   "outputs": [
    {
     "data": {
      "image/png": "[encoded data removed]",
      "text/plain": [
       "<Figure size 432x288 with 1 Axes>"
      ]
     },
     "metadata": {
      "needs_background": "light"
     },
     "output_type": "display_data"
    }
   ],
   "source": [
    "df = df[(df['total_area'] < 270)]\n",
    "df.boxplot('total_area')\n",
    "plt.show()"
   ]
  },
  {
   "cell_type": "code",
   "execution_count": 27,
   "metadata": {},
   "outputs": [
    {
     "data": {
      "image/png": "[encoded data removed]",
      "text/plain": [
       "<Figure size 432x288 with 1 Axes>"
      ]
     },
     "metadata": {
      "needs_background": "light"
     },
     "output_type": "display_data"
    }
   ],
   "source": [
    "# рассмотрим total_area\n",
    "df.boxplot('rooms')\n",
    "plt.show()"
   ]
  },
  {
   "cell_type": "markdown",
   "metadata": {},
   "source": [
    "Также много выбросов по графику, отбросим все строки, в которых комнат больше 7"
   ]
  },
  {
   "cell_type": "code",
   "execution_count": 28,
   "metadata": {},
   "outputs": [
    {
     "data": {
      "image/png": "[encoded data removed]",
      "text/plain": [
       "<Figure size 432x288 with 1 Axes>"
      ]
     },
     "metadata": {
      "needs_background": "light"
     },
     "output_type": "display_data"
    }
   ],
   "source": [
    "df = df[(df['rooms'] < 7)]\n",
    "df.boxplot('rooms')\n",
    "plt.show()"
   ]
  },
  {
   "cell_type": "code",
   "execution_count": 29,
   "metadata": {},
   "outputs": [
    {
     "data": {
      "image/png": "[encoded data removed]",
      "text/plain": [
       "<Figure size 432x288 with 1 Axes>"
      ]
     },
     "metadata": {
      "needs_background": "light"
     },
     "output_type": "display_data"
    }
   ],
   "source": [
    "# рассмотрим ceiling_height\n",
    "df.boxplot('ceiling_height')\n",
    "plt.show()"
   ]
  },
  {
   "cell_type": "markdown",
   "metadata": {},
   "source": [
    "Здесь видны выбросы в обе стороны. Очень выделяется значение в 100 м. Оставим те строки, в которых высота потолков ниже 19 м."
   ]
  },
  {
   "cell_type": "code",
   "execution_count": 30,
   "metadata": {
    "scrolled": true
   },
   "outputs": [
    {
     "data": {
      "image/png": "[encoded data removed]",
      "text/plain": [
       "<Figure size 432x288 with 1 Axes>"
      ]
     },
     "metadata": {
      "needs_background": "light"
     },
     "output_type": "display_data"
    }
   ],
   "source": [
    "df = df[(df['ceiling_height'] < 19)]\n",
    "df.boxplot('ceiling_height')\n",
    "plt.show()"
   ]
  },
  {
   "cell_type": "markdown",
   "metadata": {},
   "source": [
    "Также осталось много выбросов, поэтому было решено оставить строки с высотой потолков от 2 до 3,5 метров"
   ]
  },
  {
   "cell_type": "code",
   "execution_count": 31,
   "metadata": {
    "scrolled": false
   },
   "outputs": [
    {
     "data": {
      "image/png": "[encoded data removed]",
      "text/plain": [
       "<Figure size 432x288 with 1 Axes>"
      ]
     },
     "metadata": {
      "needs_background": "light"
     },
     "output_type": "display_data"
    }
   ],
   "source": [
    "df = df.query('2 < ceiling_height < 3.5')\n",
    "df.boxplot('ceiling_height')\n",
    "plt.show()"
   ]
  },
  {
   "cell_type": "code",
   "execution_count": 32,
   "metadata": {
    "scrolled": false
   },
   "outputs": [
    {
     "name": "stdout",
     "output_type": "stream",
     "text": [
      "<class 'pandas.core.frame.DataFrame'>\n",
      "Int64Index: 22871 entries, 0 to 23698\n",
      "Data columns (total 29 columns):\n",
      " #   Column                        Non-Null Count  Dtype         \n",
      "---  ------                        --------------  -----         \n",
      " 0   total_images                  22871 non-null  int64         \n",
      " 1   last_price                    22871 non-null  float64       \n",
      " 2   total_area                    22871 non-null  float64       \n",
      " 3   first_day_exposition          22871 non-null  datetime64[ns]\n",
      " 4   rooms                         22871 non-null  int64         \n",
      " 5   ceiling_height                22871 non-null  float64       \n",
      " 6   floors_total                  22871 non-null  int32         \n",
      " 7   living_area                   22871 non-null  float64       \n",
      " 8   floor                         22871 non-null  int64         \n",
      " 9   is_apartment                  22871 non-null  int32         \n",
      " 10  studio                        22871 non-null  int32         \n",
      " 11  open_plan                     22871 non-null  int32         \n",
      " 12  kitchen_area                  22871 non-null  float64       \n",
      " 13  balcony                       11820 non-null  float64       \n",
      " 14  locality_name                 22871 non-null  object        \n",
      " 15  airports_nearest              17475 non-null  float64       \n",
      " 16  city_centers_nearest          17475 non-null  float64       \n",
      " 17  parks_around3000              17408 non-null  float64       \n",
      " 18  parks_nearest                 17408 non-null  float64       \n",
      " 19  ponds_around3000              17408 non-null  float64       \n",
      " 20  ponds_nearest                 17408 non-null  float64       \n",
      " 21  days_exposition               19879 non-null  float64       \n",
      " 22  price_per_area                22871 non-null  float64       \n",
      " 23  first_exposition_month        22871 non-null  int64         \n",
      " 24  first_exposition_day_of_week  22871 non-null  int64         \n",
      " 25  first_exposition_year         22871 non-null  int64         \n",
      " 26  floor_group                   22871 non-null  int64         \n",
      " 27  living_area_share             22871 non-null  float64       \n",
      " 28  kitchen_area_share            22871 non-null  float64       \n",
      "dtypes: datetime64[ns](1), float64(16), int32(4), int64(7), object(1)\n",
      "memory usage: 4.9+ MB\n"
     ]
    }
   ],
   "source": [
    "df.info()"
   ]
  },
  {
   "cell_type": "markdown",
   "metadata": {},
   "source": [
    "<a id=\"summary_prep\"></a>\n",
    "### Summary"
   ]
  },
  {
   "cell_type": "markdown",
   "metadata": {},
   "source": [
    "The data was processed for further work: missing values ​​were replaced, duplicates were removed, data types were changed to suitable ones\n",
    "\n",
    "* In the columns `'is_apartment'`, ``open_plan'`, ``studio'`, the missing values were replaced with 0, since if the apartment met the relevant conditions, the owner would indicate this\n",
    "\n",
    "* In the columns `'living_area'`, `'kitchen_area'`, `'ceiling_height'`, `'balcony'`, the missing values were replaced with medians for groups by `'total_area'`\n",
    "\n",
    "* It was decided to replace the remaining NaNs with the median values for the column\n",
    "\n",
    "* In `'parks_nearest'`, `'ponds_nearest'`, `'airports_nearest'`, `'cityCenters_nearest'`, `'parks_around3000'`, `'ponds_around3000'` it was decided to leave the NaN part, as they affect further calculations related directly to the apartment parameters, and if necessary, can be deleted. Some missing values have been replaced with \"logical\" conditions, such as the replacements for `'parks_nearest'` and `'parks_around3000'`.\n",
    "\n",
    "* Gaps in `'city_centers_nearest'` and `'airports_nearest'` have been replaced with the median values of those strings that matched `'locality_name'`\n",
    "\n",
    "* In the `'floors_total'` column, due to the small number (86), the rows that are equal to NaN have been removed\n",
    "\n",
    "* Column `'cityCenters_nearest'` renamed to `'city_centers_nearest'`\n",
    "\n",
    "* Values in `'first_day_exposition'` have been cast to `datetime` data type\n",
    "\n",
    "* Replaced missing values in `'locality_name'` column with `\"unknown\"`\n",
    "\n",
    "* Removed implicit duplicates in `'locality_name'`\n",
    "\n",
    "* Changed data types in columns `'days_exposition'`, `'floors_total'`\n",
    "\n",
    "Our functions:\n",
    "* categorized floors and created separate column `'floor_group'`\n",
    "\n",
    "* with the help of `.assign()` and `.pipe()` auxiliary columns were successively added for further work.\n",
    "\n",
    "* In the `'first_day_exposition'` column, the data type was changed to `datetime`, after which, through special methods for working with `datetime(dt)`, separate columns were created for solving further problems\n",
    "\n",
    "Были удалены \"сверх\" выбросы по столбцам `'last_price'`, `'total_area'`, `'rooms'` и `'ceiling_height'` с помощью графика \"ящик с усами\" (`.boxplot()`)\n",
    "\n",
    "Через первое построение графика выбивался один \"сверх\" выброс в каждой колонке, который соответствовал максимальному значению, полученному методом `.describe()`"
   ]
  },
  {
   "cell_type": "markdown",
   "metadata": {},
   "source": [
    "<a id=\"eda\"></a>\n",
    "## EDA"
   ]
  },
  {
   "cell_type": "markdown",
   "metadata": {},
   "source": [
    "<a id=\"explore_area_price_rooms_ceiling\"></a>\n",
    "### Exploring area, price, number of rooms and height of ceiling"
   ]
  },
  {
   "cell_type": "code",
   "execution_count": 33,
   "metadata": {},
   "outputs": [
    {
     "data": {
      "text/html": [
       "<div>\n",
       "<style scoped>\n",
       "    .dataframe tbody tr th:only-of-type {\n",
       "        vertical-align: middle;\n",
       "    }\n",
       "\n",
       "    .dataframe tbody tr th {\n",
       "        vertical-align: top;\n",
       "    }\n",
       "\n",
       "    .dataframe thead th {\n",
       "        text-align: right;\n",
       "    }\n",
       "</style>\n",
       "<table border=\"1\" class=\"dataframe\">\n",
       "  <thead>\n",
       "    <tr style=\"text-align: right;\">\n",
       "      <th></th>\n",
       "      <th>total_area</th>\n",
       "      <th>last_price</th>\n",
       "      <th>rooms</th>\n",
       "      <th>ceiling_height</th>\n",
       "    </tr>\n",
       "  </thead>\n",
       "  <tbody>\n",
       "    <tr>\n",
       "      <th>count</th>\n",
       "      <td>22,871.00</td>\n",
       "      <td>22,871.00</td>\n",
       "      <td>22,871.00</td>\n",
       "      <td>22,871.00</td>\n",
       "    </tr>\n",
       "    <tr>\n",
       "      <th>mean</th>\n",
       "      <td>57.30</td>\n",
       "      <td>5,660,735.49</td>\n",
       "      <td>2.01</td>\n",
       "      <td>2.67</td>\n",
       "    </tr>\n",
       "    <tr>\n",
       "      <th>std</th>\n",
       "      <td>25.77</td>\n",
       "      <td>4,032,329.68</td>\n",
       "      <td>0.97</td>\n",
       "      <td>0.18</td>\n",
       "    </tr>\n",
       "    <tr>\n",
       "      <th>min</th>\n",
       "      <td>12.00</td>\n",
       "      <td>12,190.00</td>\n",
       "      <td>0.00</td>\n",
       "      <td>2.20</td>\n",
       "    </tr>\n",
       "    <tr>\n",
       "      <th>25%</th>\n",
       "      <td>40.00</td>\n",
       "      <td>3,400,000.00</td>\n",
       "      <td>1.00</td>\n",
       "      <td>2.55</td>\n",
       "    </tr>\n",
       "    <tr>\n",
       "      <th>50%</th>\n",
       "      <td>51.00</td>\n",
       "      <td>4,550,000.00</td>\n",
       "      <td>2.00</td>\n",
       "      <td>2.60</td>\n",
       "    </tr>\n",
       "    <tr>\n",
       "      <th>75%</th>\n",
       "      <td>67.70</td>\n",
       "      <td>6,500,000.00</td>\n",
       "      <td>3.00</td>\n",
       "      <td>2.75</td>\n",
       "    </tr>\n",
       "    <tr>\n",
       "      <th>max</th>\n",
       "      <td>266.20</td>\n",
       "      <td>35,000,000.00</td>\n",
       "      <td>6.00</td>\n",
       "      <td>3.49</td>\n",
       "    </tr>\n",
       "  </tbody>\n",
       "</table>\n",
       "</div>"
      ],
      "text/plain": [
       "       total_area    last_price     rooms  ceiling_height\n",
       "count   22,871.00     22,871.00 22,871.00       22,871.00\n",
       "mean        57.30  5,660,735.49      2.01            2.67\n",
       "std         25.77  4,032,329.68      0.97            0.18\n",
       "min         12.00     12,190.00      0.00            2.20\n",
       "25%         40.00  3,400,000.00      1.00            2.55\n",
       "50%         51.00  4,550,000.00      2.00            2.60\n",
       "75%         67.70  6,500,000.00      3.00            2.75\n",
       "max        266.20 35,000,000.00      6.00            3.49"
      ]
     },
     "execution_count": 33,
     "metadata": {},
     "output_type": "execute_result"
    }
   ],
   "source": [
    "columns_to_desribe = ['total_area', 'last_price', 'rooms', 'ceiling_height']\n",
    "df[columns_to_desribe].describe()"
   ]
  },
  {
   "cell_type": "code",
   "execution_count": 34,
   "metadata": {},
   "outputs": [
    {
     "data": {
      "text/html": [
       "<div>\n",
       "<style scoped>\n",
       "    .dataframe tbody tr th:only-of-type {\n",
       "        vertical-align: middle;\n",
       "    }\n",
       "\n",
       "    .dataframe tbody tr th {\n",
       "        vertical-align: top;\n",
       "    }\n",
       "\n",
       "    .dataframe thead th {\n",
       "        text-align: right;\n",
       "    }\n",
       "</style>\n",
       "<table border=\"1\" class=\"dataframe\">\n",
       "  <thead>\n",
       "    <tr style=\"text-align: right;\">\n",
       "      <th></th>\n",
       "      <th>total_images</th>\n",
       "      <th>last_price</th>\n",
       "      <th>total_area</th>\n",
       "      <th>first_day_exposition</th>\n",
       "      <th>rooms</th>\n",
       "      <th>ceiling_height</th>\n",
       "      <th>floors_total</th>\n",
       "      <th>living_area</th>\n",
       "      <th>floor</th>\n",
       "      <th>is_apartment</th>\n",
       "      <th>...</th>\n",
       "      <th>ponds_around3000</th>\n",
       "      <th>ponds_nearest</th>\n",
       "      <th>days_exposition</th>\n",
       "      <th>price_per_area</th>\n",
       "      <th>first_exposition_month</th>\n",
       "      <th>first_exposition_day_of_week</th>\n",
       "      <th>first_exposition_year</th>\n",
       "      <th>floor_group</th>\n",
       "      <th>living_area_share</th>\n",
       "      <th>kitchen_area_share</th>\n",
       "    </tr>\n",
       "  </thead>\n",
       "  <tbody>\n",
       "  </tbody>\n",
       "</table>\n",
       "<p>0 rows × 29 columns</p>\n",
       "</div>"
      ],
      "text/plain": [
       "Empty DataFrame\n",
       "Columns: [total_images, last_price, total_area, first_day_exposition, rooms, ceiling_height, floors_total, living_area, floor, is_apartment, studio, open_plan, kitchen_area, balcony, locality_name, airports_nearest, city_centers_nearest, parks_around3000, parks_nearest, ponds_around3000, ponds_nearest, days_exposition, price_per_area, first_exposition_month, first_exposition_day_of_week, first_exposition_year, floor_group, living_area_share, kitchen_area_share]\n",
       "Index: []\n",
       "\n",
       "[0 rows x 29 columns]"
      ]
     },
     "execution_count": 34,
     "metadata": {},
     "output_type": "execute_result"
    }
   ],
   "source": [
    "df[df['rooms'] == 19]"
   ]
  },
  {
   "cell_type": "code",
   "execution_count": 35,
   "metadata": {},
   "outputs": [
    {
     "data": {
      "text/html": [
       "<div>\n",
       "<style scoped>\n",
       "    .dataframe tbody tr th:only-of-type {\n",
       "        vertical-align: middle;\n",
       "    }\n",
       "\n",
       "    .dataframe tbody tr th {\n",
       "        vertical-align: top;\n",
       "    }\n",
       "\n",
       "    .dataframe thead th {\n",
       "        text-align: right;\n",
       "    }\n",
       "</style>\n",
       "<table border=\"1\" class=\"dataframe\">\n",
       "  <thead>\n",
       "    <tr style=\"text-align: right;\">\n",
       "      <th></th>\n",
       "      <th>total_images</th>\n",
       "      <th>last_price</th>\n",
       "      <th>total_area</th>\n",
       "      <th>first_day_exposition</th>\n",
       "      <th>rooms</th>\n",
       "      <th>ceiling_height</th>\n",
       "      <th>floors_total</th>\n",
       "      <th>living_area</th>\n",
       "      <th>floor</th>\n",
       "      <th>is_apartment</th>\n",
       "      <th>...</th>\n",
       "      <th>ponds_around3000</th>\n",
       "      <th>ponds_nearest</th>\n",
       "      <th>days_exposition</th>\n",
       "      <th>price_per_area</th>\n",
       "      <th>first_exposition_month</th>\n",
       "      <th>first_exposition_day_of_week</th>\n",
       "      <th>first_exposition_year</th>\n",
       "      <th>floor_group</th>\n",
       "      <th>living_area_share</th>\n",
       "      <th>kitchen_area_share</th>\n",
       "    </tr>\n",
       "  </thead>\n",
       "  <tbody>\n",
       "  </tbody>\n",
       "</table>\n",
       "<p>0 rows × 29 columns</p>\n",
       "</div>"
      ],
      "text/plain": [
       "Empty DataFrame\n",
       "Columns: [total_images, last_price, total_area, first_day_exposition, rooms, ceiling_height, floors_total, living_area, floor, is_apartment, studio, open_plan, kitchen_area, balcony, locality_name, airports_nearest, city_centers_nearest, parks_around3000, parks_nearest, ponds_around3000, ponds_nearest, days_exposition, price_per_area, first_exposition_month, first_exposition_day_of_week, first_exposition_year, floor_group, living_area_share, kitchen_area_share]\n",
       "Index: []\n",
       "\n",
       "[0 rows x 29 columns]"
      ]
     },
     "execution_count": 35,
     "metadata": {},
     "output_type": "execute_result"
    }
   ],
   "source": [
    "df[df['ceiling_height'] == 100]"
   ]
  },
  {
   "cell_type": "code",
   "execution_count": 36,
   "metadata": {},
   "outputs": [
    {
     "data": {
      "text/html": [
       "<div>\n",
       "<style scoped>\n",
       "    .dataframe tbody tr th:only-of-type {\n",
       "        vertical-align: middle;\n",
       "    }\n",
       "\n",
       "    .dataframe tbody tr th {\n",
       "        vertical-align: top;\n",
       "    }\n",
       "\n",
       "    .dataframe thead th {\n",
       "        text-align: right;\n",
       "    }\n",
       "</style>\n",
       "<table border=\"1\" class=\"dataframe\">\n",
       "  <thead>\n",
       "    <tr style=\"text-align: right;\">\n",
       "      <th></th>\n",
       "      <th>total_images</th>\n",
       "      <th>last_price</th>\n",
       "      <th>total_area</th>\n",
       "      <th>first_day_exposition</th>\n",
       "      <th>rooms</th>\n",
       "      <th>ceiling_height</th>\n",
       "      <th>floors_total</th>\n",
       "      <th>living_area</th>\n",
       "      <th>floor</th>\n",
       "      <th>is_apartment</th>\n",
       "      <th>...</th>\n",
       "      <th>ponds_around3000</th>\n",
       "      <th>ponds_nearest</th>\n",
       "      <th>days_exposition</th>\n",
       "      <th>price_per_area</th>\n",
       "      <th>first_exposition_month</th>\n",
       "      <th>first_exposition_day_of_week</th>\n",
       "      <th>first_exposition_year</th>\n",
       "      <th>floor_group</th>\n",
       "      <th>living_area_share</th>\n",
       "      <th>kitchen_area_share</th>\n",
       "    </tr>\n",
       "  </thead>\n",
       "  <tbody>\n",
       "    <tr>\n",
       "      <th>19904</th>\n",
       "      <td>4</td>\n",
       "      <td>2,400,000.00</td>\n",
       "      <td>12.00</td>\n",
       "      <td>2017-07-19</td>\n",
       "      <td>1</td>\n",
       "      <td>2.55</td>\n",
       "      <td>5</td>\n",
       "      <td>10.00</td>\n",
       "      <td>2</td>\n",
       "      <td>0</td>\n",
       "      <td>...</td>\n",
       "      <td>2.00</td>\n",
       "      <td>45.00</td>\n",
       "      <td>200.00</td>\n",
       "      <td>200,000.00</td>\n",
       "      <td>7</td>\n",
       "      <td>2</td>\n",
       "      <td>2017</td>\n",
       "      <td>2</td>\n",
       "      <td>0.83</td>\n",
       "      <td>0.17</td>\n",
       "    </tr>\n",
       "  </tbody>\n",
       "</table>\n",
       "<p>1 rows × 29 columns</p>\n",
       "</div>"
      ],
      "text/plain": [
       "       total_images   last_price  total_area first_day_exposition  rooms  \\\n",
       "19904             4 2,400,000.00       12.00           2017-07-19      1   \n",
       "\n",
       "       ceiling_height  floors_total  living_area  floor  is_apartment  ...  \\\n",
       "19904            2.55             5        10.00      2             0  ...   \n",
       "\n",
       "       ponds_around3000  ponds_nearest  days_exposition  price_per_area  \\\n",
       "19904              2.00          45.00           200.00      200,000.00   \n",
       "\n",
       "      first_exposition_month  first_exposition_day_of_week  \\\n",
       "19904                      7                             2   \n",
       "\n",
       "       first_exposition_year  floor_group  living_area_share  \\\n",
       "19904                   2017            2               0.83   \n",
       "\n",
       "       kitchen_area_share  \n",
       "19904                0.17  \n",
       "\n",
       "[1 rows x 29 columns]"
      ]
     },
     "execution_count": 36,
     "metadata": {},
     "output_type": "execute_result"
    }
   ],
   "source": [
    "df[df['total_area'] == 12]"
   ]
  },
  {
   "cell_type": "markdown",
   "metadata": {},
   "source": [
    "<a id=\"eda_hist\"></a>\n",
    "### Histograms"
   ]
  },
  {
   "cell_type": "code",
   "execution_count": 37,
   "metadata": {},
   "outputs": [
    {
     "data": {
      "image/png": "[encoded data removed]",
      "text/plain": [
       "<Figure size 1368x576 with 4 Axes>"
      ]
     },
     "metadata": {
      "needs_background": "light"
     },
     "output_type": "display_data"
    }
   ],
   "source": [
    "fig, ax = plt.subplots(2, 2, figsize=(19,8))\n",
    "for x in range(2):\n",
    "    for y in range(2):\n",
    "        ax[x][y].locator_params(integer=True)\n",
    "        ax[x][y].spines['right'].set_visible(False)\n",
    "        ax[x][y].spines['top'].set_visible(False)\n",
    "        ax[x][y].xaxis.set_tick_params(width=0.2)\n",
    "        ax[x][y].yaxis.set_tick_params(width=0.2)\n",
    "        for axis in ['top','bottom','left','right']:\n",
    "            ax[x][y].spines[axis].set_linewidth(0.2)\n",
    "\n",
    "ax[0][0].hist(df.total_area, bins=100, range=(10,600), color='#F2A444')\n",
    "ax[0][0].set_title('total_area')\n",
    "\n",
    "ax[0][1].hist(df.last_price, bins=400, color='#A63D17')\n",
    "ax[0][1].set_title('last_price')\n",
    "\n",
    "ax[1][0].hist(df.rooms, bins=70, range=(0,8), color='#D95204') \n",
    "ax[1][0].set_title('rooms')\n",
    "\n",
    "ax[1][1].hist(df.ceiling_height, bins=80, range=(1,5), color='#590202') \n",
    "ax[1][1].set_title('ceiling_height')\n",
    "\n",
    "plt.show()"
   ]
  },
  {
   "cell_type": "markdown",
   "metadata": {},
   "source": [
    "The graphs show outliers, and it is also clear that without taking them into account, the distribution tends to normal.\n",
    "\n",
    "The largest outliers on the chart among house prices."
   ]
  },
  {
   "cell_type": "markdown",
   "metadata": {},
   "source": [
    "<a id=\"explore_time\"></a>\n",
    "### Exploring time of sale\n",
    "Let's study the time of selling an apartment: plot a histogram, calculate the average and median.\n",
    "\n",
    "Let's describe how much a sale usually takes.\n",
    "\n",
    "When can sales be considered very fast, and when unusually long?"
   ]
  },
  {
   "cell_type": "code",
   "execution_count": 38,
   "metadata": {},
   "outputs": [],
   "source": [
    "# calcute right number of bins\n",
    "def freedman_diaconis(data, returnas=\"width\"):\n",
    "    from scipy import stats\n",
    "    import numpy as np\n",
    "    data = np.asarray(data, dtype=np.float_)\n",
    "    IQR = stats.iqr(data, rng=(25, 75), scale=1.0, nan_policy=\"omit\")\n",
    "    N = data.size\n",
    "    bw = (2 * IQR) / np.power(N, 1/3)\n",
    "\n",
    "    if returnas==\"width\":\n",
    "        result = bw\n",
    "    else:\n",
    "        datmin, datmax = data.min(), data.max()\n",
    "        datrng = datmax - datmin\n",
    "        result = int((datrng / bw) + 1)\n",
    "    return(result)\n",
    "\n",
    "NBR_BINS = freedman_diaconis(df['days_exposition'].dropna(), returnas=\"bins\")"
   ]
  },
  {
   "cell_type": "code",
   "execution_count": 39,
   "metadata": {},
   "outputs": [
    {
     "data": {
      "image/png": "[encoded data removed]",
      "text/plain": [
       "<Figure size 432x288 with 1 Axes>"
      ]
     },
     "metadata": {
      "needs_background": "light"
     },
     "output_type": "display_data"
    }
   ],
   "source": [
    "df['days_exposition'].plot(kind='hist', bins=NBR_BINS)\n",
    "plt.show()"
   ]
  },
  {
   "cell_type": "code",
   "execution_count": 40,
   "metadata": {},
   "outputs": [
    {
     "data": {
      "image/png": "[encoded data removed]",
      "text/plain": [
       "<Figure size 432x288 with 1 Axes>"
      ]
     },
     "metadata": {
      "needs_background": "light"
     },
     "output_type": "display_data"
    }
   ],
   "source": [
    "df.boxplot('days_exposition')\n",
    "plt.show()"
   ]
  },
  {
   "cell_type": "code",
   "execution_count": 41,
   "metadata": {},
   "outputs": [
    {
     "name": "stdout",
     "output_type": "stream",
     "text": [
      "Median exposition before remove ads: 94\n",
      "Average exposition before remove ads: 178\n",
      "Standard deviation: 217.5\n"
     ]
    }
   ],
   "source": [
    "print(f'Median exposition before remove ads: {df[\"days_exposition\"].median():.0f}')\n",
    "print(f'Average exposition before remove ads: {df[\"days_exposition\"].mean():.0f}')\n",
    "print(f'Standard deviation: {df[\"days_exposition\"].std():.1f}')"
   ]
  },
  {
   "cell_type": "markdown",
   "metadata": {},
   "source": [
    "According to the graphs, as well as the difference between the median and the arithmetic mean (average) and the high standard deviation, it can be seen that there are outliers in the number of days the apartment was sold.\n",
    "\n",
    "Three values of the variable are also highlighted on the graph, for this number of days apartments are most often sold. Let's consider them in more detail"
   ]
  },
  {
   "cell_type": "code",
   "execution_count": 42,
   "metadata": {},
   "outputs": [
    {
     "data": {
      "image/png": "[encoded data removed]",
      "text/plain": [
       "<Figure size 432x288 with 1 Axes>"
      ]
     },
     "metadata": {
      "needs_background": "light"
     },
     "output_type": "display_data"
    }
   ],
   "source": [
    "df['days_exposition'].plot(kind='hist', bins=NBR_BINS, range=(1, 365))\n",
    "plt.show()"
   ]
  },
  {
   "cell_type": "markdown",
   "metadata": {},
   "source": [
    "These three values are within 100 days. It is noticeable that the graph does not have a normal distribution."
   ]
  },
  {
   "cell_type": "code",
   "execution_count": 43,
   "metadata": {},
   "outputs": [
    {
     "data": {
      "image/png": "[encoded data removed]",
      "text/plain": [
       "<Figure size 432x288 with 1 Axes>"
      ]
     },
     "metadata": {
      "needs_background": "light"
     },
     "output_type": "display_data"
    }
   ],
   "source": [
    "df['days_exposition'].plot(kind='hist', bins=NBR_BINS, range=(1, 95))\n",
    "plt.show()"
   ]
  },
  {
   "cell_type": "markdown",
   "metadata": {},
   "source": [
    "In this case, the best measure of the mean is the median, which is also the mode. That is, it usually takes 95 days to sell an apartment."
   ]
  },
  {
   "cell_type": "markdown",
   "metadata": {},
   "source": [
    "*When can sales be considered very fast, and when unusually long?*"
   ]
  },
  {
   "cell_type": "code",
   "execution_count": 44,
   "metadata": {},
   "outputs": [
    {
     "data": {
      "text/plain": [
       "count   19,879.00\n",
       "mean       178.50\n",
       "std        217.47\n",
       "min          1.00\n",
       "25%         45.00\n",
       "50%         94.00\n",
       "75%        227.00\n",
       "max      1,580.00\n",
       "Name: days_exposition, dtype: float64"
      ]
     },
     "execution_count": 44,
     "metadata": {},
     "output_type": "execute_result"
    }
   ],
   "source": [
    "df['days_exposition'].describe()"
   ]
  },
  {
   "cell_type": "markdown",
   "metadata": {},
   "source": [
    "There were sales made in one day, as well as those that lasted more than four years. Output rows with these indicators"
   ]
  },
  {
   "cell_type": "code",
   "execution_count": 45,
   "metadata": {},
   "outputs": [
    {
     "data": {
      "text/html": [
       "<div>\n",
       "<style scoped>\n",
       "    .dataframe tbody tr th:only-of-type {\n",
       "        vertical-align: middle;\n",
       "    }\n",
       "\n",
       "    .dataframe tbody tr th {\n",
       "        vertical-align: top;\n",
       "    }\n",
       "\n",
       "    .dataframe thead th {\n",
       "        text-align: right;\n",
       "    }\n",
       "</style>\n",
       "<table border=\"1\" class=\"dataframe\">\n",
       "  <thead>\n",
       "    <tr style=\"text-align: right;\">\n",
       "      <th></th>\n",
       "      <th>total_images</th>\n",
       "      <th>last_price</th>\n",
       "      <th>total_area</th>\n",
       "      <th>first_day_exposition</th>\n",
       "      <th>rooms</th>\n",
       "      <th>ceiling_height</th>\n",
       "      <th>floors_total</th>\n",
       "      <th>living_area</th>\n",
       "      <th>floor</th>\n",
       "      <th>is_apartment</th>\n",
       "      <th>...</th>\n",
       "      <th>ponds_around3000</th>\n",
       "      <th>ponds_nearest</th>\n",
       "      <th>days_exposition</th>\n",
       "      <th>price_per_area</th>\n",
       "      <th>first_exposition_month</th>\n",
       "      <th>first_exposition_day_of_week</th>\n",
       "      <th>first_exposition_year</th>\n",
       "      <th>floor_group</th>\n",
       "      <th>living_area_share</th>\n",
       "      <th>kitchen_area_share</th>\n",
       "    </tr>\n",
       "  </thead>\n",
       "  <tbody>\n",
       "    <tr>\n",
       "      <th>1632</th>\n",
       "      <td>19</td>\n",
       "      <td>4,000,000.00</td>\n",
       "      <td>49.90</td>\n",
       "      <td>2019-05-01</td>\n",
       "      <td>2</td>\n",
       "      <td>2.50</td>\n",
       "      <td>9</td>\n",
       "      <td>25.00</td>\n",
       "      <td>1</td>\n",
       "      <td>0</td>\n",
       "      <td>...</td>\n",
       "      <td>1.00</td>\n",
       "      <td>681.00</td>\n",
       "      <td>1.00</td>\n",
       "      <td>80,160.32</td>\n",
       "      <td>5</td>\n",
       "      <td>2</td>\n",
       "      <td>2019</td>\n",
       "      <td>1</td>\n",
       "      <td>0.50</td>\n",
       "      <td>0.20</td>\n",
       "    </tr>\n",
       "    <tr>\n",
       "      <th>18843</th>\n",
       "      <td>11</td>\n",
       "      <td>3,500,000.00</td>\n",
       "      <td>48.20</td>\n",
       "      <td>2014-12-15</td>\n",
       "      <td>2</td>\n",
       "      <td>2.50</td>\n",
       "      <td>5</td>\n",
       "      <td>27.40</td>\n",
       "      <td>2</td>\n",
       "      <td>0</td>\n",
       "      <td>...</td>\n",
       "      <td>NaN</td>\n",
       "      <td>NaN</td>\n",
       "      <td>1,580.00</td>\n",
       "      <td>72,614.11</td>\n",
       "      <td>12</td>\n",
       "      <td>0</td>\n",
       "      <td>2014</td>\n",
       "      <td>2</td>\n",
       "      <td>0.57</td>\n",
       "      <td>0.16</td>\n",
       "    </tr>\n",
       "  </tbody>\n",
       "</table>\n",
       "<p>2 rows × 29 columns</p>\n",
       "</div>"
      ],
      "text/plain": [
       "       total_images   last_price  total_area first_day_exposition  rooms  \\\n",
       "1632             19 4,000,000.00       49.90           2019-05-01      2   \n",
       "18843            11 3,500,000.00       48.20           2014-12-15      2   \n",
       "\n",
       "       ceiling_height  floors_total  living_area  floor  is_apartment  ...  \\\n",
       "1632             2.50             9        25.00      1             0  ...   \n",
       "18843            2.50             5        27.40      2             0  ...   \n",
       "\n",
       "       ponds_around3000  ponds_nearest  days_exposition  price_per_area  \\\n",
       "1632               1.00         681.00             1.00       80,160.32   \n",
       "18843               NaN            NaN         1,580.00       72,614.11   \n",
       "\n",
       "      first_exposition_month  first_exposition_day_of_week  \\\n",
       "1632                       5                             2   \n",
       "18843                     12                             0   \n",
       "\n",
       "       first_exposition_year  floor_group  living_area_share  \\\n",
       "1632                    2019            1               0.50   \n",
       "18843                   2014            2               0.57   \n",
       "\n",
       "       kitchen_area_share  \n",
       "1632                 0.20  \n",
       "18843                0.16  \n",
       "\n",
       "[2 rows x 29 columns]"
      ]
     },
     "execution_count": 45,
     "metadata": {},
     "output_type": "execute_result"
    }
   ],
   "source": [
    "df.query('days_exposition == 1 or days_exposition == 1580')"
   ]
  },
  {
   "cell_type": "markdown",
   "metadata": {},
   "source": [
    "We decided to remove these two rows"
   ]
  },
  {
   "cell_type": "code",
   "execution_count": 46,
   "metadata": {},
   "outputs": [],
   "source": [
    "df = df[(df['days_exposition'] != 1) & (df['days_exposition'] != 1580)]"
   ]
  },
  {
   "cell_type": "markdown",
   "metadata": {},
   "source": [
    "<a id=\"explore_factors_price\"></a>\n",
    "###  What factors most affect the cost of an apartment?"
   ]
  },
  {
   "cell_type": "code",
   "execution_count": 47,
   "metadata": {},
   "outputs": [
    {
     "name": "stdout",
     "output_type": "stream",
     "text": [
      "                      last_price  total_area  rooms  floor_group  \\\n",
      "last_price                  1.00        0.78   0.49         0.05   \n",
      "total_area                  0.78        1.00   0.78         0.04   \n",
      "rooms                       0.49        0.78   1.00         0.01   \n",
      "floor_group                 0.05        0.04   0.01         1.00   \n",
      "city_centers_nearest       -0.33       -0.20  -0.14        -0.02   \n",
      "\n",
      "                      city_centers_nearest  \n",
      "last_price                           -0.33  \n",
      "total_area                           -0.20  \n",
      "rooms                                -0.14  \n",
      "floor_group                          -0.02  \n",
      "city_centers_nearest                  1.00  \n"
     ]
    },
    {
     "data": {
      "image/png": "[encoded data removed]",
      "text/plain": [
       "<Figure size 648x648 with 25 Axes>"
      ]
     },
     "metadata": {
      "needs_background": "light"
     },
     "output_type": "display_data"
    }
   ],
   "source": [
    "df_stat_multi = df[['last_price', 'total_area',  'rooms', 'floor_group', 'city_centers_nearest']]\n",
    "print(df_stat_multi.corr())\n",
    "pd.plotting.scatter_matrix(df_stat_multi, figsize=(9,9))\n",
    "plt.show()"
   ]
  },
  {
   "cell_type": "markdown",
   "metadata": {},
   "source": [
    "The correlation between `total_area` and `last_price` is high - `0.78`. The correlation is also visible on the graph\n",
    "\n",
    "Between `rooms` and `last_price` - `0.49` there is a moderate correlation\n",
    "\n",
    "The Pearson coefficient for the columns `city_centers_nearest` and `last_price` is equal to `0.33`, which also indicates the presence of a low correlation."
   ]
  },
  {
   "cell_type": "code",
   "execution_count": 48,
   "metadata": {},
   "outputs": [
    {
     "name": "stdout",
     "output_type": "stream",
     "text": [
      "                              last_price  first_exposition_month  \\\n",
      "last_price                          1.00                    0.00   \n",
      "first_exposition_month              0.00                    1.00   \n",
      "first_exposition_day_of_week       -0.02                    0.01   \n",
      "first_exposition_year              -0.03                   -0.27   \n",
      "\n",
      "                              first_exposition_day_of_week  \\\n",
      "last_price                                           -0.02   \n",
      "first_exposition_month                                0.01   \n",
      "first_exposition_day_of_week                          1.00   \n",
      "first_exposition_year                                -0.00   \n",
      "\n",
      "                              first_exposition_year  \n",
      "last_price                                    -0.03  \n",
      "first_exposition_month                        -0.27  \n",
      "first_exposition_day_of_week                  -0.00  \n",
      "first_exposition_year                          1.00  \n"
     ]
    },
    {
     "data": {
      "image/png": "[encoded data removed]",
      "text/plain": [
       "<Figure size 648x648 with 16 Axes>"
      ]
     },
     "metadata": {
      "needs_background": "light"
     },
     "output_type": "display_data"
    }
   ],
   "source": [
    "df_stat_multi_date = df[['last_price', 'first_exposition_month', 'first_exposition_day_of_week', 'first_exposition_year']]\n",
    "print(df_stat_multi_date.corr())\n",
    "pd.plotting.scatter_matrix(df_stat_multi_date, figsize=(9,9))\n",
    "plt.show()"
   ]
  },
  {
   "cell_type": "markdown",
   "metadata": {},
   "source": [
    "According to the graph and the values of the correlation coefficients, it is clear that the correlation is very low"
   ]
  },
  {
   "cell_type": "markdown",
   "metadata": {},
   "source": [
    "<a id=\"summary_eda\"></a>\n",
    "### Summary\n",
    "* The histograms show outliers, and it is also clear that without taking them into account, the distribution tends to normal.\n",
    "* The largest outliers on the chart among house prices.\n",
    "* The time to sell an apartment was observed: average mean = 169 and median = 95 days.\n",
    "* Also, using the graph, it was determined that, on average, an apartment is sold in 95 days\n",
    "* Rows were removed where the apartment was sold in 1 day and in more than 4 years\n",
    "* What factors most affect the cost of an apartment?\n",
    "    1. total living area\n",
    "    2. number of rooms\n",
    "    3. distance from the center"
   ]
  },
  {
   "cell_type": "markdown",
   "metadata": {},
   "source": [
    "<a id=\"top_10_ads\"></a>\n",
    "## Top-10 localities with a largest number of ads"
   ]
  },
  {
   "cell_type": "code",
   "execution_count": 49,
   "metadata": {
    "scrolled": false
   },
   "outputs": [
    {
     "name": "stdout",
     "output_type": "stream",
     "text": [
      "Top-10 localities by number of ads on real estate website\n"
     ]
    },
    {
     "data": {
      "text/html": [
       "<div>\n",
       "<style scoped>\n",
       "    .dataframe tbody tr th:only-of-type {\n",
       "        vertical-align: middle;\n",
       "    }\n",
       "\n",
       "    .dataframe tbody tr th {\n",
       "        vertical-align: top;\n",
       "    }\n",
       "\n",
       "    .dataframe thead th {\n",
       "        text-align: right;\n",
       "    }\n",
       "</style>\n",
       "<table border=\"1\" class=\"dataframe\">\n",
       "  <thead>\n",
       "    <tr style=\"text-align: right;\">\n",
       "      <th></th>\n",
       "      <th>number_of_ads</th>\n",
       "      <th>mean_price_per_area</th>\n",
       "    </tr>\n",
       "    <tr>\n",
       "      <th>locality_name</th>\n",
       "      <th></th>\n",
       "      <th></th>\n",
       "    </tr>\n",
       "  </thead>\n",
       "  <tbody>\n",
       "    <tr>\n",
       "      <th>Санкт-Петербург</th>\n",
       "      <td>14977</td>\n",
       "      <td>110,636.44</td>\n",
       "    </tr>\n",
       "    <tr>\n",
       "      <th>Пушкин</th>\n",
       "      <td>357</td>\n",
       "      <td>102,557.35</td>\n",
       "    </tr>\n",
       "    <tr>\n",
       "      <th>Кудрово</th>\n",
       "      <td>469</td>\n",
       "      <td>95,261.96</td>\n",
       "    </tr>\n",
       "    <tr>\n",
       "      <th>поселок Парголово</th>\n",
       "      <td>326</td>\n",
       "      <td>90,332.26</td>\n",
       "    </tr>\n",
       "    <tr>\n",
       "      <th>Мурино</th>\n",
       "      <td>584</td>\n",
       "      <td>86,018.11</td>\n",
       "    </tr>\n",
       "    <tr>\n",
       "      <th>поселок Шушары</th>\n",
       "      <td>438</td>\n",
       "      <td>78,528.74</td>\n",
       "    </tr>\n",
       "    <tr>\n",
       "      <th>Колпино</th>\n",
       "      <td>337</td>\n",
       "      <td>75,333.30</td>\n",
       "    </tr>\n",
       "    <tr>\n",
       "      <th>Гатчина</th>\n",
       "      <td>305</td>\n",
       "      <td>68,811.37</td>\n",
       "    </tr>\n",
       "    <tr>\n",
       "      <th>Всеволожск</th>\n",
       "      <td>394</td>\n",
       "      <td>68,608.88</td>\n",
       "    </tr>\n",
       "    <tr>\n",
       "      <th>Выборг</th>\n",
       "      <td>227</td>\n",
       "      <td>57,972.73</td>\n",
       "    </tr>\n",
       "  </tbody>\n",
       "</table>\n",
       "</div>"
      ],
      "text/plain": [
       "                   number_of_ads  mean_price_per_area\n",
       "locality_name                                        \n",
       "Санкт-Петербург            14977           110,636.44\n",
       "Пушкин                       357           102,557.35\n",
       "Кудрово                      469            95,261.96\n",
       "поселок Парголово            326            90,332.26\n",
       "Мурино                       584            86,018.11\n",
       "поселок Шушары               438            78,528.74\n",
       "Колпино                      337            75,333.30\n",
       "Гатчина                      305            68,811.37\n",
       "Всеволожск                   394            68,608.88\n",
       "Выборг                       227            57,972.73"
      ]
     },
     "metadata": {},
     "output_type": "display_data"
    },
    {
     "name": "stdout",
     "output_type": "stream",
     "text": [
      "Average price per square meter in 10 localities with the largest number of ads: 105296.9\n"
     ]
    }
   ],
   "source": [
    "top_ad_location_list = df['locality_name'].value_counts().iloc[:10].index.to_list()\n",
    "\n",
    "df_top_ad = df.query('locality_name in @top_ad_location_list')\n",
    "\n",
    "pivot_table_ads = df_top_ad.pivot_table(index='locality_name', values='price_per_area',aggfunc={'price_per_area': 'mean',\n",
    "                             'locality_name': 'count'}).sort_values('price_per_area', ascending=False)\n",
    "pivot_table_ads.columns = ['number_of_ads', 'mean_price_per_area']\n",
    "print('Top-10 localities by number of ads on real estate website')\n",
    "display(pivot_table_ads)\n",
    "\n",
    "print(f'Average price per square meter in 10 localities with the largest number of ads: {df_top_ad[\"price_per_area\"].mean():.1f}')"
   ]
  },
  {
   "cell_type": "code",
   "execution_count": 50,
   "metadata": {},
   "outputs": [
    {
     "name": "stdout",
     "output_type": "stream",
     "text": [
      "The most expensive apartment\n"
     ]
    },
    {
     "data": {
      "text/plain": [
       "locality_name\n",
       "Санкт-Петербург   35,000,000.00\n",
       "Name: max_last_price, dtype: float64"
      ]
     },
     "metadata": {},
     "output_type": "display_data"
    },
    {
     "name": "stdout",
     "output_type": "stream",
     "text": [
      "The cheapest apartment\n"
     ]
    },
    {
     "data": {
      "text/plain": [
       "locality_name\n",
       "Санкт-Петербург   12,190.00\n",
       "Name: min_last_price, dtype: float64"
      ]
     },
     "metadata": {},
     "output_type": "display_data"
    }
   ],
   "source": [
    "df_top_ad_pivot = df_top_ad.pivot_table(index='locality_name', values='last_price', aggfunc=['max', 'min'])\n",
    "df_top_ad_pivot.columns = ['_'.join(col).strip() for col in df_top_ad_pivot.columns.values]\n",
    "\n",
    "print('The most expensive apartment')\n",
    "display(df_top_ad_pivot[df_top_ad_pivot['max_last_price'] == df_top_ad_pivot['max_last_price'].max()]['max_last_price'])\n",
    "print('The cheapest apartment')\n",
    "display(df_top_ad_pivot[df_top_ad_pivot['min_last_price'] == df_top_ad_pivot['min_last_price'].min()]['min_last_price'])"
   ]
  },
  {
   "cell_type": "markdown",
   "metadata": {},
   "source": [
    "<a id=\"summary_top_10_ads\"></a>\n",
    "### Summary\n",
    "The 10 localities with the largest number of ads are shown in the table.\n",
    "\n",
    "Average price per square meter in all localities - **105,368** , for each individual locality, it is presented in the table\n",
    "\n",
    "In **Saint Petersburg**, the highest and lowest final cost of housing sales were found at the same time. If we consider the cost of housing at the average cost per square meter, then:\n",
    "1. The most expensive housing in **St. Petersburg**\n",
    "2. The cheapest housing in **Vyborg**"
   ]
  },
  {
   "cell_type": "markdown",
   "metadata": {},
   "source": [
    "<a id=\"real_estate_spb\"></a>\n",
    "## Real estate market in Saint Petesburg"
   ]
  },
  {
   "cell_type": "markdown",
   "metadata": {},
   "source": [
    "Let's study the offers of apartments: for each apartment there is information about the distance to the center. We will allocate apartments in St. Petersburg. \n",
    "\n",
    "The task is to find out which area is included in the center. Create a column with the distance to the center in kilometers: rounded up to integer values. After that, we will calculate the average price for each kilometer. \n",
    "\n",
    "Let's build a graph: it should show how the price depends on the distance from the center. \n",
    "\n",
    "Let's define the boundary where the graph changes a lot — this will be the central zo"
   ]
  },
  {
   "cell_type": "code",
   "execution_count": 51,
   "metadata": {},
   "outputs": [
    {
     "data": {
      "text/html": [
       "<div>\n",
       "<style scoped>\n",
       "    .dataframe tbody tr th:only-of-type {\n",
       "        vertical-align: middle;\n",
       "    }\n",
       "\n",
       "    .dataframe tbody tr th {\n",
       "        vertical-align: top;\n",
       "    }\n",
       "\n",
       "    .dataframe thead th {\n",
       "        text-align: right;\n",
       "    }\n",
       "</style>\n",
       "<table border=\"1\" class=\"dataframe\">\n",
       "  <thead>\n",
       "    <tr style=\"text-align: right;\">\n",
       "      <th></th>\n",
       "      <th>km_from_city_center</th>\n",
       "      <th>mean_last_price</th>\n",
       "    </tr>\n",
       "  </thead>\n",
       "  <tbody>\n",
       "    <tr>\n",
       "      <th>0</th>\n",
       "      <td>0.00</td>\n",
       "      <td>11,545,000.00</td>\n",
       "    </tr>\n",
       "    <tr>\n",
       "      <th>1</th>\n",
       "      <td>1.00</td>\n",
       "      <td>9,500,000.00</td>\n",
       "    </tr>\n",
       "    <tr>\n",
       "      <th>2</th>\n",
       "      <td>2.00</td>\n",
       "      <td>9,200,000.00</td>\n",
       "    </tr>\n",
       "    <tr>\n",
       "      <th>3</th>\n",
       "      <td>3.00</td>\n",
       "      <td>8,120,000.00</td>\n",
       "    </tr>\n",
       "    <tr>\n",
       "      <th>4</th>\n",
       "      <td>4.00</td>\n",
       "      <td>8,565,000.00</td>\n",
       "    </tr>\n",
       "  </tbody>\n",
       "</table>\n",
       "</div>"
      ],
      "text/plain": [
       "   km_from_city_center  mean_last_price\n",
       "0                 0.00    11,545,000.00\n",
       "1                 1.00     9,500,000.00\n",
       "2                 2.00     9,200,000.00\n",
       "3                 3.00     8,120,000.00\n",
       "4                 4.00     8,565,000.00"
      ]
     },
     "execution_count": 51,
     "metadata": {},
     "output_type": "execute_result"
    }
   ],
   "source": [
    "def add_column(df):\n",
    "    '''Create column with kilometers to city center'''\n",
    "    return df.assign(\n",
    "        city_center_km = lambda x: round(x['city_centers_nearest'] / 1000))\n",
    "\n",
    "df_spb = (\n",
    "    df\n",
    "    .loc[df['locality_name'] == 'Санкт-Петербург']\n",
    "    .pipe(add_column)\n",
    ")\n",
    "\n",
    "df_spb_price_center = df_spb.groupby('city_center_km')['last_price'].median().reset_index()\n",
    "\n",
    "df_spb_price_center.columns = ['km_from_city_center', 'mean_last_price']\n",
    "df_spb_price_center.head()"
   ]
  },
  {
   "cell_type": "code",
   "execution_count": 52,
   "metadata": {},
   "outputs": [
    {
     "data": {
      "image/png": "[encoded data removed]",
      "text/plain": [
       "<Figure size 648x504 with 1 Axes>"
      ]
     },
     "metadata": {
      "needs_background": "light"
     },
     "output_type": "display_data"
    }
   ],
   "source": [
    "# построим график зависимости цены от удалённости от центра.\n",
    "df_spb_price_center.plot(x='km_from_city_center', y='mean_last_price', grid=True, figsize=(9,7), color='black', legend=False)\n",
    "plt.xticks(range(1,30))\n",
    "plt.show()"
   ]
  },
  {
   "cell_type": "markdown",
   "metadata": {},
   "source": [
    "<a id=\"summary_real_estate_spb\"></a>\n",
    "### Summary\n",
    "The central zone will be the distance ** to 9 km **, as the graph shows a sharp drop in price. The average cost of an apartment 27 km from the city center is also highlighted - since this is the only outlier, we do not take it into account"
   ]
  },
  {
   "cell_type": "markdown",
   "metadata": {},
   "source": [
    "<a id=\"spb_center\"></a>\n",
    "## Apartments in Saint Petersburg center\n",
    "Let's select a segment of apartments in the center (less than or equal to 8 km). Let's analyze this territory and study the following parameters: area, price, number of rooms, ceiling height.\n",
    "\n",
    "We will also highlight the factors that affect the cost of the apartment (number of rooms, floor, distance from the center, date of placement of the ad). \n"
   ]
  },
  {
   "cell_type": "code",
   "execution_count": 53,
   "metadata": {},
   "outputs": [
    {
     "data": {
      "text/html": [
       "<div>\n",
       "<style scoped>\n",
       "    .dataframe tbody tr th:only-of-type {\n",
       "        vertical-align: middle;\n",
       "    }\n",
       "\n",
       "    .dataframe tbody tr th {\n",
       "        vertical-align: top;\n",
       "    }\n",
       "\n",
       "    .dataframe thead th {\n",
       "        text-align: right;\n",
       "    }\n",
       "</style>\n",
       "<table border=\"1\" class=\"dataframe\">\n",
       "  <thead>\n",
       "    <tr style=\"text-align: right;\">\n",
       "      <th></th>\n",
       "      <th>total_area</th>\n",
       "      <th>last_price</th>\n",
       "      <th>rooms</th>\n",
       "      <th>ceiling_height</th>\n",
       "    </tr>\n",
       "  </thead>\n",
       "  <tbody>\n",
       "    <tr>\n",
       "      <th>count</th>\n",
       "      <td>3,512.00</td>\n",
       "      <td>3,512.00</td>\n",
       "      <td>3,512.00</td>\n",
       "      <td>3,512.00</td>\n",
       "    </tr>\n",
       "    <tr>\n",
       "      <th>mean</th>\n",
       "      <td>78.15</td>\n",
       "      <td>10,088,794.57</td>\n",
       "      <td>2.54</td>\n",
       "      <td>2.86</td>\n",
       "    </tr>\n",
       "    <tr>\n",
       "      <th>std</th>\n",
       "      <td>35.51</td>\n",
       "      <td>5,966,669.37</td>\n",
       "      <td>1.12</td>\n",
       "      <td>0.25</td>\n",
       "    </tr>\n",
       "    <tr>\n",
       "      <th>min</th>\n",
       "      <td>12.00</td>\n",
       "      <td>1,600,000.00</td>\n",
       "      <td>0.00</td>\n",
       "      <td>2.40</td>\n",
       "    </tr>\n",
       "    <tr>\n",
       "      <th>25%</th>\n",
       "      <td>52.00</td>\n",
       "      <td>6,150,000.00</td>\n",
       "      <td>2.00</td>\n",
       "      <td>2.65</td>\n",
       "    </tr>\n",
       "    <tr>\n",
       "      <th>50%</th>\n",
       "      <td>71.60</td>\n",
       "      <td>8,382,500.00</td>\n",
       "      <td>2.00</td>\n",
       "      <td>2.80</td>\n",
       "    </tr>\n",
       "    <tr>\n",
       "      <th>75%</th>\n",
       "      <td>96.00</td>\n",
       "      <td>12,000,000.00</td>\n",
       "      <td>3.00</td>\n",
       "      <td>3.00</td>\n",
       "    </tr>\n",
       "    <tr>\n",
       "      <th>max</th>\n",
       "      <td>266.20</td>\n",
       "      <td>35,000,000.00</td>\n",
       "      <td>6.00</td>\n",
       "      <td>3.49</td>\n",
       "    </tr>\n",
       "  </tbody>\n",
       "</table>\n",
       "</div>"
      ],
      "text/plain": [
       "       total_area    last_price    rooms  ceiling_height\n",
       "count    3,512.00      3,512.00 3,512.00        3,512.00\n",
       "mean        78.15 10,088,794.57     2.54            2.86\n",
       "std         35.51  5,966,669.37     1.12            0.25\n",
       "min         12.00  1,600,000.00     0.00            2.40\n",
       "25%         52.00  6,150,000.00     2.00            2.65\n",
       "50%         71.60  8,382,500.00     2.00            2.80\n",
       "75%         96.00 12,000,000.00     3.00            3.00\n",
       "max        266.20 35,000,000.00     6.00            3.49"
      ]
     },
     "execution_count": 53,
     "metadata": {},
     "output_type": "execute_result"
    }
   ],
   "source": [
    "df_spb_center = df_spb.query('city_center_km <= 8')\n",
    "\n",
    "df_spb_center[columns_to_desribe].describe()"
   ]
  },
  {
   "cell_type": "code",
   "execution_count": 54,
   "metadata": {},
   "outputs": [
    {
     "data": {
      "image/png": "[encoded data removed]",
      "text/plain": [
       "<Figure size 1368x576 with 4 Axes>"
      ]
     },
     "metadata": {
      "needs_background": "light"
     },
     "output_type": "display_data"
    }
   ],
   "source": [
    "fig, ax = plt.subplots(2, 2, figsize=(19,8))\n",
    "for x in range(2):\n",
    "    for y in range(2):\n",
    "        ax[x][y].locator_params(integer=True)\n",
    "        ax[x][y].spines['right'].set_visible(False)\n",
    "        ax[x][y].spines['top'].set_visible(False)\n",
    "        ax[x][y].xaxis.set_tick_params(width=0.2)\n",
    "        ax[x][y].yaxis.set_tick_params(width=0.2)\n",
    "        for axis in ['top','bottom','left','right']:\n",
    "            ax[x][y].spines[axis].set_linewidth(0.2)\n",
    "\n",
    "ax[0][0].hist(df_spb_center.total_area, bins=100, range=(10,600), color='#EB5B81')\n",
    "ax[0][0].set_title('total_area')\n",
    "\n",
    "ax[0][1].hist(df_spb_center.last_price, bins=400, color='#50EBBC')\n",
    "ax[0][1].set_title('last_price')\n",
    "\n",
    "ax[1][0].hist(df_spb_center.rooms, bins=70, range=(0,8), color='#EB9844') \n",
    "ax[1][0].set_title('rooms')\n",
    "\n",
    "ax[1][1].hist(df_spb_center.ceiling_height, bins=80, range=(1,5), color='#9E465D') \n",
    "ax[1][1].set_title('ceiling_height')\n",
    "\n",
    "plt.show()"
   ]
  },
  {
   "cell_type": "markdown",
   "metadata": {},
   "source": [
    "We can see outliers but this histograms closer to normal distribution than previously"
   ]
  },
  {
   "cell_type": "code",
   "execution_count": 55,
   "metadata": {},
   "outputs": [
    {
     "name": "stdout",
     "output_type": "stream",
     "text": [
      "                      last_price  total_area  rooms  floor_group  \\\n",
      "last_price                  1.00        0.74   0.46         0.09   \n",
      "total_area                  0.74        1.00   0.78         0.11   \n",
      "rooms                       0.46        0.78   1.00         0.08   \n",
      "floor_group                 0.09        0.11   0.08         1.00   \n",
      "city_centers_nearest       -0.09       -0.17  -0.22        -0.03   \n",
      "\n",
      "                      city_centers_nearest  \n",
      "last_price                           -0.09  \n",
      "total_area                           -0.17  \n",
      "rooms                                -0.22  \n",
      "floor_group                          -0.03  \n",
      "city_centers_nearest                  1.00  \n"
     ]
    },
    {
     "data": {
      "image/png": "[encoded data removed]",
      "text/plain": [
       "<Figure size 648x648 with 25 Axes>"
      ]
     },
     "metadata": {
      "needs_background": "light"
     },
     "output_type": "display_data"
    }
   ],
   "source": [
    "df_stat_multi_3 = df_spb_center[['last_price', 'total_area',  'rooms', 'floor_group', 'city_centers_nearest']]\n",
    "print(df_stat_multi_3.corr())\n",
    "pd.plotting.scatter_matrix(df_stat_multi_3, figsize=(9,9))\n",
    "plt.show()"
   ]
  },
  {
   "cell_type": "code",
   "execution_count": 56,
   "metadata": {},
   "outputs": [
    {
     "name": "stdout",
     "output_type": "stream",
     "text": [
      "                              last_price  first_exposition_month  \\\n",
      "last_price                          1.00                   -0.02   \n",
      "first_exposition_month             -0.02                    1.00   \n",
      "first_exposition_day_of_week       -0.02                    0.04   \n",
      "first_exposition_year              -0.02                   -0.25   \n",
      "\n",
      "                              first_exposition_day_of_week  \\\n",
      "last_price                                           -0.02   \n",
      "first_exposition_month                                0.04   \n",
      "first_exposition_day_of_week                          1.00   \n",
      "first_exposition_year                                 0.01   \n",
      "\n",
      "                              first_exposition_year  \n",
      "last_price                                    -0.02  \n",
      "first_exposition_month                        -0.25  \n",
      "first_exposition_day_of_week                   0.01  \n",
      "first_exposition_year                          1.00  \n"
     ]
    }
   ],
   "source": [
    "df_stat_multi_4 = df_spb_center[['last_price', 'first_exposition_month', 'first_exposition_day_of_week', 'first_exposition_year']]\n",
    "print(df_stat_multi_4.corr())"
   ]
  },
  {
   "cell_type": "markdown",
   "metadata": {},
   "source": [
    "<a id=\"summary_spb_center\"></a>\n",
    "### Summary\n",
    "As throughout the database, in St. Petersburg in the center, the price depends on the total area (`0.74` - high) and on the number of rooms (`0.46` - moderate), but it does not affect how close to the center (`-0.09`)\n",
    "\n",
    "The price in the center of St. Petersburg does not depend on the date of ad placement"
   ]
  },
  {
   "cell_type": "markdown",
   "metadata": {},
   "source": [
    "<a id=\"conclusion\"></a>\n",
    "## Conclusion"
   ]
  },
  {
   "cell_type": "markdown",
   "metadata": {},
   "source": [
    "Our task was to set the parameters that would allow us to build an automated system. During the analysis, we came to the conclusion that the cost of an apartment in St. Petersburg and the surrounding areas is most affected by the total area of the object, the number of rooms in it and the distance from the center. \n",
    "\n",
    "The area of the conditional \"center\" was determined, where the cost of objects lies within certain limits and these boundaries are clearly visible if we compare the costs of \"central\" and \"non-central\" apartments. Thus, if we consider a newly published ad for the sale of an apartment, and at the same time the distance from the center is indicated for this ad, we can make some assumptions about how much the apartment will eventually be sold for.\n",
    "\n",
    "On average, apartments are sold in 95 days. This data can be used, for example, as a means of reminding the user that it is probably worth updating the description of the ad or, for example, changing the cost of the apartment.\n",
    "\n",
    "The correlation between the date of submission of the ad and the final cost of the sale has not been found."
   ]
  }
 ],
 "metadata": {
  "ExecuteTimeLog": [
   {
    "duration": 978,
    "start_time": "2022-02-22T22:13:18.132Z"
   },
   {
    "duration": 1290,
    "start_time": "2022-02-22T22:13:33.051Z"
   },
   {
    "duration": 13,
    "start_time": "2022-02-22T22:13:34.343Z"
   },
   {
    "duration": 121,
    "start_time": "2022-02-22T22:13:34.360Z"
   },
   {
    "duration": 39,
    "start_time": "2022-02-22T22:13:34.494Z"
   },
   {
    "duration": 10,
    "start_time": "2022-02-22T22:13:34.535Z"
   },
   {
    "duration": 11,
    "start_time": "2022-02-22T22:13:34.547Z"
   },
   {
    "duration": 49,
    "start_time": "2022-02-22T22:13:34.561Z"
   },
   {
    "duration": 59,
    "start_time": "2022-02-22T22:13:34.614Z"
   },
   {
    "duration": 66,
    "start_time": "2022-02-22T22:13:34.695Z"
   },
   {
    "duration": 85,
    "start_time": "2022-02-22T22:13:34.764Z"
   },
   {
    "duration": 106,
    "start_time": "2022-02-22T22:13:34.851Z"
   },
   {
    "duration": 7,
    "start_time": "2022-02-22T22:13:34.959Z"
   },
   {
    "duration": 998,
    "start_time": "2022-02-22T22:13:34.968Z"
   },
   {
    "duration": 48,
    "start_time": "2022-02-22T22:13:35.968Z"
   },
   {
    "duration": 30,
    "start_time": "2022-02-22T22:13:36.018Z"
   },
   {
    "duration": 56,
    "start_time": "2022-02-22T22:13:36.051Z"
   },
   {
    "duration": 31,
    "start_time": "2022-02-22T22:13:36.110Z"
   },
   {
    "duration": 3201,
    "start_time": "2022-02-22T22:13:36.143Z"
   },
   {
    "duration": 950,
    "start_time": "2022-02-22T22:13:39.347Z"
   },
   {
    "duration": 363,
    "start_time": "2022-02-22T22:13:40.300Z"
   },
   {
    "duration": 9,
    "start_time": "2022-02-22T22:13:40.665Z"
   },
   {
    "duration": 610,
    "start_time": "2022-02-22T22:13:40.676Z"
   },
   {
    "duration": 664,
    "start_time": "2022-02-22T22:13:41.292Z"
   },
   {
    "duration": 15,
    "start_time": "2022-02-22T22:13:41.960Z"
   },
   {
    "duration": 57,
    "start_time": "2022-02-22T22:13:41.978Z"
   },
   {
    "duration": 12,
    "start_time": "2022-02-22T22:13:42.038Z"
   },
   {
    "duration": 287,
    "start_time": "2022-02-22T22:13:42.053Z"
   },
   {
    "duration": 14,
    "start_time": "2022-02-22T22:13:42.343Z"
   },
   {
    "duration": 291,
    "start_time": "2022-02-22T22:13:42.360Z"
   },
   {
    "duration": 262,
    "start_time": "2022-02-22T22:13:42.654Z"
   },
   {
    "duration": 237,
    "start_time": "2022-02-22T22:13:42.919Z"
   },
   {
    "duration": 353,
    "start_time": "2022-02-22T22:13:43.159Z"
   },
   {
    "duration": 242,
    "start_time": "2022-02-22T22:13:43.514Z"
   },
   {
    "duration": 341,
    "start_time": "2022-02-22T22:13:43.758Z"
   },
   {
    "duration": 252,
    "start_time": "2022-02-22T22:13:44.101Z"
   },
   {
    "duration": 250,
    "start_time": "2022-02-22T22:13:44.356Z"
   },
   {
    "duration": 250,
    "start_time": "2022-02-22T22:13:44.609Z"
   },
   {
    "duration": 14,
    "start_time": "2022-02-22T22:13:44.862Z"
   },
   {
    "duration": 12676,
    "start_time": "2022-02-22T22:13:44.895Z"
   },
   {
    "duration": 8913,
    "start_time": "2022-02-22T22:13:57.573Z"
   },
   {
    "duration": 38,
    "start_time": "2022-02-22T22:14:06.493Z"
   },
   {
    "duration": 70,
    "start_time": "2022-02-22T22:14:06.533Z"
   },
   {
    "duration": 31,
    "start_time": "2022-02-22T22:14:06.605Z"
   },
   {
    "duration": 749,
    "start_time": "2022-02-22T22:14:06.639Z"
   },
   {
    "duration": 54,
    "start_time": "2022-02-22T22:14:07.394Z"
   },
   {
    "duration": 3456,
    "start_time": "2022-02-22T22:14:07.451Z"
   },
   {
    "duration": 4710,
    "start_time": "2022-02-22T22:14:10.909Z"
   },
   {
    "duration": 15,
    "start_time": "2022-02-22T22:14:15.622Z"
   },
   {
    "duration": 156,
    "start_time": "2022-02-22T22:34:46.945Z"
   },
   {
    "duration": 1017,
    "start_time": "2022-03-05T08:27:55.172Z"
   },
   {
    "duration": 14,
    "start_time": "2022-03-05T08:27:56.191Z"
   },
   {
    "duration": 125,
    "start_time": "2022-03-05T08:27:56.208Z"
   },
   {
    "duration": 47,
    "start_time": "2022-03-05T08:27:56.336Z"
   },
   {
    "duration": 8,
    "start_time": "2022-03-05T08:27:56.386Z"
   },
   {
    "duration": 16,
    "start_time": "2022-03-05T08:27:56.396Z"
   },
   {
    "duration": 20,
    "start_time": "2022-03-05T08:27:56.414Z"
   },
   {
    "duration": 84,
    "start_time": "2022-03-05T08:27:56.438Z"
   },
   {
    "duration": 83,
    "start_time": "2022-03-05T08:27:56.526Z"
   },
   {
    "duration": 81,
    "start_time": "2022-03-05T08:27:56.612Z"
   },
   {
    "duration": 106,
    "start_time": "2022-03-05T08:27:56.695Z"
   },
   {
    "duration": 6,
    "start_time": "2022-03-05T08:27:56.803Z"
   },
   {
    "duration": 1025,
    "start_time": "2022-03-05T08:27:56.812Z"
   },
   {
    "duration": 49,
    "start_time": "2022-03-05T08:27:57.839Z"
   },
   {
    "duration": 29,
    "start_time": "2022-03-05T08:27:57.890Z"
   },
   {
    "duration": 54,
    "start_time": "2022-03-05T08:27:57.922Z"
   },
   {
    "duration": 29,
    "start_time": "2022-03-05T08:27:57.978Z"
   },
   {
    "duration": 2966,
    "start_time": "2022-03-05T08:27:58.010Z"
   },
   {
    "duration": 860,
    "start_time": "2022-03-05T08:28:00.978Z"
   },
   {
    "duration": 351,
    "start_time": "2022-03-05T08:28:01.841Z"
   },
   {
    "duration": 7,
    "start_time": "2022-03-05T08:28:02.195Z"
   },
   {
    "duration": 585,
    "start_time": "2022-03-05T08:28:02.205Z"
   },
   {
    "duration": 547,
    "start_time": "2022-03-05T08:28:02.795Z"
   },
   {
    "duration": 29,
    "start_time": "2022-03-05T08:28:03.345Z"
   },
   {
    "duration": 36,
    "start_time": "2022-03-05T08:28:03.377Z"
   },
   {
    "duration": 11,
    "start_time": "2022-03-05T08:28:03.415Z"
   },
   {
    "duration": 290,
    "start_time": "2022-03-05T08:28:03.429Z"
   },
   {
    "duration": 10,
    "start_time": "2022-03-05T08:28:03.722Z"
   },
   {
    "duration": 267,
    "start_time": "2022-03-05T08:28:03.735Z"
   },
   {
    "duration": 261,
    "start_time": "2022-03-05T08:28:04.005Z"
   },
   {
    "duration": 231,
    "start_time": "2022-03-05T08:28:04.268Z"
   },
   {
    "duration": 249,
    "start_time": "2022-03-05T08:28:04.502Z"
   },
   {
    "duration": 252,
    "start_time": "2022-03-05T08:28:04.754Z"
   },
   {
    "duration": 346,
    "start_time": "2022-03-05T08:28:05.009Z"
   },
   {
    "duration": 237,
    "start_time": "2022-03-05T08:28:05.357Z"
   },
   {
    "duration": 242,
    "start_time": "2022-03-05T08:28:05.597Z"
   },
   {
    "duration": 246,
    "start_time": "2022-03-05T08:28:05.841Z"
   },
   {
    "duration": 15,
    "start_time": "2022-03-05T08:28:06.089Z"
   },
   {
    "duration": 12759,
    "start_time": "2022-03-05T08:28:06.107Z"
   },
   {
    "duration": 8624,
    "start_time": "2022-03-05T08:28:18.868Z"
   },
   {
    "duration": 36,
    "start_time": "2022-03-05T08:28:27.495Z"
   },
   {
    "duration": 62,
    "start_time": "2022-03-05T08:28:27.534Z"
   },
   {
    "duration": 33,
    "start_time": "2022-03-05T08:28:27.598Z"
   },
   {
    "duration": 612,
    "start_time": "2022-03-05T08:28:27.633Z"
   },
   {
    "duration": 48,
    "start_time": "2022-03-05T08:28:28.249Z"
   },
   {
    "duration": 3270,
    "start_time": "2022-03-05T08:28:28.300Z"
   },
   {
    "duration": 5207,
    "start_time": "2022-03-05T08:28:31.574Z"
   },
   {
    "duration": 11,
    "start_time": "2022-03-05T08:28:36.783Z"
   },
   {
    "duration": 89,
    "start_time": "2022-03-05T08:45:54.314Z"
   },
   {
    "duration": 35,
    "start_time": "2022-03-05T09:07:45.400Z"
   },
   {
    "duration": 243,
    "start_time": "2022-03-05T09:12:35.610Z"
   },
   {
    "duration": 819,
    "start_time": "2022-03-05T10:58:01.990Z"
   },
   {
    "duration": 10,
    "start_time": "2022-03-05T10:58:02.811Z"
   },
   {
    "duration": 74,
    "start_time": "2022-03-05T10:58:02.823Z"
   },
   {
    "duration": 28,
    "start_time": "2022-03-05T10:58:02.899Z"
   },
   {
    "duration": 6,
    "start_time": "2022-03-05T10:58:02.929Z"
   },
   {
    "duration": 18,
    "start_time": "2022-03-05T10:58:02.936Z"
   },
   {
    "duration": 20,
    "start_time": "2022-03-05T10:58:02.955Z"
   },
   {
    "duration": 43,
    "start_time": "2022-03-05T10:58:02.978Z"
   },
   {
    "duration": 48,
    "start_time": "2022-03-05T10:58:03.023Z"
   },
   {
    "duration": 49,
    "start_time": "2022-03-05T10:58:03.077Z"
   },
   {
    "duration": 72,
    "start_time": "2022-03-05T10:58:03.128Z"
   },
   {
    "duration": 6,
    "start_time": "2022-03-05T10:58:03.201Z"
   },
   {
    "duration": 758,
    "start_time": "2022-03-05T10:58:03.208Z"
   },
   {
    "duration": 31,
    "start_time": "2022-03-05T10:58:03.968Z"
   },
   {
    "duration": 18,
    "start_time": "2022-03-05T10:58:04.001Z"
   },
   {
    "duration": 23,
    "start_time": "2022-03-05T10:58:04.021Z"
   },
   {
    "duration": 41,
    "start_time": "2022-03-05T10:58:04.046Z"
   },
   {
    "duration": 2010,
    "start_time": "2022-03-05T10:58:04.089Z"
   },
   {
    "duration": 594,
    "start_time": "2022-03-05T10:58:06.101Z"
   },
   {
    "duration": 243,
    "start_time": "2022-03-05T10:58:06.697Z"
   },
   {
    "duration": 5,
    "start_time": "2022-03-05T10:58:06.942Z"
   },
   {
    "duration": 391,
    "start_time": "2022-03-05T10:58:06.949Z"
   },
   {
    "duration": 369,
    "start_time": "2022-03-05T10:58:07.343Z"
   },
   {
    "duration": 8,
    "start_time": "2022-03-05T10:58:07.715Z"
   },
   {
    "duration": 21,
    "start_time": "2022-03-05T10:58:07.725Z"
   },
   {
    "duration": 33,
    "start_time": "2022-03-05T10:58:07.747Z"
   },
   {
    "duration": 164,
    "start_time": "2022-03-05T10:58:07.782Z"
   },
   {
    "duration": 9,
    "start_time": "2022-03-05T10:58:07.948Z"
   },
   {
    "duration": 195,
    "start_time": "2022-03-05T10:58:07.959Z"
   },
   {
    "duration": 170,
    "start_time": "2022-03-05T10:58:08.155Z"
   },
   {
    "duration": 164,
    "start_time": "2022-03-05T10:58:08.326Z"
   },
   {
    "duration": 164,
    "start_time": "2022-03-05T10:58:08.492Z"
   },
   {
    "duration": 157,
    "start_time": "2022-03-05T10:58:08.658Z"
   },
   {
    "duration": 241,
    "start_time": "2022-03-05T10:58:08.817Z"
   },
   {
    "duration": 156,
    "start_time": "2022-03-05T10:58:09.060Z"
   },
   {
    "duration": 167,
    "start_time": "2022-03-05T10:58:09.218Z"
   },
   {
    "duration": 174,
    "start_time": "2022-03-05T10:58:09.388Z"
   },
   {
    "duration": 20,
    "start_time": "2022-03-05T10:58:09.564Z"
   },
   {
    "duration": 8639,
    "start_time": "2022-03-05T10:58:09.586Z"
   },
   {
    "duration": 5735,
    "start_time": "2022-03-05T10:58:18.227Z"
   },
   {
    "duration": 33,
    "start_time": "2022-03-05T10:58:23.964Z"
   },
   {
    "duration": 24,
    "start_time": "2022-03-05T10:58:24.000Z"
   },
   {
    "duration": 52,
    "start_time": "2022-03-05T10:58:24.027Z"
   },
   {
    "duration": 280,
    "start_time": "2022-03-05T10:58:24.081Z"
   },
   {
    "duration": 891,
    "start_time": "2022-03-05T10:58:23.471Z"
   },
   {
    "duration": 882,
    "start_time": "2022-03-05T10:58:23.481Z"
   },
   {
    "duration": 872,
    "start_time": "2022-03-05T10:58:23.492Z"
   },
   {
    "duration": 866,
    "start_time": "2022-03-05T10:58:23.499Z"
   },
   {
    "duration": 42,
    "start_time": "2022-03-05T11:02:12.474Z"
   },
   {
    "duration": 65,
    "start_time": "2022-03-05T11:03:41.596Z"
   },
   {
    "duration": 67,
    "start_time": "2022-03-05T11:04:39.556Z"
   },
   {
    "duration": 46,
    "start_time": "2022-03-05T11:07:24.450Z"
   },
   {
    "duration": 91,
    "start_time": "2022-03-05T11:08:58.135Z"
   },
   {
    "duration": 9,
    "start_time": "2022-03-05T11:08:58.227Z"
   },
   {
    "duration": 85,
    "start_time": "2022-03-05T11:08:58.238Z"
   },
   {
    "duration": 24,
    "start_time": "2022-03-05T11:08:58.325Z"
   },
   {
    "duration": 30,
    "start_time": "2022-03-05T11:08:58.351Z"
   },
   {
    "duration": 12,
    "start_time": "2022-03-05T11:08:58.382Z"
   },
   {
    "duration": 14,
    "start_time": "2022-03-05T11:08:58.396Z"
   },
   {
    "duration": 36,
    "start_time": "2022-03-05T11:08:58.412Z"
   },
   {
    "duration": 67,
    "start_time": "2022-03-05T11:08:58.450Z"
   },
   {
    "duration": 28,
    "start_time": "2022-03-05T11:08:58.519Z"
   },
   {
    "duration": 79,
    "start_time": "2022-03-05T11:08:58.549Z"
   },
   {
    "duration": 260,
    "start_time": "2022-03-05T11:08:58.630Z"
   },
   {
    "duration": 489,
    "start_time": "2022-03-05T11:08:58.403Z"
   },
   {
    "duration": 483,
    "start_time": "2022-03-05T11:08:58.410Z"
   },
   {
    "duration": 475,
    "start_time": "2022-03-05T11:08:58.419Z"
   },
   {
    "duration": 468,
    "start_time": "2022-03-05T11:08:58.427Z"
   },
   {
    "duration": 462,
    "start_time": "2022-03-05T11:08:58.434Z"
   },
   {
    "duration": 458,
    "start_time": "2022-03-05T11:08:58.439Z"
   },
   {
    "duration": 453,
    "start_time": "2022-03-05T11:08:58.445Z"
   },
   {
    "duration": 448,
    "start_time": "2022-03-05T11:08:58.451Z"
   },
   {
    "duration": 380,
    "start_time": "2022-03-05T11:08:58.520Z"
   },
   {
    "duration": 374,
    "start_time": "2022-03-05T11:08:58.526Z"
   },
   {
    "duration": 368,
    "start_time": "2022-03-05T11:08:58.533Z"
   },
   {
    "duration": 358,
    "start_time": "2022-03-05T11:08:58.544Z"
   },
   {
    "duration": 350,
    "start_time": "2022-03-05T11:08:58.553Z"
   },
   {
    "duration": 345,
    "start_time": "2022-03-05T11:08:58.560Z"
   },
   {
    "duration": 337,
    "start_time": "2022-03-05T11:08:58.568Z"
   },
   {
    "duration": 331,
    "start_time": "2022-03-05T11:08:58.575Z"
   },
   {
    "duration": 326,
    "start_time": "2022-03-05T11:08:58.581Z"
   },
   {
    "duration": 319,
    "start_time": "2022-03-05T11:08:58.589Z"
   },
   {
    "duration": 311,
    "start_time": "2022-03-05T11:08:58.598Z"
   },
   {
    "duration": 303,
    "start_time": "2022-03-05T11:08:58.607Z"
   },
   {
    "duration": 296,
    "start_time": "2022-03-05T11:08:58.615Z"
   },
   {
    "duration": 245,
    "start_time": "2022-03-05T11:08:58.667Z"
   },
   {
    "duration": 240,
    "start_time": "2022-03-05T11:08:58.673Z"
   },
   {
    "duration": 232,
    "start_time": "2022-03-05T11:08:58.682Z"
   },
   {
    "duration": 225,
    "start_time": "2022-03-05T11:08:58.690Z"
   },
   {
    "duration": 217,
    "start_time": "2022-03-05T11:08:58.699Z"
   },
   {
    "duration": 210,
    "start_time": "2022-03-05T11:08:58.707Z"
   },
   {
    "duration": 202,
    "start_time": "2022-03-05T11:08:58.716Z"
   },
   {
    "duration": 195,
    "start_time": "2022-03-05T11:08:58.724Z"
   },
   {
    "duration": 187,
    "start_time": "2022-03-05T11:08:58.733Z"
   },
   {
    "duration": 180,
    "start_time": "2022-03-05T11:08:58.741Z"
   },
   {
    "duration": 173,
    "start_time": "2022-03-05T11:08:58.749Z"
   },
   {
    "duration": 169,
    "start_time": "2022-03-05T11:08:58.754Z"
   },
   {
    "duration": 163,
    "start_time": "2022-03-05T11:08:58.761Z"
   },
   {
    "duration": 122,
    "start_time": "2022-03-05T11:08:58.803Z"
   },
   {
    "duration": 118,
    "start_time": "2022-03-05T11:08:58.808Z"
   },
   {
    "duration": 220,
    "start_time": "2022-03-05T11:10:11.286Z"
   },
   {
    "duration": 213,
    "start_time": "2022-03-05T11:10:21.955Z"
   },
   {
    "duration": 34,
    "start_time": "2022-03-05T11:10:30.835Z"
   },
   {
    "duration": 34,
    "start_time": "2022-03-05T11:10:47.876Z"
   },
   {
    "duration": 8,
    "start_time": "2022-03-05T11:11:14.469Z"
   },
   {
    "duration": 8,
    "start_time": "2022-03-05T11:11:21.238Z"
   },
   {
    "duration": 10,
    "start_time": "2022-03-05T11:16:21.946Z"
   },
   {
    "duration": 11,
    "start_time": "2022-03-05T11:16:30.154Z"
   },
   {
    "duration": 16,
    "start_time": "2022-03-05T11:19:57.208Z"
   },
   {
    "duration": 21,
    "start_time": "2022-03-05T11:19:59.890Z"
   },
   {
    "duration": 21,
    "start_time": "2022-03-05T11:23:25.532Z"
   },
   {
    "duration": 7,
    "start_time": "2022-03-05T11:23:28.359Z"
   },
   {
    "duration": 75,
    "start_time": "2022-03-05T11:41:58.736Z"
   },
   {
    "duration": 73,
    "start_time": "2022-03-05T11:57:10.284Z"
   },
   {
    "duration": 73,
    "start_time": "2022-03-05T11:57:15.464Z"
   },
   {
    "duration": 72,
    "start_time": "2022-03-05T11:57:22.908Z"
   },
   {
    "duration": 83,
    "start_time": "2022-03-05T11:57:39.961Z"
   },
   {
    "duration": 29,
    "start_time": "2022-03-05T11:57:55.064Z"
   },
   {
    "duration": 5,
    "start_time": "2022-03-05T11:58:17.704Z"
   },
   {
    "duration": 33,
    "start_time": "2022-03-05T11:58:27.034Z"
   },
   {
    "duration": 790,
    "start_time": "2022-03-05T11:58:43.095Z"
   },
   {
    "duration": 9,
    "start_time": "2022-03-05T11:58:43.887Z"
   },
   {
    "duration": 82,
    "start_time": "2022-03-05T11:58:43.899Z"
   },
   {
    "duration": 27,
    "start_time": "2022-03-05T11:58:43.984Z"
   },
   {
    "duration": 7,
    "start_time": "2022-03-05T11:58:44.013Z"
   },
   {
    "duration": 6,
    "start_time": "2022-03-05T11:58:44.022Z"
   },
   {
    "duration": 9,
    "start_time": "2022-03-05T11:58:44.030Z"
   },
   {
    "duration": 44,
    "start_time": "2022-03-05T11:58:44.041Z"
   },
   {
    "duration": 20,
    "start_time": "2022-03-05T11:58:44.087Z"
   },
   {
    "duration": 20,
    "start_time": "2022-03-05T11:58:44.109Z"
   },
   {
    "duration": 49,
    "start_time": "2022-03-05T11:58:44.131Z"
   },
   {
    "duration": 38,
    "start_time": "2022-03-05T11:58:44.182Z"
   },
   {
    "duration": 61,
    "start_time": "2022-03-05T11:58:44.222Z"
   },
   {
    "duration": 28,
    "start_time": "2022-03-05T11:58:44.284Z"
   },
   {
    "duration": 72,
    "start_time": "2022-03-05T11:58:44.314Z"
   },
   {
    "duration": 294,
    "start_time": "2022-03-05T11:58:44.388Z"
   },
   {
    "duration": 300,
    "start_time": "2022-03-05T11:58:44.385Z"
   },
   {
    "duration": 292,
    "start_time": "2022-03-05T11:58:44.394Z"
   },
   {
    "duration": 284,
    "start_time": "2022-03-05T11:58:44.402Z"
   },
   {
    "duration": 279,
    "start_time": "2022-03-05T11:58:44.409Z"
   },
   {
    "duration": 272,
    "start_time": "2022-03-05T11:58:44.416Z"
   },
   {
    "duration": 263,
    "start_time": "2022-03-05T11:58:44.426Z"
   },
   {
    "duration": 256,
    "start_time": "2022-03-05T11:58:44.434Z"
   },
   {
    "duration": 248,
    "start_time": "2022-03-05T11:58:44.444Z"
   },
   {
    "duration": 241,
    "start_time": "2022-03-05T11:58:44.452Z"
   },
   {
    "duration": 236,
    "start_time": "2022-03-05T11:58:44.458Z"
   },
   {
    "duration": 231,
    "start_time": "2022-03-05T11:58:44.464Z"
   },
   {
    "duration": 225,
    "start_time": "2022-03-05T11:58:44.471Z"
   },
   {
    "duration": 220,
    "start_time": "2022-03-05T11:58:44.477Z"
   },
   {
    "duration": 171,
    "start_time": "2022-03-05T11:58:44.527Z"
   },
   {
    "duration": 165,
    "start_time": "2022-03-05T11:58:44.534Z"
   },
   {
    "duration": 118,
    "start_time": "2022-03-05T11:58:44.582Z"
   },
   {
    "duration": 115,
    "start_time": "2022-03-05T11:58:44.586Z"
   },
   {
    "duration": 109,
    "start_time": "2022-03-05T11:58:44.592Z"
   },
   {
    "duration": 105,
    "start_time": "2022-03-05T11:58:44.597Z"
   },
   {
    "duration": 101,
    "start_time": "2022-03-05T11:58:44.602Z"
   },
   {
    "duration": 97,
    "start_time": "2022-03-05T11:58:44.607Z"
   },
   {
    "duration": 93,
    "start_time": "2022-03-05T11:58:44.612Z"
   },
   {
    "duration": 89,
    "start_time": "2022-03-05T11:58:44.617Z"
   },
   {
    "duration": 85,
    "start_time": "2022-03-05T11:58:44.622Z"
   },
   {
    "duration": 54,
    "start_time": "2022-03-05T11:58:44.654Z"
   },
   {
    "duration": 50,
    "start_time": "2022-03-05T11:58:44.659Z"
   },
   {
    "duration": 46,
    "start_time": "2022-03-05T11:58:44.664Z"
   },
   {
    "duration": 42,
    "start_time": "2022-03-05T11:58:44.669Z"
   },
   {
    "duration": 38,
    "start_time": "2022-03-05T11:58:44.674Z"
   },
   {
    "duration": 34,
    "start_time": "2022-03-05T11:58:44.679Z"
   },
   {
    "duration": 30,
    "start_time": "2022-03-05T11:58:44.684Z"
   },
   {
    "duration": 26,
    "start_time": "2022-03-05T11:58:44.689Z"
   },
   {
    "duration": 22,
    "start_time": "2022-03-05T11:58:44.694Z"
   },
   {
    "duration": 14,
    "start_time": "2022-03-05T11:58:44.703Z"
   },
   {
    "duration": 10,
    "start_time": "2022-03-05T11:58:44.708Z"
   },
   {
    "duration": 6,
    "start_time": "2022-03-05T11:58:44.713Z"
   },
   {
    "duration": 4,
    "start_time": "2022-03-05T11:59:02.888Z"
   },
   {
    "duration": 95,
    "start_time": "2022-03-05T12:01:22.356Z"
   },
   {
    "duration": 26,
    "start_time": "2022-03-05T12:01:22.453Z"
   },
   {
    "duration": 68,
    "start_time": "2022-03-05T12:01:22.481Z"
   },
   {
    "duration": 41,
    "start_time": "2022-03-05T12:01:22.551Z"
   },
   {
    "duration": 6,
    "start_time": "2022-03-05T12:01:22.594Z"
   },
   {
    "duration": 9,
    "start_time": "2022-03-05T12:01:22.602Z"
   },
   {
    "duration": 10,
    "start_time": "2022-03-05T12:01:22.613Z"
   },
   {
    "duration": 22,
    "start_time": "2022-03-05T12:01:22.626Z"
   },
   {
    "duration": 29,
    "start_time": "2022-03-05T12:01:22.650Z"
   },
   {
    "duration": 20,
    "start_time": "2022-03-05T12:01:22.681Z"
   },
   {
    "duration": 32,
    "start_time": "2022-03-05T12:01:22.703Z"
   },
   {
    "duration": 56,
    "start_time": "2022-03-05T12:01:22.736Z"
   },
   {
    "duration": 43,
    "start_time": "2022-03-05T12:01:22.794Z"
   },
   {
    "duration": 45,
    "start_time": "2022-03-05T12:01:22.839Z"
   },
   {
    "duration": 56,
    "start_time": "2022-03-05T12:01:22.886Z"
   },
   {
    "duration": 795,
    "start_time": "2022-03-05T12:01:53.484Z"
   },
   {
    "duration": 10,
    "start_time": "2022-03-05T12:01:54.281Z"
   },
   {
    "duration": 90,
    "start_time": "2022-03-05T12:01:54.293Z"
   },
   {
    "duration": 27,
    "start_time": "2022-03-05T12:01:54.385Z"
   },
   {
    "duration": 7,
    "start_time": "2022-03-05T12:01:54.413Z"
   },
   {
    "duration": 9,
    "start_time": "2022-03-05T12:01:54.421Z"
   },
   {
    "duration": 10,
    "start_time": "2022-03-05T12:01:54.432Z"
   },
   {
    "duration": 36,
    "start_time": "2022-03-05T12:01:54.445Z"
   },
   {
    "duration": 19,
    "start_time": "2022-03-05T12:01:54.483Z"
   },
   {
    "duration": 20,
    "start_time": "2022-03-05T12:01:54.504Z"
   },
   {
    "duration": 33,
    "start_time": "2022-03-05T12:01:54.526Z"
   },
   {
    "duration": 51,
    "start_time": "2022-03-05T12:01:54.560Z"
   },
   {
    "duration": 41,
    "start_time": "2022-03-05T12:01:54.613Z"
   },
   {
    "duration": 45,
    "start_time": "2022-03-05T12:01:54.656Z"
   },
   {
    "duration": 79,
    "start_time": "2022-03-05T12:01:54.702Z"
   },
   {
    "duration": 4,
    "start_time": "2022-03-05T12:01:54.782Z"
   },
   {
    "duration": 643,
    "start_time": "2022-03-05T12:01:54.788Z"
   },
   {
    "duration": 27,
    "start_time": "2022-03-05T12:01:55.433Z"
   },
   {
    "duration": 27,
    "start_time": "2022-03-05T12:01:55.461Z"
   },
   {
    "duration": 19,
    "start_time": "2022-03-05T12:01:55.490Z"
   },
   {
    "duration": 18,
    "start_time": "2022-03-05T12:01:55.511Z"
   },
   {
    "duration": 2036,
    "start_time": "2022-03-05T12:01:55.531Z"
   },
   {
    "duration": 599,
    "start_time": "2022-03-05T12:01:57.571Z"
   },
   {
    "duration": 244,
    "start_time": "2022-03-05T12:01:58.172Z"
   },
   {
    "duration": 6,
    "start_time": "2022-03-05T12:01:58.418Z"
   },
   {
    "duration": 388,
    "start_time": "2022-03-05T12:01:58.426Z"
   },
   {
    "duration": 366,
    "start_time": "2022-03-05T12:01:58.815Z"
   },
   {
    "duration": 9,
    "start_time": "2022-03-05T12:01:59.183Z"
   },
   {
    "duration": 20,
    "start_time": "2022-03-05T12:01:59.193Z"
   },
   {
    "duration": 8,
    "start_time": "2022-03-05T12:01:59.215Z"
   },
   {
    "duration": 195,
    "start_time": "2022-03-05T12:01:59.225Z"
   },
   {
    "duration": 9,
    "start_time": "2022-03-05T12:01:59.422Z"
   },
   {
    "duration": 186,
    "start_time": "2022-03-05T12:01:59.433Z"
   },
   {
    "duration": 173,
    "start_time": "2022-03-05T12:01:59.621Z"
   },
   {
    "duration": 159,
    "start_time": "2022-03-05T12:01:59.795Z"
   },
   {
    "duration": 161,
    "start_time": "2022-03-05T12:01:59.956Z"
   },
   {
    "duration": 167,
    "start_time": "2022-03-05T12:02:00.119Z"
   },
   {
    "duration": 247,
    "start_time": "2022-03-05T12:02:00.288Z"
   },
   {
    "duration": 175,
    "start_time": "2022-03-05T12:02:00.537Z"
   },
   {
    "duration": 177,
    "start_time": "2022-03-05T12:02:00.713Z"
   },
   {
    "duration": 187,
    "start_time": "2022-03-05T12:02:00.892Z"
   },
   {
    "duration": 11,
    "start_time": "2022-03-05T12:02:01.080Z"
   },
   {
    "duration": 8812,
    "start_time": "2022-03-05T12:02:01.093Z"
   },
   {
    "duration": 5730,
    "start_time": "2022-03-05T12:02:09.907Z"
   },
   {
    "duration": 26,
    "start_time": "2022-03-05T12:02:15.639Z"
   },
   {
    "duration": 25,
    "start_time": "2022-03-05T12:02:15.678Z"
   },
   {
    "duration": 24,
    "start_time": "2022-03-05T12:02:15.705Z"
   },
   {
    "duration": 309,
    "start_time": "2022-03-05T12:02:15.730Z"
   },
   {
    "duration": 914,
    "start_time": "2022-03-05T12:02:15.128Z"
   },
   {
    "duration": 907,
    "start_time": "2022-03-05T12:02:15.137Z"
   },
   {
    "duration": 900,
    "start_time": "2022-03-05T12:02:15.145Z"
   },
   {
    "duration": 893,
    "start_time": "2022-03-05T12:02:15.154Z"
   },
   {
    "duration": 149,
    "start_time": "2022-03-05T12:33:38.670Z"
   },
   {
    "duration": 27,
    "start_time": "2022-03-05T12:33:44.142Z"
   },
   {
    "duration": 6785,
    "start_time": "2022-03-05T12:35:11.416Z"
   },
   {
    "duration": 25,
    "start_time": "2022-03-05T12:36:29.436Z"
   },
   {
    "duration": 30,
    "start_time": "2022-03-05T12:37:15.949Z"
   },
   {
    "duration": 295,
    "start_time": "2022-03-05T12:38:29.769Z"
   },
   {
    "duration": 296,
    "start_time": "2022-03-05T12:38:53.688Z"
   },
   {
    "duration": 25,
    "start_time": "2022-03-05T12:38:53.986Z"
   },
   {
    "duration": 2178,
    "start_time": "2022-03-05T12:38:54.013Z"
   },
   {
    "duration": 3164,
    "start_time": "2022-03-05T12:38:56.193Z"
   },
   {
    "duration": 18,
    "start_time": "2022-03-05T12:38:59.360Z"
   },
   {
    "duration": 990,
    "start_time": "2022-03-06T06:09:51.865Z"
   },
   {
    "duration": 13,
    "start_time": "2022-03-06T06:09:52.858Z"
   },
   {
    "duration": 129,
    "start_time": "2022-03-06T06:09:52.874Z"
   },
   {
    "duration": 51,
    "start_time": "2022-03-06T06:09:53.006Z"
   },
   {
    "duration": 9,
    "start_time": "2022-03-06T06:09:53.059Z"
   },
   {
    "duration": 7,
    "start_time": "2022-03-06T06:09:53.070Z"
   },
   {
    "duration": 9,
    "start_time": "2022-03-06T06:09:53.079Z"
   },
   {
    "duration": 21,
    "start_time": "2022-03-06T06:09:53.131Z"
   },
   {
    "duration": 18,
    "start_time": "2022-03-06T06:09:53.155Z"
   },
   {
    "duration": 27,
    "start_time": "2022-03-06T06:09:53.176Z"
   },
   {
    "duration": 71,
    "start_time": "2022-03-06T06:09:53.205Z"
   },
   {
    "duration": 68,
    "start_time": "2022-03-06T06:09:53.279Z"
   },
   {
    "duration": 64,
    "start_time": "2022-03-06T06:09:53.349Z"
   },
   {
    "duration": 55,
    "start_time": "2022-03-06T06:09:53.415Z"
   },
   {
    "duration": 108,
    "start_time": "2022-03-06T06:09:53.473Z"
   },
   {
    "duration": 4,
    "start_time": "2022-03-06T06:09:53.583Z"
   },
   {
    "duration": 969,
    "start_time": "2022-03-06T06:09:53.589Z"
   },
   {
    "duration": 33,
    "start_time": "2022-03-06T06:09:54.560Z"
   },
   {
    "duration": 46,
    "start_time": "2022-03-06T06:09:54.595Z"
   },
   {
    "duration": 27,
    "start_time": "2022-03-06T06:09:54.644Z"
   },
   {
    "duration": 27,
    "start_time": "2022-03-06T06:09:54.673Z"
   },
   {
    "duration": 2878,
    "start_time": "2022-03-06T06:09:54.732Z"
   },
   {
    "duration": 840,
    "start_time": "2022-03-06T06:09:57.615Z"
   },
   {
    "duration": 342,
    "start_time": "2022-03-06T06:09:58.458Z"
   },
   {
    "duration": 7,
    "start_time": "2022-03-06T06:09:58.803Z"
   },
   {
    "duration": 566,
    "start_time": "2022-03-06T06:09:58.813Z"
   },
   {
    "duration": 521,
    "start_time": "2022-03-06T06:09:59.382Z"
   },
   {
    "duration": 12,
    "start_time": "2022-03-06T06:09:59.905Z"
   },
   {
    "duration": 31,
    "start_time": "2022-03-06T06:09:59.933Z"
   },
   {
    "duration": 12,
    "start_time": "2022-03-06T06:09:59.966Z"
   },
   {
    "duration": 280,
    "start_time": "2022-03-06T06:09:59.980Z"
   },
   {
    "duration": 13,
    "start_time": "2022-03-06T06:10:00.263Z"
   },
   {
    "duration": 266,
    "start_time": "2022-03-06T06:10:00.278Z"
   },
   {
    "duration": 265,
    "start_time": "2022-03-06T06:10:00.547Z"
   },
   {
    "duration": 232,
    "start_time": "2022-03-06T06:10:00.815Z"
   },
   {
    "duration": 235,
    "start_time": "2022-03-06T06:10:01.050Z"
   },
   {
    "duration": 240,
    "start_time": "2022-03-06T06:10:01.287Z"
   },
   {
    "duration": 325,
    "start_time": "2022-03-06T06:10:01.532Z"
   },
   {
    "duration": 236,
    "start_time": "2022-03-06T06:10:01.859Z"
   },
   {
    "duration": 240,
    "start_time": "2022-03-06T06:10:02.098Z"
   },
   {
    "duration": 242,
    "start_time": "2022-03-06T06:10:02.341Z"
   },
   {
    "duration": 17,
    "start_time": "2022-03-06T06:10:02.586Z"
   },
   {
    "duration": 12058,
    "start_time": "2022-03-06T06:10:02.606Z"
   },
   {
    "duration": 8038,
    "start_time": "2022-03-06T06:10:14.667Z"
   },
   {
    "duration": 47,
    "start_time": "2022-03-06T06:10:22.707Z"
   },
   {
    "duration": 33,
    "start_time": "2022-03-06T06:10:22.756Z"
   },
   {
    "duration": 58,
    "start_time": "2022-03-06T06:10:22.791Z"
   },
   {
    "duration": 456,
    "start_time": "2022-03-06T06:10:22.851Z"
   },
   {
    "duration": 48,
    "start_time": "2022-03-06T06:10:23.309Z"
   },
   {
    "duration": 2987,
    "start_time": "2022-03-06T06:10:23.360Z"
   },
   {
    "duration": 4288,
    "start_time": "2022-03-06T06:10:26.349Z"
   },
   {
    "duration": 14,
    "start_time": "2022-03-06T06:10:30.640Z"
   }
  ],
  "kernelspec": {
   "display_name": "Python 3 (ipykernel)",
   "language": "python",
   "name": "python3"
  },
  "language_info": {
   "codemirror_mode": {
    "name": "ipython",
    "version": 3
   },
   "file_extension": ".py",
   "mimetype": "text/x-python",
   "name": "python",
   "nbconvert_exporter": "python",
   "pygments_lexer": "ipython3",
   "version": "3.9.7"
  },
  "toc": {
   "base_numbering": 1,
   "nav_menu": {},
   "number_sections": true,
   "sideBar": true,
   "skip_h1_title": true,
   "title_cell": "Содержание",
   "title_sidebar": "Contents",
   "toc_cell": true,
   "toc_position": {
    "height": "calc(100% - 180px)",
    "left": "10px",
    "top": "150px",
    "width": "186.396px"
   },
   "toc_section_display": true,
   "toc_window_display": true
  }
 },
 "nbformat": 4,
 "nbformat_minor": 4
}
